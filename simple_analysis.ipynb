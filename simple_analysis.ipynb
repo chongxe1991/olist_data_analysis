{
 "cells": [
  {
   "cell_type": "markdown",
   "metadata": {},
   "source": [
    "# Simple orders analysis"
   ]
  },
  {
   "cell_type": "markdown",
   "metadata": {},
   "source": [
    "🚀 The objective of this analysis is to get an initial understanding of:\n",
    "- `orders` properties\n",
    "- their associated `review_scores`"
   ]
  },
  {
   "cell_type": "code",
   "execution_count": 1,
   "metadata": {},
   "outputs": [],
   "source": [
    "# Modules are imported\n",
    "import pandas as pd\n",
    "import numpy as np \n",
    "import seaborn as sns\n",
    "import matplotlib.pyplot as plt\n",
    "\n",
    "%load_ext autoreload\n",
    "%autoreload 2\n",
    "\n",
    "# The _order_ training set is imported\n",
    "from order import Order"
   ]
  },
  {
   "cell_type": "code",
   "execution_count": 7,
   "metadata": {},
   "outputs": [
    {
     "data": {
      "text/html": [
       "<div>\n",
       "<style scoped>\n",
       "    .dataframe tbody tr th:only-of-type {\n",
       "        vertical-align: middle;\n",
       "    }\n",
       "\n",
       "    .dataframe tbody tr th {\n",
       "        vertical-align: top;\n",
       "    }\n",
       "\n",
       "    .dataframe thead th {\n",
       "        text-align: right;\n",
       "    }\n",
       "</style>\n",
       "<table border=\"1\" class=\"dataframe\">\n",
       "  <thead>\n",
       "    <tr style=\"text-align: right;\">\n",
       "      <th></th>\n",
       "      <th>order_id</th>\n",
       "      <th>wait_time</th>\n",
       "      <th>expected_wait_time</th>\n",
       "      <th>delay_vs_expected</th>\n",
       "      <th>order_status</th>\n",
       "      <th>dim_is_five_star</th>\n",
       "      <th>dim_is_one_star</th>\n",
       "      <th>review_score</th>\n",
       "      <th>number_of_products</th>\n",
       "      <th>number_of_sellers</th>\n",
       "      <th>price</th>\n",
       "      <th>freight_value</th>\n",
       "      <th>distance_seller_customer</th>\n",
       "    </tr>\n",
       "  </thead>\n",
       "  <tbody>\n",
       "    <tr>\n",
       "      <th>0</th>\n",
       "      <td>e481f51cbdc54678b7cc49136f2d6af7</td>\n",
       "      <td>8.0</td>\n",
       "      <td>15.0</td>\n",
       "      <td>0.0</td>\n",
       "      <td>delivered</td>\n",
       "      <td>0</td>\n",
       "      <td>0</td>\n",
       "      <td>4</td>\n",
       "      <td>1</td>\n",
       "      <td>1</td>\n",
       "      <td>29.99</td>\n",
       "      <td>8.72</td>\n",
       "      <td>18.063837</td>\n",
       "    </tr>\n",
       "    <tr>\n",
       "      <th>1</th>\n",
       "      <td>53cdb2fc8bc7dce0b6741e2150273451</td>\n",
       "      <td>13.0</td>\n",
       "      <td>19.0</td>\n",
       "      <td>0.0</td>\n",
       "      <td>delivered</td>\n",
       "      <td>0</td>\n",
       "      <td>0</td>\n",
       "      <td>4</td>\n",
       "      <td>1</td>\n",
       "      <td>1</td>\n",
       "      <td>118.70</td>\n",
       "      <td>22.76</td>\n",
       "      <td>856.292580</td>\n",
       "    </tr>\n",
       "    <tr>\n",
       "      <th>2</th>\n",
       "      <td>47770eb9100c2d0c44946d9cf07ec65d</td>\n",
       "      <td>9.0</td>\n",
       "      <td>26.0</td>\n",
       "      <td>0.0</td>\n",
       "      <td>delivered</td>\n",
       "      <td>1</td>\n",
       "      <td>0</td>\n",
       "      <td>5</td>\n",
       "      <td>1</td>\n",
       "      <td>1</td>\n",
       "      <td>159.90</td>\n",
       "      <td>19.22</td>\n",
       "      <td>514.130333</td>\n",
       "    </tr>\n",
       "    <tr>\n",
       "      <th>3</th>\n",
       "      <td>949d5b44dbf5de918fe9c16f97b45f8a</td>\n",
       "      <td>13.0</td>\n",
       "      <td>26.0</td>\n",
       "      <td>0.0</td>\n",
       "      <td>delivered</td>\n",
       "      <td>1</td>\n",
       "      <td>0</td>\n",
       "      <td>5</td>\n",
       "      <td>1</td>\n",
       "      <td>1</td>\n",
       "      <td>45.00</td>\n",
       "      <td>27.20</td>\n",
       "      <td>1822.800366</td>\n",
       "    </tr>\n",
       "    <tr>\n",
       "      <th>4</th>\n",
       "      <td>ad21c59c0840e6cb83a9ceb5573f8159</td>\n",
       "      <td>2.0</td>\n",
       "      <td>12.0</td>\n",
       "      <td>0.0</td>\n",
       "      <td>delivered</td>\n",
       "      <td>1</td>\n",
       "      <td>0</td>\n",
       "      <td>5</td>\n",
       "      <td>1</td>\n",
       "      <td>1</td>\n",
       "      <td>19.90</td>\n",
       "      <td>8.72</td>\n",
       "      <td>30.174037</td>\n",
       "    </tr>\n",
       "    <tr>\n",
       "      <th>...</th>\n",
       "      <td>...</td>\n",
       "      <td>...</td>\n",
       "      <td>...</td>\n",
       "      <td>...</td>\n",
       "      <td>...</td>\n",
       "      <td>...</td>\n",
       "      <td>...</td>\n",
       "      <td>...</td>\n",
       "      <td>...</td>\n",
       "      <td>...</td>\n",
       "      <td>...</td>\n",
       "      <td>...</td>\n",
       "      <td>...</td>\n",
       "    </tr>\n",
       "    <tr>\n",
       "      <th>95875</th>\n",
       "      <td>9c5dedf39a927c1b2549525ed64a053c</td>\n",
       "      <td>8.0</td>\n",
       "      <td>18.0</td>\n",
       "      <td>0.0</td>\n",
       "      <td>delivered</td>\n",
       "      <td>1</td>\n",
       "      <td>0</td>\n",
       "      <td>5</td>\n",
       "      <td>1</td>\n",
       "      <td>1</td>\n",
       "      <td>72.00</td>\n",
       "      <td>13.08</td>\n",
       "      <td>69.481037</td>\n",
       "    </tr>\n",
       "    <tr>\n",
       "      <th>95876</th>\n",
       "      <td>63943bddc261676b46f01ca7ac2f7bd8</td>\n",
       "      <td>22.0</td>\n",
       "      <td>23.0</td>\n",
       "      <td>0.0</td>\n",
       "      <td>delivered</td>\n",
       "      <td>0</td>\n",
       "      <td>0</td>\n",
       "      <td>4</td>\n",
       "      <td>1</td>\n",
       "      <td>1</td>\n",
       "      <td>174.90</td>\n",
       "      <td>20.10</td>\n",
       "      <td>474.098245</td>\n",
       "    </tr>\n",
       "    <tr>\n",
       "      <th>95877</th>\n",
       "      <td>83c1379a015df1e13d02aae0204711ab</td>\n",
       "      <td>24.0</td>\n",
       "      <td>30.0</td>\n",
       "      <td>0.0</td>\n",
       "      <td>delivered</td>\n",
       "      <td>1</td>\n",
       "      <td>0</td>\n",
       "      <td>5</td>\n",
       "      <td>1</td>\n",
       "      <td>1</td>\n",
       "      <td>205.99</td>\n",
       "      <td>65.02</td>\n",
       "      <td>968.051192</td>\n",
       "    </tr>\n",
       "    <tr>\n",
       "      <th>95878</th>\n",
       "      <td>11c177c8e97725db2631073c19f07b62</td>\n",
       "      <td>17.0</td>\n",
       "      <td>37.0</td>\n",
       "      <td>0.0</td>\n",
       "      <td>delivered</td>\n",
       "      <td>0</td>\n",
       "      <td>0</td>\n",
       "      <td>2</td>\n",
       "      <td>2</td>\n",
       "      <td>1</td>\n",
       "      <td>359.98</td>\n",
       "      <td>81.18</td>\n",
       "      <td>370.146853</td>\n",
       "    </tr>\n",
       "    <tr>\n",
       "      <th>95879</th>\n",
       "      <td>66dea50a8b16d9b4dee7af250b4be1a5</td>\n",
       "      <td>7.0</td>\n",
       "      <td>25.0</td>\n",
       "      <td>0.0</td>\n",
       "      <td>delivered</td>\n",
       "      <td>1</td>\n",
       "      <td>0</td>\n",
       "      <td>5</td>\n",
       "      <td>1</td>\n",
       "      <td>1</td>\n",
       "      <td>68.50</td>\n",
       "      <td>18.36</td>\n",
       "      <td>631.817784</td>\n",
       "    </tr>\n",
       "  </tbody>\n",
       "</table>\n",
       "<p>95872 rows × 13 columns</p>\n",
       "</div>"
      ],
      "text/plain": [
       "                               order_id  wait_time  expected_wait_time  \\\n",
       "0      e481f51cbdc54678b7cc49136f2d6af7        8.0                15.0   \n",
       "1      53cdb2fc8bc7dce0b6741e2150273451       13.0                19.0   \n",
       "2      47770eb9100c2d0c44946d9cf07ec65d        9.0                26.0   \n",
       "3      949d5b44dbf5de918fe9c16f97b45f8a       13.0                26.0   \n",
       "4      ad21c59c0840e6cb83a9ceb5573f8159        2.0                12.0   \n",
       "...                                 ...        ...                 ...   \n",
       "95875  9c5dedf39a927c1b2549525ed64a053c        8.0                18.0   \n",
       "95876  63943bddc261676b46f01ca7ac2f7bd8       22.0                23.0   \n",
       "95877  83c1379a015df1e13d02aae0204711ab       24.0                30.0   \n",
       "95878  11c177c8e97725db2631073c19f07b62       17.0                37.0   \n",
       "95879  66dea50a8b16d9b4dee7af250b4be1a5        7.0                25.0   \n",
       "\n",
       "       delay_vs_expected order_status  dim_is_five_star  dim_is_one_star  \\\n",
       "0                    0.0    delivered                 0                0   \n",
       "1                    0.0    delivered                 0                0   \n",
       "2                    0.0    delivered                 1                0   \n",
       "3                    0.0    delivered                 1                0   \n",
       "4                    0.0    delivered                 1                0   \n",
       "...                  ...          ...               ...              ...   \n",
       "95875                0.0    delivered                 1                0   \n",
       "95876                0.0    delivered                 0                0   \n",
       "95877                0.0    delivered                 1                0   \n",
       "95878                0.0    delivered                 0                0   \n",
       "95879                0.0    delivered                 1                0   \n",
       "\n",
       "       review_score  number_of_products  number_of_sellers   price  \\\n",
       "0                 4                   1                  1   29.99   \n",
       "1                 4                   1                  1  118.70   \n",
       "2                 5                   1                  1  159.90   \n",
       "3                 5                   1                  1   45.00   \n",
       "4                 5                   1                  1   19.90   \n",
       "...             ...                 ...                ...     ...   \n",
       "95875             5                   1                  1   72.00   \n",
       "95876             4                   1                  1  174.90   \n",
       "95877             5                   1                  1  205.99   \n",
       "95878             2                   2                  1  359.98   \n",
       "95879             5                   1                  1   68.50   \n",
       "\n",
       "       freight_value  distance_seller_customer  \n",
       "0               8.72                 18.063837  \n",
       "1              22.76                856.292580  \n",
       "2              19.22                514.130333  \n",
       "3              27.20               1822.800366  \n",
       "4               8.72                 30.174037  \n",
       "...              ...                       ...  \n",
       "95875          13.08                 69.481037  \n",
       "95876          20.10                474.098245  \n",
       "95877          65.02                968.051192  \n",
       "95878          81.18                370.146853  \n",
       "95879          18.36                631.817784  \n",
       "\n",
       "[95872 rows x 13 columns]"
      ]
     },
     "execution_count": 7,
     "metadata": {},
     "output_type": "execute_result"
    }
   ],
   "source": [
    "orders = Order().get_training_data()\n",
    "\n",
    "orders"
   ]
  },
  {
   "cell_type": "code",
   "execution_count": 8,
   "metadata": {},
   "outputs": [
    {
     "data": {
      "text/plain": [
       "(95872, 13)"
      ]
     },
     "execution_count": 8,
     "metadata": {},
     "output_type": "execute_result"
    }
   ],
   "source": [
    "# Shape is checked\n",
    "orders.shape"
   ]
  },
  {
   "cell_type": "markdown",
   "metadata": {
    "slideshow": {
     "slide_type": "slide"
    }
   },
   "source": [
    "## 1 - Features are inspected"
   ]
  },
  {
   "cell_type": "markdown",
   "metadata": {},
   "source": [
    "👉 Summary statistics of each column of the order dataset are printed (`wait_time` is particularly focused on)"
   ]
  },
  {
   "cell_type": "code",
   "execution_count": 9,
   "metadata": {
    "tags": [
     "challengify"
    ]
   },
   "outputs": [
    {
     "data": {
      "text/html": [
       "<div>\n",
       "<style scoped>\n",
       "    .dataframe tbody tr th:only-of-type {\n",
       "        vertical-align: middle;\n",
       "    }\n",
       "\n",
       "    .dataframe tbody tr th {\n",
       "        vertical-align: top;\n",
       "    }\n",
       "\n",
       "    .dataframe thead th {\n",
       "        text-align: right;\n",
       "    }\n",
       "</style>\n",
       "<table border=\"1\" class=\"dataframe\">\n",
       "  <thead>\n",
       "    <tr style=\"text-align: right;\">\n",
       "      <th></th>\n",
       "      <th>wait_time</th>\n",
       "      <th>expected_wait_time</th>\n",
       "      <th>delay_vs_expected</th>\n",
       "      <th>dim_is_five_star</th>\n",
       "      <th>dim_is_one_star</th>\n",
       "      <th>review_score</th>\n",
       "      <th>number_of_products</th>\n",
       "      <th>number_of_sellers</th>\n",
       "      <th>price</th>\n",
       "      <th>freight_value</th>\n",
       "      <th>distance_seller_customer</th>\n",
       "    </tr>\n",
       "  </thead>\n",
       "  <tbody>\n",
       "    <tr>\n",
       "      <th>count</th>\n",
       "      <td>95872.000000</td>\n",
       "      <td>95872.000000</td>\n",
       "      <td>95872.000000</td>\n",
       "      <td>95872.000000</td>\n",
       "      <td>95872.000000</td>\n",
       "      <td>95872.000000</td>\n",
       "      <td>95872.000000</td>\n",
       "      <td>95872.000000</td>\n",
       "      <td>95872.000000</td>\n",
       "      <td>95872.000000</td>\n",
       "      <td>95872.000000</td>\n",
       "    </tr>\n",
       "    <tr>\n",
       "      <th>mean</th>\n",
       "      <td>12.049055</td>\n",
       "      <td>23.375532</td>\n",
       "      <td>0.698692</td>\n",
       "      <td>0.592112</td>\n",
       "      <td>0.097651</td>\n",
       "      <td>4.155509</td>\n",
       "      <td>1.141783</td>\n",
       "      <td>1.013914</td>\n",
       "      <td>136.692876</td>\n",
       "      <td>22.749945</td>\n",
       "      <td>600.673668</td>\n",
       "    </tr>\n",
       "    <tr>\n",
       "      <th>std</th>\n",
       "      <td>9.460375</td>\n",
       "      <td>8.764119</td>\n",
       "      <td>4.556638</td>\n",
       "      <td>0.491445</td>\n",
       "      <td>0.296844</td>\n",
       "      <td>1.285113</td>\n",
       "      <td>0.535848</td>\n",
       "      <td>0.123635</td>\n",
       "      <td>207.672996</td>\n",
       "      <td>21.517061</td>\n",
       "      <td>594.818600</td>\n",
       "    </tr>\n",
       "    <tr>\n",
       "      <th>min</th>\n",
       "      <td>0.000000</td>\n",
       "      <td>2.000000</td>\n",
       "      <td>0.000000</td>\n",
       "      <td>0.000000</td>\n",
       "      <td>0.000000</td>\n",
       "      <td>1.000000</td>\n",
       "      <td>1.000000</td>\n",
       "      <td>1.000000</td>\n",
       "      <td>0.850000</td>\n",
       "      <td>0.000000</td>\n",
       "      <td>0.000000</td>\n",
       "    </tr>\n",
       "    <tr>\n",
       "      <th>25%</th>\n",
       "      <td>6.000000</td>\n",
       "      <td>18.000000</td>\n",
       "      <td>0.000000</td>\n",
       "      <td>0.000000</td>\n",
       "      <td>0.000000</td>\n",
       "      <td>4.000000</td>\n",
       "      <td>1.000000</td>\n",
       "      <td>1.000000</td>\n",
       "      <td>45.900000</td>\n",
       "      <td>13.820000</td>\n",
       "      <td>187.199770</td>\n",
       "    </tr>\n",
       "    <tr>\n",
       "      <th>50%</th>\n",
       "      <td>10.000000</td>\n",
       "      <td>23.000000</td>\n",
       "      <td>0.000000</td>\n",
       "      <td>1.000000</td>\n",
       "      <td>0.000000</td>\n",
       "      <td>5.000000</td>\n",
       "      <td>1.000000</td>\n",
       "      <td>1.000000</td>\n",
       "      <td>85.990000</td>\n",
       "      <td>17.160000</td>\n",
       "      <td>433.943032</td>\n",
       "    </tr>\n",
       "    <tr>\n",
       "      <th>75%</th>\n",
       "      <td>15.000000</td>\n",
       "      <td>28.000000</td>\n",
       "      <td>0.000000</td>\n",
       "      <td>1.000000</td>\n",
       "      <td>0.000000</td>\n",
       "      <td>5.000000</td>\n",
       "      <td>1.000000</td>\n",
       "      <td>1.000000</td>\n",
       "      <td>149.900000</td>\n",
       "      <td>23.990000</td>\n",
       "      <td>797.505559</td>\n",
       "    </tr>\n",
       "    <tr>\n",
       "      <th>max</th>\n",
       "      <td>208.000000</td>\n",
       "      <td>155.000000</td>\n",
       "      <td>188.000000</td>\n",
       "      <td>1.000000</td>\n",
       "      <td>1.000000</td>\n",
       "      <td>5.000000</td>\n",
       "      <td>21.000000</td>\n",
       "      <td>5.000000</td>\n",
       "      <td>13440.000000</td>\n",
       "      <td>1794.960000</td>\n",
       "      <td>8736.947618</td>\n",
       "    </tr>\n",
       "  </tbody>\n",
       "</table>\n",
       "</div>"
      ],
      "text/plain": [
       "          wait_time  expected_wait_time  delay_vs_expected  dim_is_five_star  \\\n",
       "count  95872.000000        95872.000000       95872.000000      95872.000000   \n",
       "mean      12.049055           23.375532           0.698692          0.592112   \n",
       "std        9.460375            8.764119           4.556638          0.491445   \n",
       "min        0.000000            2.000000           0.000000          0.000000   \n",
       "25%        6.000000           18.000000           0.000000          0.000000   \n",
       "50%       10.000000           23.000000           0.000000          1.000000   \n",
       "75%       15.000000           28.000000           0.000000          1.000000   \n",
       "max      208.000000          155.000000         188.000000          1.000000   \n",
       "\n",
       "       dim_is_one_star  review_score  number_of_products  number_of_sellers  \\\n",
       "count     95872.000000  95872.000000        95872.000000       95872.000000   \n",
       "mean          0.097651      4.155509            1.141783           1.013914   \n",
       "std           0.296844      1.285113            0.535848           0.123635   \n",
       "min           0.000000      1.000000            1.000000           1.000000   \n",
       "25%           0.000000      4.000000            1.000000           1.000000   \n",
       "50%           0.000000      5.000000            1.000000           1.000000   \n",
       "75%           0.000000      5.000000            1.000000           1.000000   \n",
       "max           1.000000      5.000000           21.000000           5.000000   \n",
       "\n",
       "              price  freight_value  distance_seller_customer  \n",
       "count  95872.000000   95872.000000              95872.000000  \n",
       "mean     136.692876      22.749945                600.673668  \n",
       "std      207.672996      21.517061                594.818600  \n",
       "min        0.850000       0.000000                  0.000000  \n",
       "25%       45.900000      13.820000                187.199770  \n",
       "50%       85.990000      17.160000                433.943032  \n",
       "75%      149.900000      23.990000                797.505559  \n",
       "max    13440.000000    1794.960000               8736.947618  "
      ]
     },
     "execution_count": 9,
     "metadata": {},
     "output_type": "execute_result"
    }
   ],
   "source": [
    "orders.describe()"
   ]
  },
  {
   "cell_type": "code",
   "execution_count": 10,
   "metadata": {},
   "outputs": [
    {
     "data": {
      "text/html": [
       "<div>\n",
       "<style scoped>\n",
       "    .dataframe tbody tr th:only-of-type {\n",
       "        vertical-align: middle;\n",
       "    }\n",
       "\n",
       "    .dataframe tbody tr th {\n",
       "        vertical-align: top;\n",
       "    }\n",
       "\n",
       "    .dataframe thead th {\n",
       "        text-align: right;\n",
       "    }\n",
       "</style>\n",
       "<table border=\"1\" class=\"dataframe\">\n",
       "  <thead>\n",
       "    <tr style=\"text-align: right;\">\n",
       "      <th></th>\n",
       "      <th>wait_time</th>\n",
       "    </tr>\n",
       "  </thead>\n",
       "  <tbody>\n",
       "    <tr>\n",
       "      <th>count</th>\n",
       "      <td>95872.000000</td>\n",
       "    </tr>\n",
       "    <tr>\n",
       "      <th>mean</th>\n",
       "      <td>12.049055</td>\n",
       "    </tr>\n",
       "    <tr>\n",
       "      <th>std</th>\n",
       "      <td>9.460375</td>\n",
       "    </tr>\n",
       "    <tr>\n",
       "      <th>min</th>\n",
       "      <td>0.000000</td>\n",
       "    </tr>\n",
       "    <tr>\n",
       "      <th>25%</th>\n",
       "      <td>6.000000</td>\n",
       "    </tr>\n",
       "    <tr>\n",
       "      <th>50%</th>\n",
       "      <td>10.000000</td>\n",
       "    </tr>\n",
       "    <tr>\n",
       "      <th>75%</th>\n",
       "      <td>15.000000</td>\n",
       "    </tr>\n",
       "    <tr>\n",
       "      <th>max</th>\n",
       "      <td>208.000000</td>\n",
       "    </tr>\n",
       "  </tbody>\n",
       "</table>\n",
       "</div>"
      ],
      "text/plain": [
       "          wait_time\n",
       "count  95872.000000\n",
       "mean      12.049055\n",
       "std        9.460375\n",
       "min        0.000000\n",
       "25%        6.000000\n",
       "50%       10.000000\n",
       "75%       15.000000\n",
       "max      208.000000"
      ]
     },
     "execution_count": 10,
     "metadata": {},
     "output_type": "execute_result"
    }
   ],
   "source": [
    "orders[[\"wait_time\"]].describe()"
   ]
  },
  {
   "cell_type": "markdown",
   "metadata": {},
   "source": [
    "📈 Histograms are plotted to get a sense of the distribution of each numerical feature."
   ]
  },
  {
   "cell_type": "code",
   "execution_count": 16,
   "metadata": {
    "tags": [
     "challengify"
    ]
   },
   "outputs": [
    {
     "data": {
      "image/png": "[encoded data removed]",
      "text/plain": [
       "<Figure size 1440x1080 with 8 Axes>"
      ]
     },
     "metadata": {
      "needs_background": "light"
     },
     "output_type": "display_data"
    }
   ],
   "source": [
    "plt.figure(figsize = (20, 15))\n",
    "\n",
    "plt.subplot(3,3,1)\n",
    "a = sns.histplot(orders[\"dim_is_five_star\"], bins = 2)\n",
    "\n",
    "plt.subplot(3,3,2)\n",
    "b = sns.histplot(orders[\"dim_is_one_star\"], bins = 2)\n",
    "\n",
    "plt.subplot(3,3,3)\n",
    "c = sns.histplot(orders[\"review_score\"], bins = 5)\n",
    "\n",
    "plt.subplot(3,3,4)\n",
    "d = sns.histplot(orders[\"number_of_products\"])\n",
    "d.set_yscale(\"log\")\n",
    "\n",
    "plt.subplot(3,3,5)\n",
    "e = sns.histplot(orders[\"number_of_sellers\"], bins = 5)\n",
    "e.set_yscale(\"log\")\n",
    "\n",
    "plt.subplot(3,3,6)\n",
    "f = sns.histplot(orders[\"price\"])\n",
    "f.set_xscale(\"log\")\n",
    "\n",
    "plt.subplot(3,3,7)\n",
    "g = sns.histplot(orders[\"freight_value\"])\n",
    "g.set_xscale(\"log\")\n",
    "\n",
    "plt.subplot(3,3,8)\n",
    "h = sns.histplot(orders[\"wait_time\"])\n",
    "g.set_xscale(\"log\")"
   ]
  },
  {
   "cell_type": "markdown",
   "metadata": {},
   "source": [
    "👀 An `sns.FacetGrid()` of histograms is created for each `review_score` vs. `wait_time`"
   ]
  },
  {
   "cell_type": "code",
   "execution_count": 18,
   "metadata": {
    "tags": [
     "challengify"
    ]
   },
   "outputs": [
    {
     "data": {
      "image/png": "[encoded data removed]",
      "text/plain": [
       "<Figure size 1080x216 with 5 Axes>"
      ]
     },
     "metadata": {
      "needs_background": "light"
     },
     "output_type": "display_data"
    }
   ],
   "source": [
    "g = sns.FacetGrid(orders, col=\"review_score\")\n",
    "g.map_dataframe(sns.histplot, x=\"wait_time\");"
   ]
  },
  {
   "cell_type": "markdown",
   "metadata": {},
   "source": [
    "❓ The  `distance_seller_customer` feature from `order.py` is investigated."
   ]
  },
  {
   "cell_type": "code",
   "execution_count": 20,
   "metadata": {
    "tags": [
     "challengify"
    ]
   },
   "outputs": [
    {
     "data": {
      "image/png": "[encoded data removed]",
      "text/plain": [
       "<Figure size 432x288 with 1 Axes>"
      ]
     },
     "metadata": {
      "needs_background": "light"
     },
     "output_type": "display_data"
    }
   ],
   "source": [
    "sns.regplot(x = \"price\", y = \"freight_value\", data = orders);"
   ]
  },
  {
   "cell_type": "markdown",
   "metadata": {},
   "source": [
    "❓The various correlations between features are inspected: which feature seems to the most correlated with `review_score`?\n",
    "\n",
    "<details>\n",
    "    <summary>▸ Details</summary>\n",
    "\n",
    "* `DataFrame.corr()` is used combined with `sns.heatmap()` and `cmap='coolwarm'`\n",
    "* The absolute values of the correlation coefficients of `review_score` vs. each feature is looked into,\n",
    "    * the higher the coefficient, the more one given feature is correlated (positively or negatively) with the `review_score`\n",
    "\n",
    "</details>"
   ]
  },
  {
   "cell_type": "code",
   "execution_count": 21,
   "metadata": {
    "tags": [
     "challengify"
    ]
   },
   "outputs": [
    {
     "data": {
      "text/html": [
       "<div>\n",
       "<style scoped>\n",
       "    .dataframe tbody tr th:only-of-type {\n",
       "        vertical-align: middle;\n",
       "    }\n",
       "\n",
       "    .dataframe tbody tr th {\n",
       "        vertical-align: top;\n",
       "    }\n",
       "\n",
       "    .dataframe thead th {\n",
       "        text-align: right;\n",
       "    }\n",
       "</style>\n",
       "<table border=\"1\" class=\"dataframe\">\n",
       "  <thead>\n",
       "    <tr style=\"text-align: right;\">\n",
       "      <th></th>\n",
       "      <th>wait_time</th>\n",
       "      <th>expected_wait_time</th>\n",
       "      <th>delay_vs_expected</th>\n",
       "      <th>dim_is_five_star</th>\n",
       "      <th>dim_is_one_star</th>\n",
       "      <th>review_score</th>\n",
       "      <th>number_of_products</th>\n",
       "      <th>number_of_sellers</th>\n",
       "      <th>price</th>\n",
       "      <th>freight_value</th>\n",
       "      <th>distance_seller_customer</th>\n",
       "    </tr>\n",
       "  </thead>\n",
       "  <tbody>\n",
       "    <tr>\n",
       "      <th>wait_time</th>\n",
       "      <td>1.000000</td>\n",
       "      <td>0.384890</td>\n",
       "      <td>0.693622</td>\n",
       "      <td>-0.233980</td>\n",
       "      <td>0.305500</td>\n",
       "      <td>-0.333895</td>\n",
       "      <td>-0.019835</td>\n",
       "      <td>-0.040803</td>\n",
       "      <td>0.055527</td>\n",
       "      <td>0.167221</td>\n",
       "      <td>0.394709</td>\n",
       "    </tr>\n",
       "    <tr>\n",
       "      <th>expected_wait_time</th>\n",
       "      <td>0.384890</td>\n",
       "      <td>1.000000</td>\n",
       "      <td>0.008143</td>\n",
       "      <td>-0.050328</td>\n",
       "      <td>0.034622</td>\n",
       "      <td>-0.052413</td>\n",
       "      <td>0.015497</td>\n",
       "      <td>0.024779</td>\n",
       "      <td>0.076746</td>\n",
       "      <td>0.238833</td>\n",
       "      <td>0.513680</td>\n",
       "    </tr>\n",
       "    <tr>\n",
       "      <th>delay_vs_expected</th>\n",
       "      <td>0.693622</td>\n",
       "      <td>0.008143</td>\n",
       "      <td>1.000000</td>\n",
       "      <td>-0.151041</td>\n",
       "      <td>0.276087</td>\n",
       "      <td>-0.263319</td>\n",
       "      <td>-0.013274</td>\n",
       "      <td>-0.016424</td>\n",
       "      <td>0.016497</td>\n",
       "      <td>0.023471</td>\n",
       "      <td>0.064709</td>\n",
       "    </tr>\n",
       "    <tr>\n",
       "      <th>dim_is_five_star</th>\n",
       "      <td>-0.233980</td>\n",
       "      <td>-0.050328</td>\n",
       "      <td>-0.151041</td>\n",
       "      <td>1.000000</td>\n",
       "      <td>-0.396354</td>\n",
       "      <td>0.791749</td>\n",
       "      <td>-0.072270</td>\n",
       "      <td>-0.070536</td>\n",
       "      <td>-0.012762</td>\n",
       "      <td>-0.058773</td>\n",
       "      <td>-0.056559</td>\n",
       "    </tr>\n",
       "    <tr>\n",
       "      <th>dim_is_one_star</th>\n",
       "      <td>0.305500</td>\n",
       "      <td>0.034622</td>\n",
       "      <td>0.276087</td>\n",
       "      <td>-0.396354</td>\n",
       "      <td>1.000000</td>\n",
       "      <td>-0.807758</td>\n",
       "      <td>0.119848</td>\n",
       "      <td>0.102241</td>\n",
       "      <td>0.044660</td>\n",
       "      <td>0.082778</td>\n",
       "      <td>0.043180</td>\n",
       "    </tr>\n",
       "    <tr>\n",
       "      <th>review_score</th>\n",
       "      <td>-0.333895</td>\n",
       "      <td>-0.052413</td>\n",
       "      <td>-0.263319</td>\n",
       "      <td>0.791749</td>\n",
       "      <td>-0.807758</td>\n",
       "      <td>1.000000</td>\n",
       "      <td>-0.123340</td>\n",
       "      <td>-0.117017</td>\n",
       "      <td>-0.034538</td>\n",
       "      <td>-0.090014</td>\n",
       "      <td>-0.059147</td>\n",
       "    </tr>\n",
       "    <tr>\n",
       "      <th>number_of_products</th>\n",
       "      <td>-0.019835</td>\n",
       "      <td>0.015497</td>\n",
       "      <td>-0.013274</td>\n",
       "      <td>-0.072270</td>\n",
       "      <td>0.119848</td>\n",
       "      <td>-0.123340</td>\n",
       "      <td>1.000000</td>\n",
       "      <td>0.288734</td>\n",
       "      <td>0.153551</td>\n",
       "      <td>0.438056</td>\n",
       "      <td>-0.017306</td>\n",
       "    </tr>\n",
       "    <tr>\n",
       "      <th>number_of_sellers</th>\n",
       "      <td>-0.040803</td>\n",
       "      <td>0.024779</td>\n",
       "      <td>-0.016424</td>\n",
       "      <td>-0.070536</td>\n",
       "      <td>0.102241</td>\n",
       "      <td>-0.117017</td>\n",
       "      <td>0.288734</td>\n",
       "      <td>1.000000</td>\n",
       "      <td>0.042986</td>\n",
       "      <td>0.133580</td>\n",
       "      <td>-0.007644</td>\n",
       "    </tr>\n",
       "    <tr>\n",
       "      <th>price</th>\n",
       "      <td>0.055527</td>\n",
       "      <td>0.076746</td>\n",
       "      <td>0.016497</td>\n",
       "      <td>-0.012762</td>\n",
       "      <td>0.044660</td>\n",
       "      <td>-0.034538</td>\n",
       "      <td>0.153551</td>\n",
       "      <td>0.042986</td>\n",
       "      <td>1.000000</td>\n",
       "      <td>0.410129</td>\n",
       "      <td>0.079348</td>\n",
       "    </tr>\n",
       "    <tr>\n",
       "      <th>freight_value</th>\n",
       "      <td>0.167221</td>\n",
       "      <td>0.238833</td>\n",
       "      <td>0.023471</td>\n",
       "      <td>-0.058773</td>\n",
       "      <td>0.082778</td>\n",
       "      <td>-0.090014</td>\n",
       "      <td>0.438056</td>\n",
       "      <td>0.133580</td>\n",
       "      <td>0.410129</td>\n",
       "      <td>1.000000</td>\n",
       "      <td>0.314188</td>\n",
       "    </tr>\n",
       "    <tr>\n",
       "      <th>distance_seller_customer</th>\n",
       "      <td>0.394709</td>\n",
       "      <td>0.513680</td>\n",
       "      <td>0.064709</td>\n",
       "      <td>-0.056559</td>\n",
       "      <td>0.043180</td>\n",
       "      <td>-0.059147</td>\n",
       "      <td>-0.017306</td>\n",
       "      <td>-0.007644</td>\n",
       "      <td>0.079348</td>\n",
       "      <td>0.314188</td>\n",
       "      <td>1.000000</td>\n",
       "    </tr>\n",
       "  </tbody>\n",
       "</table>\n",
       "</div>"
      ],
      "text/plain": [
       "                          wait_time  expected_wait_time  delay_vs_expected  \\\n",
       "wait_time                  1.000000            0.384890           0.693622   \n",
       "expected_wait_time         0.384890            1.000000           0.008143   \n",
       "delay_vs_expected          0.693622            0.008143           1.000000   \n",
       "dim_is_five_star          -0.233980           -0.050328          -0.151041   \n",
       "dim_is_one_star            0.305500            0.034622           0.276087   \n",
       "review_score              -0.333895           -0.052413          -0.263319   \n",
       "number_of_products        -0.019835            0.015497          -0.013274   \n",
       "number_of_sellers         -0.040803            0.024779          -0.016424   \n",
       "price                      0.055527            0.076746           0.016497   \n",
       "freight_value              0.167221            0.238833           0.023471   \n",
       "distance_seller_customer   0.394709            0.513680           0.064709   \n",
       "\n",
       "                          dim_is_five_star  dim_is_one_star  review_score  \\\n",
       "wait_time                        -0.233980         0.305500     -0.333895   \n",
       "expected_wait_time               -0.050328         0.034622     -0.052413   \n",
       "delay_vs_expected                -0.151041         0.276087     -0.263319   \n",
       "dim_is_five_star                  1.000000        -0.396354      0.791749   \n",
       "dim_is_one_star                  -0.396354         1.000000     -0.807758   \n",
       "review_score                      0.791749        -0.807758      1.000000   \n",
       "number_of_products               -0.072270         0.119848     -0.123340   \n",
       "number_of_sellers                -0.070536         0.102241     -0.117017   \n",
       "price                            -0.012762         0.044660     -0.034538   \n",
       "freight_value                    -0.058773         0.082778     -0.090014   \n",
       "distance_seller_customer         -0.056559         0.043180     -0.059147   \n",
       "\n",
       "                          number_of_products  number_of_sellers     price  \\\n",
       "wait_time                          -0.019835          -0.040803  0.055527   \n",
       "expected_wait_time                  0.015497           0.024779  0.076746   \n",
       "delay_vs_expected                  -0.013274          -0.016424  0.016497   \n",
       "dim_is_five_star                   -0.072270          -0.070536 -0.012762   \n",
       "dim_is_one_star                     0.119848           0.102241  0.044660   \n",
       "review_score                       -0.123340          -0.117017 -0.034538   \n",
       "number_of_products                  1.000000           0.288734  0.153551   \n",
       "number_of_sellers                   0.288734           1.000000  0.042986   \n",
       "price                               0.153551           0.042986  1.000000   \n",
       "freight_value                       0.438056           0.133580  0.410129   \n",
       "distance_seller_customer           -0.017306          -0.007644  0.079348   \n",
       "\n",
       "                          freight_value  distance_seller_customer  \n",
       "wait_time                      0.167221                  0.394709  \n",
       "expected_wait_time             0.238833                  0.513680  \n",
       "delay_vs_expected              0.023471                  0.064709  \n",
       "dim_is_five_star              -0.058773                 -0.056559  \n",
       "dim_is_one_star                0.082778                  0.043180  \n",
       "review_score                  -0.090014                 -0.059147  \n",
       "number_of_products             0.438056                 -0.017306  \n",
       "number_of_sellers              0.133580                 -0.007644  \n",
       "price                          0.410129                  0.079348  \n",
       "freight_value                  1.000000                  0.314188  \n",
       "distance_seller_customer       0.314188                  1.000000  "
      ]
     },
     "execution_count": 21,
     "metadata": {},
     "output_type": "execute_result"
    }
   ],
   "source": [
    "orders.corr()"
   ]
  },
  {
   "cell_type": "markdown",
   "metadata": {},
   "source": [
    "* 😏 _Observations :_\n",
    "    * `review_score` is 100% correlated to itself \n",
    "    * and strongly correlated to `dim_is_one_star` and `dim_is_five_star`...\n",
    "* ⚠️ The two next highest correlation coefficients with respect to the `review_score` are :\n",
    "    * `wait_time` : - 34 %\n",
    "    * `delay_vs_expected` : 27 %"
   ]
  },
  {
   "cell_type": "markdown",
   "metadata": {},
   "source": [
    "## 2 - Simple regression of `review_score` against delivery duration"
   ]
  },
  {
   "cell_type": "markdown",
   "metadata": {},
   "source": [
    "👉 It seems that `review_score` is mostly correlated with `wait_time` (= - 34%) and `delay_vs_expected` (27%).\n",
    "\n",
    "🎨 These correlations are investigated with `seaborn`"
   ]
  },
  {
   "cell_type": "markdown",
   "metadata": {},
   "source": [
    "### 2.1 Plots\n",
    "❓ In one figure, 2 subplots are created, that regress `review_score` on `wait_time` and `delay_vs_expected` respectively.\n",
    "\n",
    "<u>Details</u>:\n",
    "\n",
    "- The dataframe is reduced to a random sub-`sample of 10,000 rows` for speed purposes (a good practice in data exploration)\n",
    "- `DataFrame.sample()` is used with a fixed `random_state` to avoid changing the sample at each execution if needed\n",
    "- `sns.regplot()` is used to plot the `regression lines`\n",
    "- Some `y_jitter` parameters are added to better visualize the scatterplot density\n",
    "- `xlim` and `ylim` are set to hide outliers"
   ]
  },
  {
   "cell_type": "code",
   "execution_count": 22,
   "metadata": {
    "tags": [
     "challengify"
    ]
   },
   "outputs": [],
   "source": [
    "sample = orders.sample(10000, random_state = 100)"
   ]
  },
  {
   "cell_type": "code",
   "execution_count": 24,
   "metadata": {},
   "outputs": [
    {
     "data": {
      "image/png": "[encoded data removed]",
      "text/plain": [
       "<Figure size 720x720 with 2 Axes>"
      ]
     },
     "metadata": {
      "needs_background": "light"
     },
     "output_type": "display_data"
    }
   ],
   "source": [
    "plt.figure(figsize = (10, 10))\n",
    "plt.subplot(2,2,1)\n",
    "a = sns.regplot(x = \"wait_time\", y = \"review_score\", data = sample, y_jitter = 0.03)\n",
    "a.set(xlim = (0,100))\n",
    "a.set(ylim = (0, 6))\n",
    "\n",
    "plt.subplot(2,2,2)\n",
    "b = sns.regplot(x = \"delay_vs_expected\", y = \"review_score\", data = sample, y_jitter = 0.03)\n",
    "b.set(xlim = (-50, 100))\n",
    "b.set(ylim = (0, 6));"
   ]
  },
  {
   "cell_type": "markdown",
   "metadata": {},
   "source": [
    "ℹ️ `regplot` tried to perform a `Linear Regression` of the `review_score` vs. `wait_time` and `delay_vs_exp` <br/> *(Cf. Day 03 - Linear Regression tomorrow)*\n",
    "\n",
    "🧐 It is not very interpretable, as we have only 5  different review scores which can be interpreted as a categorical variable with five different possible values (for example: \"very bad\", \"bad\", \"average\", \"good\" and \"very good\") that we are trying to regress against two continuous values that are `wait_time` and `delay_vs_exp`.\n",
    "\n",
    "👀 However, based on the regression lines, we can see a very intuitive pattern: the longer the waiting time and/or the delay, the lower the review score -How fast does the review score decrease ?\n"
   ]
  },
  {
   "cell_type": "markdown",
   "metadata": {},
   "source": [
    "### 2.2 Interpretation"
   ]
  },
  {
   "cell_type": "markdown",
   "metadata": {},
   "source": [
    "❓ The `slope` of each curve are estimated visually. "
   ]
  },
  {
   "cell_type": "markdown",
   "metadata": {},
   "source": [
    "- `Slope wait_time ≈ -0.05` : \"For each additional day waiting for an order to be delivered, the review score on average is reduced by 0.05\"\n",
    "- `Slope delay ≈ -0.1` : \"For each additional day waiting for an order to be delivered _after the ETA_, the review score on average is reduced by 0.1\"\n",
    "\n",
    "❓ The delay seems more impactful than the waiting time.\n",
    "    \n",
    "👉Customer may be impatient to receive their orders and would like a small wait time, but they would be even more disappointed to receive their package after the expected delivery date!"
   ]
  },
  {
   "cell_type": "markdown",
   "metadata": {},
   "source": [
    "### 2.3 Inferential analysis\n",
    "\n",
    "Even if all 100,000 orders are used for these regplots, these orders only represent 16 months of data after all...\n",
    "\n",
    "⚠️⚠️⚠️ **How certain** are we that these coefficients are **statistically significant**? ⚠️⚠️⚠️\n",
    "\n",
    "⚡️ <u> Questions about the statistical significance of these coefficients: </u>\n",
    "\n",
    "* Are these coefficients able to generalize well to future orders (all else being equal) ? (*Ideal answer: Yes*) \n",
    "* Are we sure that these coefficients do not simply capture random fluctuations due to the limited observation period ? (*Ideal answer: No*) \n",
    "\n",
    "🧐 The **`confidence interval`** around the mean value for these two slopes needs to be estimated :\n",
    "$$slope_{wait} = -0.05 ± \\ ?? \\ \\text{[95% interval]} $$\n",
    "$$slope_{delay} = -0.1 ± \\ ?? \\ \\text{[95% interval]} $$\n",
    "\n",
    "⭐️ Fortunately, this 95% confidence interval is computed for us by `Seaborn` with a shaded blue cone around the regression line!\n",
    "\n",
    "❓`Seaborn` `regplot` is used to visualize the two confidence intervals:\n",
    "- The `size of sample dataset` is changed: \n",
    "    - The slope may change as the sample size becomes smaller. \n",
    "    - What about the confidence interval?\n",
    "- The `size of the confidence interval` is changed by playing with the regplot parameter called `ci` (95% by default)"
   ]
  },
  {
   "cell_type": "code",
   "execution_count": 25,
   "metadata": {
    "tags": [
     "challengify"
    ]
   },
   "outputs": [
    {
     "data": {
      "image/png": "[encoded data removed]",
      "text/plain": [
       "<Figure size 1080x360 with 2 Axes>"
      ]
     },
     "metadata": {
      "needs_background": "light"
     },
     "output_type": "display_data"
    }
   ],
   "source": [
    "sample = orders.sample(10000, random_state = 100)\n",
    "\n",
    "plt.figure(figsize = (15, 5))\n",
    "\n",
    "plt.subplot(1,2,1)\n",
    "a = sns.regplot(x = \"wait_time\", y = \"review_score\", data = sample, y_jitter = 0.03, ci = 95)\n",
    "a.set(xlim = (0,100))\n",
    "a.set(ylim = (0, 6))\n",
    "\n",
    "plt.subplot(1,2,2)\n",
    "b = sns.regplot(x = \"delay_vs_expected\", y = \"review_score\", data = sample, y_jitter = 0.03, ci = 95)\n",
    "b.set(xlim = (-50, 100))\n",
    "b.set(ylim = (0, 6));"
   ]
  },
  {
   "cell_type": "markdown",
   "metadata": {},
   "source": [
    "🔎 Interpretation:\n",
    "\n",
    "* **Null Hypothesis** $H_0$ : \"this variable does not influence the review score\", a.k.a its coefficient is equal to zero\n",
    "\n",
    "When plotting all datapoints:\n",
    "- The 95% confidence interval for the slope does not contain the value 0.\n",
    "    - 👉 We are `95% confident that slower deliveries are associated with weaker reviews`.\n",
    "- The **`p-value`** associated with the null hypothesis \"the delivery time is almost zero\" is lower than 5%\n",
    "    - 👉 We can safely reject this null hypothesis and consider the **`alternative hypothesis`** = `\"the delivery time has an impact on the review score\"` \n",
    "\n",
    "🔥 Our findings are said to be **statistically significant**. \n",
    "\n",
    "⚠️ However, **correlation does NOT imply causality**. \n",
    "\n",
    "- It can be inherently slower to deliver certain products (e.g.heavy products)\n",
    "    - These categories of products will often have a low review_score, not matter how long their delivery time is. \n",
    "\n",
    "👉 Identifying **confounding factor** is crucial and cannot be done with a simple univariate regression. \n"
   ]
  },
  {
   "cell_type": "code",
   "execution_count": null,
   "metadata": {},
   "outputs": [],
   "source": []
  }
 ],
 "metadata": {
  "kernelspec": {
   "display_name": "Python 3 (ipykernel)",
   "language": "python",
   "name": "python3"
  },
  "language_info": {
   "codemirror_mode": {
    "name": "ipython",
    "version": 3
   },
   "file_extension": ".py",
   "mimetype": "text/x-python",
   "name": "python",
   "nbconvert_exporter": "python",
   "pygments_lexer": "ipython3",
   "version": "3.8.12"
  },
  "toc": {
   "base_numbering": 1,
   "nav_menu": {},
   "number_sections": true,
   "sideBar": true,
   "skip_h1_title": false,
   "title_cell": "Table of Contents",
   "title_sidebar": "Contents",
   "toc_cell": false,
   "toc_position": {},
   "toc_section_display": true,
   "toc_window_display": false
  }
 },
 "nbformat": 4,
 "nbformat_minor": 4
}
