{
 "cells": [
  {
   "cell_type": "markdown",
   "metadata": {
    "slideshow": {
     "slide_type": "slide"
    }
   },
   "source": [
    "# Olist Profit Optimization Plan"
   ]
  },
  {
   "cell_type": "markdown",
   "metadata": {
    "slideshow": {
     "slide_type": "skip"
    }
   },
   "source": [
    "## 1. Problem statement (summarized)\n",
    "\n",
    ">❓ How should Olist improve its profit margin ❓, given that it has \n",
    "> - some revenues per sellers per months\n",
    "> - some revenues per orders\n",
    "> - some reputation costs (estimated) per bad reviews\n",
    "> - some operational costs of IT system that grows with number of orders, but not linearly (scale effects)\n",
    "\n",
    "\n",
    "Our key findings so far :\n",
    "- We have seen that `wait_time` was the most significant factor behind low review scores, but reading comments of the bad reviews also showed that some of them were linked to the seller or to the product itself.\n",
    "- `wait_time` is made up of seller's `delay_to_carrier` + `carrier_delivery_time`. The latter being outside of Olist's direct control, improving it is not a quick-win recommendation we can make to Olist CEO without in-depth analysis of their operational practices.\n",
    "- On the contrary, a better selection of `sellers` can positively impact the `delay_to_carrier` and reduce the number of bad `review_scores` on Olist.\n",
    "\n",
    "👉 The Seller analysis is started below, followed by investigation into other hypothesis"
   ]
  },
  {
   "cell_type": "markdown",
   "metadata": {
    "slideshow": {
     "slide_type": "slide"
    }
   },
   "source": [
    "# Should we remove underperforming sellers from our marketplace ?** 🕵🏻"
   ]
  },
  {
   "cell_type": "markdown",
   "metadata": {
    "slideshow": {
     "slide_type": "skip"
    }
   },
   "source": [
    "To analyse the impact of removing the worse sellers from Olist's marketplace, a what-if analysis is performed: What would have happened if Olist had never accepted these sellers in the first place? (granted, it's hard to know in advance who is a good seller, but this is a good starting point).\n",
    "\n",
    "1️⃣ For each `seller_id`, the following aspects are computed and cumulated since the beginning:\n",
    "- the `revenues` it brings\n",
    "- the `costs` associated with all its bad reviews\n",
    "- the resulting `profits` (revenues - costs)\n",
    "- the number of `orders` (it will impact the overall IT costs)\n",
    "\n",
    "\n",
    "2️⃣ Then:\n",
    "- sellers are sorted by increasing profits for Olist\n",
    "- for each number of sellers to remove, the financial impact it would have made if they had never been accepted on the platform is computed. \n",
    "- An optimal number of sellers to remove that maximizes Olist's profit margin is then calculated\n",
    "\n",
    "👉 A detailed strategy (step by step) is written to create the DataFrame needed for the first step.\n",
    "\n",
    "Starting from the current `seller().get_training_data()` DataFrame, is it possible to transform the data to compute:\n",
    "- Olist's positive `revenue_per_seller`?\n",
    "- Olist's `cost_of_bad_reviews`?"
   ]
  },
  {
   "cell_type": "code",
   "execution_count": 2,
   "metadata": {
    "slideshow": {
     "slide_type": "skip"
    }
   },
   "outputs": [],
   "source": [
    "#Modules are imported\n",
    "import pandas as pd\n",
    "import matplotlib.pyplot as plt\n",
    "import seaborn as sns\n",
    "\n",
    "#Data is imported\n",
    "from seller import Seller"
   ]
  },
  {
   "cell_type": "code",
   "execution_count": 4,
   "metadata": {
    "slideshow": {
     "slide_type": "skip"
    }
   },
   "outputs": [
    {
     "data": {
      "text/html": [
       "<div>\n",
       "<style scoped>\n",
       "    .dataframe tbody tr th:only-of-type {\n",
       "        vertical-align: middle;\n",
       "    }\n",
       "\n",
       "    .dataframe tbody tr th {\n",
       "        vertical-align: top;\n",
       "    }\n",
       "\n",
       "    .dataframe thead th {\n",
       "        text-align: right;\n",
       "    }\n",
       "</style>\n",
       "<table border=\"1\" class=\"dataframe\">\n",
       "  <thead>\n",
       "    <tr style=\"text-align: right;\">\n",
       "      <th></th>\n",
       "      <th>seller_id</th>\n",
       "      <th>seller_city</th>\n",
       "      <th>seller_state</th>\n",
       "      <th>delay_to_carrier</th>\n",
       "      <th>wait_time</th>\n",
       "      <th>date_first_sale</th>\n",
       "      <th>date_last_sale</th>\n",
       "      <th>months_on_olist</th>\n",
       "      <th>share_of_one_stars</th>\n",
       "      <th>share_of_five_stars</th>\n",
       "      <th>review_score</th>\n",
       "      <th>cost_of_reviews</th>\n",
       "      <th>n_orders</th>\n",
       "      <th>quantity</th>\n",
       "      <th>quantity_per_order</th>\n",
       "      <th>sales</th>\n",
       "      <th>revenues</th>\n",
       "      <th>profits</th>\n",
       "    </tr>\n",
       "  </thead>\n",
       "  <tbody>\n",
       "    <tr>\n",
       "      <th>0</th>\n",
       "      <td>3442f8959a84dea7ee197c632cb2df15</td>\n",
       "      <td>campinas</td>\n",
       "      <td>SP</td>\n",
       "      <td>0.000000</td>\n",
       "      <td>13.018588</td>\n",
       "      <td>2017-05-05 16:25:11</td>\n",
       "      <td>2017-08-30 12:50:19</td>\n",
       "      <td>4.0</td>\n",
       "      <td>0.333333</td>\n",
       "      <td>0.333333</td>\n",
       "      <td>3.00</td>\n",
       "      <td>140</td>\n",
       "      <td>3</td>\n",
       "      <td>3</td>\n",
       "      <td>1.000</td>\n",
       "      <td>218.70</td>\n",
       "      <td>341.870</td>\n",
       "      <td>201.870</td>\n",
       "    </tr>\n",
       "    <tr>\n",
       "      <th>1</th>\n",
       "      <td>d1b65fc7debc3361ea86b5f14c68d2e2</td>\n",
       "      <td>mogi guacu</td>\n",
       "      <td>SP</td>\n",
       "      <td>0.000000</td>\n",
       "      <td>9.065716</td>\n",
       "      <td>2017-03-29 02:10:34</td>\n",
       "      <td>2018-06-06 20:15:21</td>\n",
       "      <td>14.0</td>\n",
       "      <td>0.050000</td>\n",
       "      <td>0.725000</td>\n",
       "      <td>4.55</td>\n",
       "      <td>240</td>\n",
       "      <td>40</td>\n",
       "      <td>41</td>\n",
       "      <td>1.025</td>\n",
       "      <td>11703.07</td>\n",
       "      <td>2290.307</td>\n",
       "      <td>2050.307</td>\n",
       "    </tr>\n",
       "    <tr>\n",
       "      <th>2</th>\n",
       "      <td>ce3ad9de960102d0677a81f5d0bb7b2d</td>\n",
       "      <td>rio de janeiro</td>\n",
       "      <td>RJ</td>\n",
       "      <td>0.000000</td>\n",
       "      <td>4.042292</td>\n",
       "      <td>2018-07-30 12:44:49</td>\n",
       "      <td>2018-07-30 12:44:49</td>\n",
       "      <td>0.0</td>\n",
       "      <td>0.000000</td>\n",
       "      <td>1.000000</td>\n",
       "      <td>5.00</td>\n",
       "      <td>0</td>\n",
       "      <td>1</td>\n",
       "      <td>1</td>\n",
       "      <td>1.000</td>\n",
       "      <td>158.00</td>\n",
       "      <td>15.800</td>\n",
       "      <td>15.800</td>\n",
       "    </tr>\n",
       "    <tr>\n",
       "      <th>3</th>\n",
       "      <td>c0f3eea2e14555b6faeea3dd58c1b1c3</td>\n",
       "      <td>sao paulo</td>\n",
       "      <td>SP</td>\n",
       "      <td>0.000000</td>\n",
       "      <td>5.667187</td>\n",
       "      <td>2018-08-03 00:44:08</td>\n",
       "      <td>2018-08-03 00:44:08</td>\n",
       "      <td>0.0</td>\n",
       "      <td>0.000000</td>\n",
       "      <td>1.000000</td>\n",
       "      <td>5.00</td>\n",
       "      <td>0</td>\n",
       "      <td>1</td>\n",
       "      <td>1</td>\n",
       "      <td>1.000</td>\n",
       "      <td>79.99</td>\n",
       "      <td>7.999</td>\n",
       "      <td>7.999</td>\n",
       "    </tr>\n",
       "    <tr>\n",
       "      <th>4</th>\n",
       "      <td>51a04a8a6bdcb23deccc82b0b80742cf</td>\n",
       "      <td>braganca paulista</td>\n",
       "      <td>SP</td>\n",
       "      <td>3.353727</td>\n",
       "      <td>35.314861</td>\n",
       "      <td>2017-11-14 12:15:25</td>\n",
       "      <td>2017-11-14 12:15:25</td>\n",
       "      <td>0.0</td>\n",
       "      <td>1.000000</td>\n",
       "      <td>0.000000</td>\n",
       "      <td>1.00</td>\n",
       "      <td>100</td>\n",
       "      <td>1</td>\n",
       "      <td>1</td>\n",
       "      <td>1.000</td>\n",
       "      <td>167.99</td>\n",
       "      <td>16.799</td>\n",
       "      <td>-83.201</td>\n",
       "    </tr>\n",
       "  </tbody>\n",
       "</table>\n",
       "</div>"
      ],
      "text/plain": [
       "                          seller_id        seller_city seller_state  \\\n",
       "0  3442f8959a84dea7ee197c632cb2df15           campinas           SP   \n",
       "1  d1b65fc7debc3361ea86b5f14c68d2e2         mogi guacu           SP   \n",
       "2  ce3ad9de960102d0677a81f5d0bb7b2d     rio de janeiro           RJ   \n",
       "3  c0f3eea2e14555b6faeea3dd58c1b1c3          sao paulo           SP   \n",
       "4  51a04a8a6bdcb23deccc82b0b80742cf  braganca paulista           SP   \n",
       "\n",
       "   delay_to_carrier  wait_time     date_first_sale      date_last_sale  \\\n",
       "0          0.000000  13.018588 2017-05-05 16:25:11 2017-08-30 12:50:19   \n",
       "1          0.000000   9.065716 2017-03-29 02:10:34 2018-06-06 20:15:21   \n",
       "2          0.000000   4.042292 2018-07-30 12:44:49 2018-07-30 12:44:49   \n",
       "3          0.000000   5.667187 2018-08-03 00:44:08 2018-08-03 00:44:08   \n",
       "4          3.353727  35.314861 2017-11-14 12:15:25 2017-11-14 12:15:25   \n",
       "\n",
       "   months_on_olist  share_of_one_stars  share_of_five_stars  review_score  \\\n",
       "0              4.0            0.333333             0.333333          3.00   \n",
       "1             14.0            0.050000             0.725000          4.55   \n",
       "2              0.0            0.000000             1.000000          5.00   \n",
       "3              0.0            0.000000             1.000000          5.00   \n",
       "4              0.0            1.000000             0.000000          1.00   \n",
       "\n",
       "   cost_of_reviews  n_orders  quantity  quantity_per_order     sales  \\\n",
       "0              140         3         3               1.000    218.70   \n",
       "1              240        40        41               1.025  11703.07   \n",
       "2                0         1         1               1.000    158.00   \n",
       "3                0         1         1               1.000     79.99   \n",
       "4              100         1         1               1.000    167.99   \n",
       "\n",
       "   revenues   profits  \n",
       "0   341.870   201.870  \n",
       "1  2290.307  2050.307  \n",
       "2    15.800    15.800  \n",
       "3     7.999     7.999  \n",
       "4    16.799   -83.201  "
      ]
     },
     "execution_count": 4,
     "metadata": {},
     "output_type": "execute_result"
    }
   ],
   "source": [
    "sellers = Seller().get_training_data()\n",
    "\n",
    "sellers.head()"
   ]
  },
  {
   "cell_type": "code",
   "execution_count": 5,
   "metadata": {
    "slideshow": {
     "slide_type": "skip"
    }
   },
   "outputs": [
    {
     "data": {
      "text/plain": [
       "1167608.4440000001"
      ]
     },
     "execution_count": 5,
     "metadata": {},
     "output_type": "execute_result"
    }
   ],
   "source": [
    "sellers[\"profits\"].sum()"
   ]
  },
  {
   "cell_type": "code",
   "execution_count": 8,
   "metadata": {
    "slideshow": {
     "slide_type": "subslide"
    },
    "tags": [
     "remove_input"
    ]
   },
   "outputs": [
    {
     "data": {
      "image/png": "[encoded data removed]",
      "text/plain": [
       "<Figure size 1080x432 with 1 Axes>"
      ]
     },
     "metadata": {
      "needs_background": "light"
     },
     "output_type": "display_data"
    }
   ],
   "source": [
    "sellers_by_profits = sellers.sort_values(by = \"profits\")[\"profits\"].reset_index()\n",
    "\n",
    "plt.figure(figsize = (15, 6))\n",
    "plt.plot(sellers_by_profits.index, sellers_by_profits[\"profits\"])\n",
    "plt.title(\"Profits vs Sellers\");"
   ]
  },
  {
   "cell_type": "code",
   "execution_count": 4,
   "metadata": {
    "slideshow": {
     "slide_type": "skip"
    }
   },
   "outputs": [
    {
     "data": {
      "text/plain": [
       "99841"
      ]
     },
     "execution_count": 4,
     "metadata": {},
     "output_type": "execute_result"
    }
   ],
   "source": [
    "sellers[\"n_orders\"].sum()"
   ]
  },
  {
   "cell_type": "code",
   "execution_count": 5,
   "metadata": {
    "slideshow": {
     "slide_type": "skip"
    }
   },
   "outputs": [
    {
     "data": {
      "text/plain": [
       "1582.3973364219244"
      ]
     },
     "execution_count": 5,
     "metadata": {},
     "output_type": "execute_result"
    }
   ],
   "source": [
    "a = 500000/(sellers[\"n_orders\"].sum()**0.5)\n",
    "a"
   ]
  },
  {
   "cell_type": "code",
   "execution_count": 6,
   "metadata": {
    "slideshow": {
     "slide_type": "skip"
    }
   },
   "outputs": [],
   "source": [
    "factor1 = 500000 / (sellers[\"n_orders\"]** 0.5).sum()"
   ]
  },
  {
   "cell_type": "code",
   "execution_count": 7,
   "metadata": {
    "slideshow": {
     "slide_type": "skip"
    }
   },
   "outputs": [
    {
     "data": {
      "text/plain": [
       "667608.444"
      ]
     },
     "execution_count": 7,
     "metadata": {},
     "output_type": "execute_result"
    }
   ],
   "source": [
    "sellers1 = sellers.copy()\n",
    "\n",
    "sellers1[\"it_costs\"] = sellers1[\"n_orders\"]** 0.5 * factor1\n",
    "sellers1[\"profits\"] = sellers1[\"profits\"] - sellers1[\"it_costs\"]\n",
    "\n",
    "sellers1\n",
    "sellers1[\"profits\"].sum()"
   ]
  },
  {
   "cell_type": "code",
   "execution_count": 9,
   "metadata": {
    "slideshow": {
     "slide_type": "skip"
    }
   },
   "outputs": [
    {
     "data": {
      "text/html": [
       "<div>\n",
       "<style scoped>\n",
       "    .dataframe tbody tr th:only-of-type {\n",
       "        vertical-align: middle;\n",
       "    }\n",
       "\n",
       "    .dataframe tbody tr th {\n",
       "        vertical-align: top;\n",
       "    }\n",
       "\n",
       "    .dataframe thead th {\n",
       "        text-align: right;\n",
       "    }\n",
       "</style>\n",
       "<table border=\"1\" class=\"dataframe\">\n",
       "  <thead>\n",
       "    <tr style=\"text-align: right;\">\n",
       "      <th></th>\n",
       "      <th>seller_id</th>\n",
       "      <th>seller_city</th>\n",
       "      <th>seller_state</th>\n",
       "      <th>delay_to_carrier</th>\n",
       "      <th>wait_time</th>\n",
       "      <th>date_first_sale</th>\n",
       "      <th>date_last_sale</th>\n",
       "      <th>months_on_olist</th>\n",
       "      <th>share_of_one_stars</th>\n",
       "      <th>share_of_five_stars</th>\n",
       "      <th>review_score</th>\n",
       "      <th>cost_of_reviews</th>\n",
       "      <th>n_orders</th>\n",
       "      <th>quantity</th>\n",
       "      <th>quantity_per_order</th>\n",
       "      <th>sales</th>\n",
       "      <th>revenues</th>\n",
       "      <th>profits</th>\n",
       "      <th>it_costs</th>\n",
       "    </tr>\n",
       "  </thead>\n",
       "  <tbody>\n",
       "    <tr>\n",
       "      <th>2</th>\n",
       "      <td>ce3ad9de960102d0677a81f5d0bb7b2d</td>\n",
       "      <td>rio de janeiro</td>\n",
       "      <td>RJ</td>\n",
       "      <td>0.000000</td>\n",
       "      <td>4.042292</td>\n",
       "      <td>2018-07-30 12:44:49</td>\n",
       "      <td>2018-07-30 12:44:49</td>\n",
       "      <td>0.0</td>\n",
       "      <td>0.0</td>\n",
       "      <td>1.0</td>\n",
       "      <td>5.0</td>\n",
       "      <td>0</td>\n",
       "      <td>1</td>\n",
       "      <td>1</td>\n",
       "      <td>1.0</td>\n",
       "      <td>158.00</td>\n",
       "      <td>15.800</td>\n",
       "      <td>-26.177058</td>\n",
       "      <td>41.977058</td>\n",
       "    </tr>\n",
       "    <tr>\n",
       "      <th>3</th>\n",
       "      <td>c0f3eea2e14555b6faeea3dd58c1b1c3</td>\n",
       "      <td>sao paulo</td>\n",
       "      <td>SP</td>\n",
       "      <td>0.000000</td>\n",
       "      <td>5.667187</td>\n",
       "      <td>2018-08-03 00:44:08</td>\n",
       "      <td>2018-08-03 00:44:08</td>\n",
       "      <td>0.0</td>\n",
       "      <td>0.0</td>\n",
       "      <td>1.0</td>\n",
       "      <td>5.0</td>\n",
       "      <td>0</td>\n",
       "      <td>1</td>\n",
       "      <td>1</td>\n",
       "      <td>1.0</td>\n",
       "      <td>79.99</td>\n",
       "      <td>7.999</td>\n",
       "      <td>-33.978058</td>\n",
       "      <td>41.977058</td>\n",
       "    </tr>\n",
       "    <tr>\n",
       "      <th>4</th>\n",
       "      <td>51a04a8a6bdcb23deccc82b0b80742cf</td>\n",
       "      <td>braganca paulista</td>\n",
       "      <td>SP</td>\n",
       "      <td>3.353727</td>\n",
       "      <td>35.314861</td>\n",
       "      <td>2017-11-14 12:15:25</td>\n",
       "      <td>2017-11-14 12:15:25</td>\n",
       "      <td>0.0</td>\n",
       "      <td>1.0</td>\n",
       "      <td>0.0</td>\n",
       "      <td>1.0</td>\n",
       "      <td>100</td>\n",
       "      <td>1</td>\n",
       "      <td>1</td>\n",
       "      <td>1.0</td>\n",
       "      <td>167.99</td>\n",
       "      <td>16.799</td>\n",
       "      <td>-125.178058</td>\n",
       "      <td>41.977058</td>\n",
       "    </tr>\n",
       "    <tr>\n",
       "      <th>5</th>\n",
       "      <td>c240c4061717ac1806ae6ee72be3533b</td>\n",
       "      <td>rio de janeiro</td>\n",
       "      <td>RJ</td>\n",
       "      <td>0.000000</td>\n",
       "      <td>6.056956</td>\n",
       "      <td>2018-05-08 17:55:23</td>\n",
       "      <td>2018-05-08 17:55:23</td>\n",
       "      <td>0.0</td>\n",
       "      <td>0.0</td>\n",
       "      <td>0.0</td>\n",
       "      <td>4.0</td>\n",
       "      <td>0</td>\n",
       "      <td>1</td>\n",
       "      <td>1</td>\n",
       "      <td>1.0</td>\n",
       "      <td>59.90</td>\n",
       "      <td>5.990</td>\n",
       "      <td>-35.987058</td>\n",
       "      <td>41.977058</td>\n",
       "    </tr>\n",
       "    <tr>\n",
       "      <th>13</th>\n",
       "      <td>05a48cc8859962767935ab9087417fbb</td>\n",
       "      <td>sao paulo</td>\n",
       "      <td>SP</td>\n",
       "      <td>0.000000</td>\n",
       "      <td>11.276516</td>\n",
       "      <td>2018-08-02 13:04:18</td>\n",
       "      <td>2018-08-02 13:04:18</td>\n",
       "      <td>0.0</td>\n",
       "      <td>0.0</td>\n",
       "      <td>1.0</td>\n",
       "      <td>5.0</td>\n",
       "      <td>0</td>\n",
       "      <td>1</td>\n",
       "      <td>1</td>\n",
       "      <td>1.0</td>\n",
       "      <td>42.90</td>\n",
       "      <td>4.290</td>\n",
       "      <td>-37.687058</td>\n",
       "      <td>41.977058</td>\n",
       "    </tr>\n",
       "    <tr>\n",
       "      <th>...</th>\n",
       "      <td>...</td>\n",
       "      <td>...</td>\n",
       "      <td>...</td>\n",
       "      <td>...</td>\n",
       "      <td>...</td>\n",
       "      <td>...</td>\n",
       "      <td>...</td>\n",
       "      <td>...</td>\n",
       "      <td>...</td>\n",
       "      <td>...</td>\n",
       "      <td>...</td>\n",
       "      <td>...</td>\n",
       "      <td>...</td>\n",
       "      <td>...</td>\n",
       "      <td>...</td>\n",
       "      <td>...</td>\n",
       "      <td>...</td>\n",
       "      <td>...</td>\n",
       "      <td>...</td>\n",
       "    </tr>\n",
       "    <tr>\n",
       "      <th>2955</th>\n",
       "      <td>e94b64dc6979b302a5a5be1662c83bb6</td>\n",
       "      <td>itapecerica da serra</td>\n",
       "      <td>SP</td>\n",
       "      <td>0.000000</td>\n",
       "      <td>9.009612</td>\n",
       "      <td>2018-07-01 12:35:14</td>\n",
       "      <td>2018-07-05 16:40:52</td>\n",
       "      <td>0.0</td>\n",
       "      <td>0.0</td>\n",
       "      <td>1.0</td>\n",
       "      <td>5.0</td>\n",
       "      <td>0</td>\n",
       "      <td>2</td>\n",
       "      <td>2</td>\n",
       "      <td>1.0</td>\n",
       "      <td>306.89</td>\n",
       "      <td>30.689</td>\n",
       "      <td>-28.675525</td>\n",
       "      <td>59.364525</td>\n",
       "    </tr>\n",
       "    <tr>\n",
       "      <th>2959</th>\n",
       "      <td>f00f5b35d0abcacbdd863672f4bb2c1a</td>\n",
       "      <td>sao paulo</td>\n",
       "      <td>SP</td>\n",
       "      <td>0.000000</td>\n",
       "      <td>12.155833</td>\n",
       "      <td>2017-05-27 14:25:16</td>\n",
       "      <td>2017-05-27 14:25:16</td>\n",
       "      <td>0.0</td>\n",
       "      <td>0.0</td>\n",
       "      <td>0.0</td>\n",
       "      <td>4.0</td>\n",
       "      <td>0</td>\n",
       "      <td>1</td>\n",
       "      <td>1</td>\n",
       "      <td>1.0</td>\n",
       "      <td>299.00</td>\n",
       "      <td>29.900</td>\n",
       "      <td>-12.077058</td>\n",
       "      <td>41.977058</td>\n",
       "    </tr>\n",
       "    <tr>\n",
       "      <th>2961</th>\n",
       "      <td>f1fdf2d13186575751aa25876536d85c</td>\n",
       "      <td>sao paulo</td>\n",
       "      <td>SP</td>\n",
       "      <td>0.000000</td>\n",
       "      <td>6.141400</td>\n",
       "      <td>2018-03-29 21:50:12</td>\n",
       "      <td>2018-03-29 21:50:12</td>\n",
       "      <td>0.0</td>\n",
       "      <td>0.0</td>\n",
       "      <td>1.0</td>\n",
       "      <td>5.0</td>\n",
       "      <td>0</td>\n",
       "      <td>1</td>\n",
       "      <td>1</td>\n",
       "      <td>1.0</td>\n",
       "      <td>26.30</td>\n",
       "      <td>2.630</td>\n",
       "      <td>-39.347058</td>\n",
       "      <td>41.977058</td>\n",
       "    </tr>\n",
       "    <tr>\n",
       "      <th>2962</th>\n",
       "      <td>98dddbc4601dd4443ca174359b237166</td>\n",
       "      <td>sarandi</td>\n",
       "      <td>PR</td>\n",
       "      <td>0.000000</td>\n",
       "      <td>8.230822</td>\n",
       "      <td>2018-07-14 03:10:19</td>\n",
       "      <td>2018-07-23 15:34:03</td>\n",
       "      <td>0.0</td>\n",
       "      <td>0.0</td>\n",
       "      <td>1.0</td>\n",
       "      <td>5.0</td>\n",
       "      <td>0</td>\n",
       "      <td>2</td>\n",
       "      <td>2</td>\n",
       "      <td>1.0</td>\n",
       "      <td>158.00</td>\n",
       "      <td>15.800</td>\n",
       "      <td>-43.564525</td>\n",
       "      <td>59.364525</td>\n",
       "    </tr>\n",
       "    <tr>\n",
       "      <th>2966</th>\n",
       "      <td>9e25199f6ef7e7c347120ff175652c3b</td>\n",
       "      <td>taubate</td>\n",
       "      <td>SP</td>\n",
       "      <td>0.000000</td>\n",
       "      <td>8.199456</td>\n",
       "      <td>2017-03-27 10:10:27</td>\n",
       "      <td>2017-03-27 10:10:27</td>\n",
       "      <td>0.0</td>\n",
       "      <td>0.0</td>\n",
       "      <td>0.0</td>\n",
       "      <td>4.0</td>\n",
       "      <td>0</td>\n",
       "      <td>1</td>\n",
       "      <td>1</td>\n",
       "      <td>1.0</td>\n",
       "      <td>12.50</td>\n",
       "      <td>1.250</td>\n",
       "      <td>-40.727058</td>\n",
       "      <td>41.977058</td>\n",
       "    </tr>\n",
       "  </tbody>\n",
       "</table>\n",
       "<p>1004 rows × 19 columns</p>\n",
       "</div>"
      ],
      "text/plain": [
       "                             seller_id           seller_city seller_state  \\\n",
       "2     ce3ad9de960102d0677a81f5d0bb7b2d        rio de janeiro           RJ   \n",
       "3     c0f3eea2e14555b6faeea3dd58c1b1c3             sao paulo           SP   \n",
       "4     51a04a8a6bdcb23deccc82b0b80742cf     braganca paulista           SP   \n",
       "5     c240c4061717ac1806ae6ee72be3533b        rio de janeiro           RJ   \n",
       "13    05a48cc8859962767935ab9087417fbb             sao paulo           SP   \n",
       "...                                ...                   ...          ...   \n",
       "2955  e94b64dc6979b302a5a5be1662c83bb6  itapecerica da serra           SP   \n",
       "2959  f00f5b35d0abcacbdd863672f4bb2c1a             sao paulo           SP   \n",
       "2961  f1fdf2d13186575751aa25876536d85c             sao paulo           SP   \n",
       "2962  98dddbc4601dd4443ca174359b237166               sarandi           PR   \n",
       "2966  9e25199f6ef7e7c347120ff175652c3b               taubate           SP   \n",
       "\n",
       "      delay_to_carrier  wait_time     date_first_sale      date_last_sale  \\\n",
       "2             0.000000   4.042292 2018-07-30 12:44:49 2018-07-30 12:44:49   \n",
       "3             0.000000   5.667187 2018-08-03 00:44:08 2018-08-03 00:44:08   \n",
       "4             3.353727  35.314861 2017-11-14 12:15:25 2017-11-14 12:15:25   \n",
       "5             0.000000   6.056956 2018-05-08 17:55:23 2018-05-08 17:55:23   \n",
       "13            0.000000  11.276516 2018-08-02 13:04:18 2018-08-02 13:04:18   \n",
       "...                ...        ...                 ...                 ...   \n",
       "2955          0.000000   9.009612 2018-07-01 12:35:14 2018-07-05 16:40:52   \n",
       "2959          0.000000  12.155833 2017-05-27 14:25:16 2017-05-27 14:25:16   \n",
       "2961          0.000000   6.141400 2018-03-29 21:50:12 2018-03-29 21:50:12   \n",
       "2962          0.000000   8.230822 2018-07-14 03:10:19 2018-07-23 15:34:03   \n",
       "2966          0.000000   8.199456 2017-03-27 10:10:27 2017-03-27 10:10:27   \n",
       "\n",
       "      months_on_olist  share_of_one_stars  share_of_five_stars  review_score  \\\n",
       "2                 0.0                 0.0                  1.0           5.0   \n",
       "3                 0.0                 0.0                  1.0           5.0   \n",
       "4                 0.0                 1.0                  0.0           1.0   \n",
       "5                 0.0                 0.0                  0.0           4.0   \n",
       "13                0.0                 0.0                  1.0           5.0   \n",
       "...               ...                 ...                  ...           ...   \n",
       "2955              0.0                 0.0                  1.0           5.0   \n",
       "2959              0.0                 0.0                  0.0           4.0   \n",
       "2961              0.0                 0.0                  1.0           5.0   \n",
       "2962              0.0                 0.0                  1.0           5.0   \n",
       "2966              0.0                 0.0                  0.0           4.0   \n",
       "\n",
       "      cost_of_reviews  n_orders  quantity  quantity_per_order   sales  \\\n",
       "2                   0         1         1                 1.0  158.00   \n",
       "3                   0         1         1                 1.0   79.99   \n",
       "4                 100         1         1                 1.0  167.99   \n",
       "5                   0         1         1                 1.0   59.90   \n",
       "13                  0         1         1                 1.0   42.90   \n",
       "...               ...       ...       ...                 ...     ...   \n",
       "2955                0         2         2                 1.0  306.89   \n",
       "2959                0         1         1                 1.0  299.00   \n",
       "2961                0         1         1                 1.0   26.30   \n",
       "2962                0         2         2                 1.0  158.00   \n",
       "2966                0         1         1                 1.0   12.50   \n",
       "\n",
       "      revenues     profits   it_costs  \n",
       "2       15.800  -26.177058  41.977058  \n",
       "3        7.999  -33.978058  41.977058  \n",
       "4       16.799 -125.178058  41.977058  \n",
       "5        5.990  -35.987058  41.977058  \n",
       "13       4.290  -37.687058  41.977058  \n",
       "...        ...         ...        ...  \n",
       "2955    30.689  -28.675525  59.364525  \n",
       "2959    29.900  -12.077058  41.977058  \n",
       "2961     2.630  -39.347058  41.977058  \n",
       "2962    15.800  -43.564525  59.364525  \n",
       "2966     1.250  -40.727058  41.977058  \n",
       "\n",
       "[1004 rows x 19 columns]"
      ]
     },
     "execution_count": 9,
     "metadata": {},
     "output_type": "execute_result"
    }
   ],
   "source": [
    "sellers1[sellers1[\"profits\"] < 0]"
   ]
  },
  {
   "cell_type": "code",
   "execution_count": 10,
   "metadata": {
    "slideshow": {
     "slide_type": "skip"
    }
   },
   "outputs": [
    {
     "data": {
      "text/html": [
       "<div>\n",
       "<style scoped>\n",
       "    .dataframe tbody tr th:only-of-type {\n",
       "        vertical-align: middle;\n",
       "    }\n",
       "\n",
       "    .dataframe tbody tr th {\n",
       "        vertical-align: top;\n",
       "    }\n",
       "\n",
       "    .dataframe thead th {\n",
       "        text-align: right;\n",
       "    }\n",
       "</style>\n",
       "<table border=\"1\" class=\"dataframe\">\n",
       "  <thead>\n",
       "    <tr style=\"text-align: right;\">\n",
       "      <th></th>\n",
       "      <th>seller_id</th>\n",
       "      <th>seller_city</th>\n",
       "      <th>seller_state</th>\n",
       "      <th>delay_to_carrier</th>\n",
       "      <th>wait_time</th>\n",
       "      <th>date_first_sale</th>\n",
       "      <th>date_last_sale</th>\n",
       "      <th>months_on_olist</th>\n",
       "      <th>share_of_one_stars</th>\n",
       "      <th>share_of_five_stars</th>\n",
       "      <th>review_score</th>\n",
       "      <th>cost_of_reviews</th>\n",
       "      <th>n_orders</th>\n",
       "      <th>quantity</th>\n",
       "      <th>quantity_per_order</th>\n",
       "      <th>sales</th>\n",
       "      <th>revenues</th>\n",
       "      <th>profits</th>\n",
       "      <th>it_costs</th>\n",
       "    </tr>\n",
       "  </thead>\n",
       "  <tbody>\n",
       "    <tr>\n",
       "      <th>0</th>\n",
       "      <td>3442f8959a84dea7ee197c632cb2df15</td>\n",
       "      <td>campinas</td>\n",
       "      <td>SP</td>\n",
       "      <td>0.0</td>\n",
       "      <td>13.018588</td>\n",
       "      <td>2017-05-05 16:25:11</td>\n",
       "      <td>2017-08-30 12:50:19</td>\n",
       "      <td>4.0</td>\n",
       "      <td>0.333333</td>\n",
       "      <td>0.333333</td>\n",
       "      <td>3.000000</td>\n",
       "      <td>140</td>\n",
       "      <td>3</td>\n",
       "      <td>3</td>\n",
       "      <td>1.000000</td>\n",
       "      <td>218.70</td>\n",
       "      <td>341.870</td>\n",
       "      <td>129.163602</td>\n",
       "      <td>72.706398</td>\n",
       "    </tr>\n",
       "    <tr>\n",
       "      <th>1</th>\n",
       "      <td>d1b65fc7debc3361ea86b5f14c68d2e2</td>\n",
       "      <td>mogi guacu</td>\n",
       "      <td>SP</td>\n",
       "      <td>0.0</td>\n",
       "      <td>9.065716</td>\n",
       "      <td>2017-03-29 02:10:34</td>\n",
       "      <td>2018-06-06 20:15:21</td>\n",
       "      <td>14.0</td>\n",
       "      <td>0.050000</td>\n",
       "      <td>0.725000</td>\n",
       "      <td>4.550000</td>\n",
       "      <td>240</td>\n",
       "      <td>40</td>\n",
       "      <td>41</td>\n",
       "      <td>1.025000</td>\n",
       "      <td>11703.07</td>\n",
       "      <td>2290.307</td>\n",
       "      <td>1784.820772</td>\n",
       "      <td>265.486228</td>\n",
       "    </tr>\n",
       "    <tr>\n",
       "      <th>6</th>\n",
       "      <td>e49c26c3edfa46d227d5121a6b6e4d37</td>\n",
       "      <td>brejao</td>\n",
       "      <td>PE</td>\n",
       "      <td>0.0</td>\n",
       "      <td>11.653801</td>\n",
       "      <td>2017-02-04 19:31:42</td>\n",
       "      <td>2018-07-25 14:30:27</td>\n",
       "      <td>18.0</td>\n",
       "      <td>0.057143</td>\n",
       "      <td>0.742857</td>\n",
       "      <td>4.457143</td>\n",
       "      <td>330</td>\n",
       "      <td>35</td>\n",
       "      <td>36</td>\n",
       "      <td>1.028571</td>\n",
       "      <td>3654.25</td>\n",
       "      <td>1805.425</td>\n",
       "      <td>1227.085374</td>\n",
       "      <td>248.339626</td>\n",
       "    </tr>\n",
       "    <tr>\n",
       "      <th>7</th>\n",
       "      <td>1b938a7ec6ac5061a66a3766e0e75f90</td>\n",
       "      <td>penapolis</td>\n",
       "      <td>SP</td>\n",
       "      <td>0.0</td>\n",
       "      <td>11.376438</td>\n",
       "      <td>2017-09-23 17:24:32</td>\n",
       "      <td>2018-08-18 19:09:29</td>\n",
       "      <td>11.0</td>\n",
       "      <td>0.100000</td>\n",
       "      <td>0.600000</td>\n",
       "      <td>4.300000</td>\n",
       "      <td>300</td>\n",
       "      <td>30</td>\n",
       "      <td>33</td>\n",
       "      <td>1.100000</td>\n",
       "      <td>3987.60</td>\n",
       "      <td>1278.760</td>\n",
       "      <td>748.842182</td>\n",
       "      <td>229.917818</td>\n",
       "    </tr>\n",
       "    <tr>\n",
       "      <th>8</th>\n",
       "      <td>768a86e36ad6aae3d03ee3c6433d61df</td>\n",
       "      <td>sao paulo</td>\n",
       "      <td>SP</td>\n",
       "      <td>0.0</td>\n",
       "      <td>5.081859</td>\n",
       "      <td>2018-06-19 12:18:24</td>\n",
       "      <td>2018-08-24 03:15:18</td>\n",
       "      <td>2.0</td>\n",
       "      <td>0.000000</td>\n",
       "      <td>0.705882</td>\n",
       "      <td>4.647059</td>\n",
       "      <td>40</td>\n",
       "      <td>17</td>\n",
       "      <td>17</td>\n",
       "      <td>1.000000</td>\n",
       "      <td>587.46</td>\n",
       "      <td>218.746</td>\n",
       "      <td>5.670154</td>\n",
       "      <td>173.075846</td>\n",
       "    </tr>\n",
       "    <tr>\n",
       "      <th>...</th>\n",
       "      <td>...</td>\n",
       "      <td>...</td>\n",
       "      <td>...</td>\n",
       "      <td>...</td>\n",
       "      <td>...</td>\n",
       "      <td>...</td>\n",
       "      <td>...</td>\n",
       "      <td>...</td>\n",
       "      <td>...</td>\n",
       "      <td>...</td>\n",
       "      <td>...</td>\n",
       "      <td>...</td>\n",
       "      <td>...</td>\n",
       "      <td>...</td>\n",
       "      <td>...</td>\n",
       "      <td>...</td>\n",
       "      <td>...</td>\n",
       "      <td>...</td>\n",
       "      <td>...</td>\n",
       "    </tr>\n",
       "    <tr>\n",
       "      <th>2958</th>\n",
       "      <td>725af026f869236a8dd0ceb98564d156</td>\n",
       "      <td>claudio</td>\n",
       "      <td>MG</td>\n",
       "      <td>0.0</td>\n",
       "      <td>13.673095</td>\n",
       "      <td>2017-10-22 11:35:18</td>\n",
       "      <td>2018-08-04 04:10:22</td>\n",
       "      <td>9.0</td>\n",
       "      <td>0.285714</td>\n",
       "      <td>0.428571</td>\n",
       "      <td>3.428571</td>\n",
       "      <td>240</td>\n",
       "      <td>7</td>\n",
       "      <td>8</td>\n",
       "      <td>1.142857</td>\n",
       "      <td>1177.71</td>\n",
       "      <td>837.771</td>\n",
       "      <td>486.710143</td>\n",
       "      <td>111.060857</td>\n",
       "    </tr>\n",
       "    <tr>\n",
       "      <th>2960</th>\n",
       "      <td>7bac63f6603d382cc8d0832eb6c100a8</td>\n",
       "      <td>sao paulo</td>\n",
       "      <td>SP</td>\n",
       "      <td>0.0</td>\n",
       "      <td>15.764659</td>\n",
       "      <td>2017-11-05 09:26:15</td>\n",
       "      <td>2018-08-04 10:04:15</td>\n",
       "      <td>9.0</td>\n",
       "      <td>0.105263</td>\n",
       "      <td>0.421053</td>\n",
       "      <td>4.000000</td>\n",
       "      <td>280</td>\n",
       "      <td>19</td>\n",
       "      <td>19</td>\n",
       "      <td>1.000000</td>\n",
       "      <td>7751.95</td>\n",
       "      <td>1495.195</td>\n",
       "      <td>1032.221245</td>\n",
       "      <td>182.973755</td>\n",
       "    </tr>\n",
       "    <tr>\n",
       "      <th>2963</th>\n",
       "      <td>f8201cab383e484733266d1906e2fdfa</td>\n",
       "      <td>palhoca</td>\n",
       "      <td>SC</td>\n",
       "      <td>0.0</td>\n",
       "      <td>13.045797</td>\n",
       "      <td>2017-06-17 15:30:11</td>\n",
       "      <td>2018-08-11 19:55:17</td>\n",
       "      <td>14.0</td>\n",
       "      <td>0.100000</td>\n",
       "      <td>0.500000</td>\n",
       "      <td>4.100000</td>\n",
       "      <td>140</td>\n",
       "      <td>10</td>\n",
       "      <td>10</td>\n",
       "      <td>1.000000</td>\n",
       "      <td>889.00</td>\n",
       "      <td>1208.900</td>\n",
       "      <td>936.156886</td>\n",
       "      <td>132.743114</td>\n",
       "    </tr>\n",
       "    <tr>\n",
       "      <th>2964</th>\n",
       "      <td>74871d19219c7d518d0090283e03c137</td>\n",
       "      <td>sao paulo</td>\n",
       "      <td>SP</td>\n",
       "      <td>0.0</td>\n",
       "      <td>3.606625</td>\n",
       "      <td>2018-04-05 17:09:46</td>\n",
       "      <td>2018-08-21 19:25:15</td>\n",
       "      <td>5.0</td>\n",
       "      <td>0.000000</td>\n",
       "      <td>1.000000</td>\n",
       "      <td>5.000000</td>\n",
       "      <td>0</td>\n",
       "      <td>6</td>\n",
       "      <td>7</td>\n",
       "      <td>1.166667</td>\n",
       "      <td>550.04</td>\n",
       "      <td>455.004</td>\n",
       "      <td>352.181626</td>\n",
       "      <td>102.822374</td>\n",
       "    </tr>\n",
       "    <tr>\n",
       "      <th>2965</th>\n",
       "      <td>e603cf3fec55f8697c9059638d6c8eb5</td>\n",
       "      <td>pelotas</td>\n",
       "      <td>RS</td>\n",
       "      <td>0.0</td>\n",
       "      <td>6.657634</td>\n",
       "      <td>2017-02-09 02:43:17</td>\n",
       "      <td>2017-06-16 17:30:16</td>\n",
       "      <td>4.0</td>\n",
       "      <td>0.000000</td>\n",
       "      <td>0.500000</td>\n",
       "      <td>4.250000</td>\n",
       "      <td>50</td>\n",
       "      <td>8</td>\n",
       "      <td>11</td>\n",
       "      <td>1.375000</td>\n",
       "      <td>297.00</td>\n",
       "      <td>349.700</td>\n",
       "      <td>180.970949</td>\n",
       "      <td>118.729051</td>\n",
       "    </tr>\n",
       "  </tbody>\n",
       "</table>\n",
       "<p>1963 rows × 19 columns</p>\n",
       "</div>"
      ],
      "text/plain": [
       "                             seller_id seller_city seller_state  \\\n",
       "0     3442f8959a84dea7ee197c632cb2df15    campinas           SP   \n",
       "1     d1b65fc7debc3361ea86b5f14c68d2e2  mogi guacu           SP   \n",
       "6     e49c26c3edfa46d227d5121a6b6e4d37      brejao           PE   \n",
       "7     1b938a7ec6ac5061a66a3766e0e75f90   penapolis           SP   \n",
       "8     768a86e36ad6aae3d03ee3c6433d61df   sao paulo           SP   \n",
       "...                                ...         ...          ...   \n",
       "2958  725af026f869236a8dd0ceb98564d156     claudio           MG   \n",
       "2960  7bac63f6603d382cc8d0832eb6c100a8   sao paulo           SP   \n",
       "2963  f8201cab383e484733266d1906e2fdfa     palhoca           SC   \n",
       "2964  74871d19219c7d518d0090283e03c137   sao paulo           SP   \n",
       "2965  e603cf3fec55f8697c9059638d6c8eb5     pelotas           RS   \n",
       "\n",
       "      delay_to_carrier  wait_time     date_first_sale      date_last_sale  \\\n",
       "0                  0.0  13.018588 2017-05-05 16:25:11 2017-08-30 12:50:19   \n",
       "1                  0.0   9.065716 2017-03-29 02:10:34 2018-06-06 20:15:21   \n",
       "6                  0.0  11.653801 2017-02-04 19:31:42 2018-07-25 14:30:27   \n",
       "7                  0.0  11.376438 2017-09-23 17:24:32 2018-08-18 19:09:29   \n",
       "8                  0.0   5.081859 2018-06-19 12:18:24 2018-08-24 03:15:18   \n",
       "...                ...        ...                 ...                 ...   \n",
       "2958               0.0  13.673095 2017-10-22 11:35:18 2018-08-04 04:10:22   \n",
       "2960               0.0  15.764659 2017-11-05 09:26:15 2018-08-04 10:04:15   \n",
       "2963               0.0  13.045797 2017-06-17 15:30:11 2018-08-11 19:55:17   \n",
       "2964               0.0   3.606625 2018-04-05 17:09:46 2018-08-21 19:25:15   \n",
       "2965               0.0   6.657634 2017-02-09 02:43:17 2017-06-16 17:30:16   \n",
       "\n",
       "      months_on_olist  share_of_one_stars  share_of_five_stars  review_score  \\\n",
       "0                 4.0            0.333333             0.333333      3.000000   \n",
       "1                14.0            0.050000             0.725000      4.550000   \n",
       "6                18.0            0.057143             0.742857      4.457143   \n",
       "7                11.0            0.100000             0.600000      4.300000   \n",
       "8                 2.0            0.000000             0.705882      4.647059   \n",
       "...               ...                 ...                  ...           ...   \n",
       "2958              9.0            0.285714             0.428571      3.428571   \n",
       "2960              9.0            0.105263             0.421053      4.000000   \n",
       "2963             14.0            0.100000             0.500000      4.100000   \n",
       "2964              5.0            0.000000             1.000000      5.000000   \n",
       "2965              4.0            0.000000             0.500000      4.250000   \n",
       "\n",
       "      cost_of_reviews  n_orders  quantity  quantity_per_order     sales  \\\n",
       "0                 140         3         3            1.000000    218.70   \n",
       "1                 240        40        41            1.025000  11703.07   \n",
       "6                 330        35        36            1.028571   3654.25   \n",
       "7                 300        30        33            1.100000   3987.60   \n",
       "8                  40        17        17            1.000000    587.46   \n",
       "...               ...       ...       ...                 ...       ...   \n",
       "2958              240         7         8            1.142857   1177.71   \n",
       "2960              280        19        19            1.000000   7751.95   \n",
       "2963              140        10        10            1.000000    889.00   \n",
       "2964                0         6         7            1.166667    550.04   \n",
       "2965               50         8        11            1.375000    297.00   \n",
       "\n",
       "      revenues      profits    it_costs  \n",
       "0      341.870   129.163602   72.706398  \n",
       "1     2290.307  1784.820772  265.486228  \n",
       "6     1805.425  1227.085374  248.339626  \n",
       "7     1278.760   748.842182  229.917818  \n",
       "8      218.746     5.670154  173.075846  \n",
       "...        ...          ...         ...  \n",
       "2958   837.771   486.710143  111.060857  \n",
       "2960  1495.195  1032.221245  182.973755  \n",
       "2963  1208.900   936.156886  132.743114  \n",
       "2964   455.004   352.181626  102.822374  \n",
       "2965   349.700   180.970949  118.729051  \n",
       "\n",
       "[1963 rows x 19 columns]"
      ]
     },
     "execution_count": 10,
     "metadata": {},
     "output_type": "execute_result"
    }
   ],
   "source": [
    "sellers1[sellers1[\"profits\"] > 0]"
   ]
  },
  {
   "cell_type": "code",
   "execution_count": 11,
   "metadata": {
    "slideshow": {
     "slide_type": "skip"
    }
   },
   "outputs": [
    {
     "data": {
      "text/plain": [
       "1112157.658369466"
      ]
     },
     "execution_count": 11,
     "metadata": {},
     "output_type": "execute_result"
    }
   ],
   "source": [
    "sellers1[sellers1[\"profits\"] > 0][\"profits\"].sum()"
   ]
  },
  {
   "cell_type": "code",
   "execution_count": 12,
   "metadata": {
    "slideshow": {
     "slide_type": "skip"
    }
   },
   "outputs": [
    {
     "data": {
      "text/html": [
       "<div>\n",
       "<style scoped>\n",
       "    .dataframe tbody tr th:only-of-type {\n",
       "        vertical-align: middle;\n",
       "    }\n",
       "\n",
       "    .dataframe tbody tr th {\n",
       "        vertical-align: top;\n",
       "    }\n",
       "\n",
       "    .dataframe thead th {\n",
       "        text-align: right;\n",
       "    }\n",
       "</style>\n",
       "<table border=\"1\" class=\"dataframe\">\n",
       "  <thead>\n",
       "    <tr style=\"text-align: right;\">\n",
       "      <th></th>\n",
       "      <th>seller_id</th>\n",
       "      <th>seller_city</th>\n",
       "      <th>seller_state</th>\n",
       "      <th>delay_to_carrier</th>\n",
       "      <th>wait_time</th>\n",
       "      <th>date_first_sale</th>\n",
       "      <th>date_last_sale</th>\n",
       "      <th>months_on_olist</th>\n",
       "      <th>share_of_one_stars</th>\n",
       "      <th>share_of_five_stars</th>\n",
       "      <th>review_score</th>\n",
       "      <th>cost_of_reviews</th>\n",
       "      <th>n_orders</th>\n",
       "      <th>quantity</th>\n",
       "      <th>quantity_per_order</th>\n",
       "      <th>sales</th>\n",
       "      <th>revenues</th>\n",
       "      <th>profits</th>\n",
       "      <th>it_costs</th>\n",
       "    </tr>\n",
       "  </thead>\n",
       "  <tbody>\n",
       "    <tr>\n",
       "      <th>0</th>\n",
       "      <td>3442f8959a84dea7ee197c632cb2df15</td>\n",
       "      <td>campinas</td>\n",
       "      <td>SP</td>\n",
       "      <td>0.0</td>\n",
       "      <td>13.018588</td>\n",
       "      <td>2017-05-05 16:25:11</td>\n",
       "      <td>2017-08-30 12:50:19</td>\n",
       "      <td>4.0</td>\n",
       "      <td>0.333333</td>\n",
       "      <td>0.333333</td>\n",
       "      <td>3.00</td>\n",
       "      <td>140</td>\n",
       "      <td>3</td>\n",
       "      <td>3</td>\n",
       "      <td>1.000000</td>\n",
       "      <td>218.70</td>\n",
       "      <td>341.870</td>\n",
       "      <td>145.330244</td>\n",
       "      <td>56.539756</td>\n",
       "    </tr>\n",
       "    <tr>\n",
       "      <th>1</th>\n",
       "      <td>d1b65fc7debc3361ea86b5f14c68d2e2</td>\n",
       "      <td>mogi guacu</td>\n",
       "      <td>SP</td>\n",
       "      <td>0.0</td>\n",
       "      <td>9.065716</td>\n",
       "      <td>2017-03-29 02:10:34</td>\n",
       "      <td>2018-06-06 20:15:21</td>\n",
       "      <td>14.0</td>\n",
       "      <td>0.050000</td>\n",
       "      <td>0.725000</td>\n",
       "      <td>4.55</td>\n",
       "      <td>240</td>\n",
       "      <td>40</td>\n",
       "      <td>41</td>\n",
       "      <td>1.025000</td>\n",
       "      <td>11703.07</td>\n",
       "      <td>2290.307</td>\n",
       "      <td>1843.853000</td>\n",
       "      <td>206.454000</td>\n",
       "    </tr>\n",
       "    <tr>\n",
       "      <th>2</th>\n",
       "      <td>ce3ad9de960102d0677a81f5d0bb7b2d</td>\n",
       "      <td>rio de janeiro</td>\n",
       "      <td>RJ</td>\n",
       "      <td>0.0</td>\n",
       "      <td>4.042292</td>\n",
       "      <td>2018-07-30 12:44:49</td>\n",
       "      <td>2018-07-30 12:44:49</td>\n",
       "      <td>0.0</td>\n",
       "      <td>0.000000</td>\n",
       "      <td>1.000000</td>\n",
       "      <td>5.00</td>\n",
       "      <td>0</td>\n",
       "      <td>1</td>\n",
       "      <td>1</td>\n",
       "      <td>1.000000</td>\n",
       "      <td>158.00</td>\n",
       "      <td>15.800</td>\n",
       "      <td>-16.843244</td>\n",
       "      <td>32.643244</td>\n",
       "    </tr>\n",
       "    <tr>\n",
       "      <th>3</th>\n",
       "      <td>c0f3eea2e14555b6faeea3dd58c1b1c3</td>\n",
       "      <td>sao paulo</td>\n",
       "      <td>SP</td>\n",
       "      <td>0.0</td>\n",
       "      <td>5.667187</td>\n",
       "      <td>2018-08-03 00:44:08</td>\n",
       "      <td>2018-08-03 00:44:08</td>\n",
       "      <td>0.0</td>\n",
       "      <td>0.000000</td>\n",
       "      <td>1.000000</td>\n",
       "      <td>5.00</td>\n",
       "      <td>0</td>\n",
       "      <td>1</td>\n",
       "      <td>1</td>\n",
       "      <td>1.000000</td>\n",
       "      <td>79.99</td>\n",
       "      <td>7.999</td>\n",
       "      <td>-24.644244</td>\n",
       "      <td>32.643244</td>\n",
       "    </tr>\n",
       "    <tr>\n",
       "      <th>5</th>\n",
       "      <td>c240c4061717ac1806ae6ee72be3533b</td>\n",
       "      <td>rio de janeiro</td>\n",
       "      <td>RJ</td>\n",
       "      <td>0.0</td>\n",
       "      <td>6.056956</td>\n",
       "      <td>2018-05-08 17:55:23</td>\n",
       "      <td>2018-05-08 17:55:23</td>\n",
       "      <td>0.0</td>\n",
       "      <td>0.000000</td>\n",
       "      <td>0.000000</td>\n",
       "      <td>4.00</td>\n",
       "      <td>0</td>\n",
       "      <td>1</td>\n",
       "      <td>1</td>\n",
       "      <td>1.000000</td>\n",
       "      <td>59.90</td>\n",
       "      <td>5.990</td>\n",
       "      <td>-26.653244</td>\n",
       "      <td>32.643244</td>\n",
       "    </tr>\n",
       "    <tr>\n",
       "      <th>...</th>\n",
       "      <td>...</td>\n",
       "      <td>...</td>\n",
       "      <td>...</td>\n",
       "      <td>...</td>\n",
       "      <td>...</td>\n",
       "      <td>...</td>\n",
       "      <td>...</td>\n",
       "      <td>...</td>\n",
       "      <td>...</td>\n",
       "      <td>...</td>\n",
       "      <td>...</td>\n",
       "      <td>...</td>\n",
       "      <td>...</td>\n",
       "      <td>...</td>\n",
       "      <td>...</td>\n",
       "      <td>...</td>\n",
       "      <td>...</td>\n",
       "      <td>...</td>\n",
       "      <td>...</td>\n",
       "    </tr>\n",
       "    <tr>\n",
       "      <th>2962</th>\n",
       "      <td>98dddbc4601dd4443ca174359b237166</td>\n",
       "      <td>sarandi</td>\n",
       "      <td>PR</td>\n",
       "      <td>0.0</td>\n",
       "      <td>8.230822</td>\n",
       "      <td>2018-07-14 03:10:19</td>\n",
       "      <td>2018-07-23 15:34:03</td>\n",
       "      <td>0.0</td>\n",
       "      <td>0.000000</td>\n",
       "      <td>1.000000</td>\n",
       "      <td>5.00</td>\n",
       "      <td>0</td>\n",
       "      <td>2</td>\n",
       "      <td>2</td>\n",
       "      <td>1.000000</td>\n",
       "      <td>158.00</td>\n",
       "      <td>15.800</td>\n",
       "      <td>-30.364518</td>\n",
       "      <td>46.164518</td>\n",
       "    </tr>\n",
       "    <tr>\n",
       "      <th>2963</th>\n",
       "      <td>f8201cab383e484733266d1906e2fdfa</td>\n",
       "      <td>palhoca</td>\n",
       "      <td>SC</td>\n",
       "      <td>0.0</td>\n",
       "      <td>13.045797</td>\n",
       "      <td>2017-06-17 15:30:11</td>\n",
       "      <td>2018-08-11 19:55:17</td>\n",
       "      <td>14.0</td>\n",
       "      <td>0.100000</td>\n",
       "      <td>0.500000</td>\n",
       "      <td>4.10</td>\n",
       "      <td>140</td>\n",
       "      <td>10</td>\n",
       "      <td>10</td>\n",
       "      <td>1.000000</td>\n",
       "      <td>889.00</td>\n",
       "      <td>1208.900</td>\n",
       "      <td>965.673000</td>\n",
       "      <td>103.227000</td>\n",
       "    </tr>\n",
       "    <tr>\n",
       "      <th>2964</th>\n",
       "      <td>74871d19219c7d518d0090283e03c137</td>\n",
       "      <td>sao paulo</td>\n",
       "      <td>SP</td>\n",
       "      <td>0.0</td>\n",
       "      <td>3.606625</td>\n",
       "      <td>2018-04-05 17:09:46</td>\n",
       "      <td>2018-08-21 19:25:15</td>\n",
       "      <td>5.0</td>\n",
       "      <td>0.000000</td>\n",
       "      <td>1.000000</td>\n",
       "      <td>5.00</td>\n",
       "      <td>0</td>\n",
       "      <td>6</td>\n",
       "      <td>7</td>\n",
       "      <td>1.166667</td>\n",
       "      <td>550.04</td>\n",
       "      <td>455.004</td>\n",
       "      <td>375.044710</td>\n",
       "      <td>79.959290</td>\n",
       "    </tr>\n",
       "    <tr>\n",
       "      <th>2965</th>\n",
       "      <td>e603cf3fec55f8697c9059638d6c8eb5</td>\n",
       "      <td>pelotas</td>\n",
       "      <td>RS</td>\n",
       "      <td>0.0</td>\n",
       "      <td>6.657634</td>\n",
       "      <td>2017-02-09 02:43:17</td>\n",
       "      <td>2017-06-16 17:30:16</td>\n",
       "      <td>4.0</td>\n",
       "      <td>0.000000</td>\n",
       "      <td>0.500000</td>\n",
       "      <td>4.25</td>\n",
       "      <td>50</td>\n",
       "      <td>8</td>\n",
       "      <td>11</td>\n",
       "      <td>1.375000</td>\n",
       "      <td>297.00</td>\n",
       "      <td>349.700</td>\n",
       "      <td>207.370965</td>\n",
       "      <td>92.329035</td>\n",
       "    </tr>\n",
       "    <tr>\n",
       "      <th>2966</th>\n",
       "      <td>9e25199f6ef7e7c347120ff175652c3b</td>\n",
       "      <td>taubate</td>\n",
       "      <td>SP</td>\n",
       "      <td>0.0</td>\n",
       "      <td>8.199456</td>\n",
       "      <td>2017-03-27 10:10:27</td>\n",
       "      <td>2017-03-27 10:10:27</td>\n",
       "      <td>0.0</td>\n",
       "      <td>0.000000</td>\n",
       "      <td>0.000000</td>\n",
       "      <td>4.00</td>\n",
       "      <td>0</td>\n",
       "      <td>1</td>\n",
       "      <td>1</td>\n",
       "      <td>1.000000</td>\n",
       "      <td>12.50</td>\n",
       "      <td>1.250</td>\n",
       "      <td>-31.393244</td>\n",
       "      <td>32.643244</td>\n",
       "    </tr>\n",
       "  </tbody>\n",
       "</table>\n",
       "<p>2591 rows × 19 columns</p>\n",
       "</div>"
      ],
      "text/plain": [
       "                             seller_id     seller_city seller_state  \\\n",
       "0     3442f8959a84dea7ee197c632cb2df15        campinas           SP   \n",
       "1     d1b65fc7debc3361ea86b5f14c68d2e2      mogi guacu           SP   \n",
       "2     ce3ad9de960102d0677a81f5d0bb7b2d  rio de janeiro           RJ   \n",
       "3     c0f3eea2e14555b6faeea3dd58c1b1c3       sao paulo           SP   \n",
       "5     c240c4061717ac1806ae6ee72be3533b  rio de janeiro           RJ   \n",
       "...                                ...             ...          ...   \n",
       "2962  98dddbc4601dd4443ca174359b237166         sarandi           PR   \n",
       "2963  f8201cab383e484733266d1906e2fdfa         palhoca           SC   \n",
       "2964  74871d19219c7d518d0090283e03c137       sao paulo           SP   \n",
       "2965  e603cf3fec55f8697c9059638d6c8eb5         pelotas           RS   \n",
       "2966  9e25199f6ef7e7c347120ff175652c3b         taubate           SP   \n",
       "\n",
       "      delay_to_carrier  wait_time     date_first_sale      date_last_sale  \\\n",
       "0                  0.0  13.018588 2017-05-05 16:25:11 2017-08-30 12:50:19   \n",
       "1                  0.0   9.065716 2017-03-29 02:10:34 2018-06-06 20:15:21   \n",
       "2                  0.0   4.042292 2018-07-30 12:44:49 2018-07-30 12:44:49   \n",
       "3                  0.0   5.667187 2018-08-03 00:44:08 2018-08-03 00:44:08   \n",
       "5                  0.0   6.056956 2018-05-08 17:55:23 2018-05-08 17:55:23   \n",
       "...                ...        ...                 ...                 ...   \n",
       "2962               0.0   8.230822 2018-07-14 03:10:19 2018-07-23 15:34:03   \n",
       "2963               0.0  13.045797 2017-06-17 15:30:11 2018-08-11 19:55:17   \n",
       "2964               0.0   3.606625 2018-04-05 17:09:46 2018-08-21 19:25:15   \n",
       "2965               0.0   6.657634 2017-02-09 02:43:17 2017-06-16 17:30:16   \n",
       "2966               0.0   8.199456 2017-03-27 10:10:27 2017-03-27 10:10:27   \n",
       "\n",
       "      months_on_olist  share_of_one_stars  share_of_five_stars  review_score  \\\n",
       "0                 4.0            0.333333             0.333333          3.00   \n",
       "1                14.0            0.050000             0.725000          4.55   \n",
       "2                 0.0            0.000000             1.000000          5.00   \n",
       "3                 0.0            0.000000             1.000000          5.00   \n",
       "5                 0.0            0.000000             0.000000          4.00   \n",
       "...               ...                 ...                  ...           ...   \n",
       "2962              0.0            0.000000             1.000000          5.00   \n",
       "2963             14.0            0.100000             0.500000          4.10   \n",
       "2964              5.0            0.000000             1.000000          5.00   \n",
       "2965              4.0            0.000000             0.500000          4.25   \n",
       "2966              0.0            0.000000             0.000000          4.00   \n",
       "\n",
       "      cost_of_reviews  n_orders  quantity  quantity_per_order     sales  \\\n",
       "0                 140         3         3            1.000000    218.70   \n",
       "1                 240        40        41            1.025000  11703.07   \n",
       "2                   0         1         1            1.000000    158.00   \n",
       "3                   0         1         1            1.000000     79.99   \n",
       "5                   0         1         1            1.000000     59.90   \n",
       "...               ...       ...       ...                 ...       ...   \n",
       "2962                0         2         2            1.000000    158.00   \n",
       "2963              140        10        10            1.000000    889.00   \n",
       "2964                0         6         7            1.166667    550.04   \n",
       "2965               50         8        11            1.375000    297.00   \n",
       "2966                0         1         1            1.000000     12.50   \n",
       "\n",
       "      revenues      profits    it_costs  \n",
       "0      341.870   145.330244   56.539756  \n",
       "1     2290.307  1843.853000  206.454000  \n",
       "2       15.800   -16.843244   32.643244  \n",
       "3        7.999   -24.644244   32.643244  \n",
       "5        5.990   -26.653244   32.643244  \n",
       "...        ...          ...         ...  \n",
       "2962    15.800   -30.364518   46.164518  \n",
       "2963  1208.900   965.673000  103.227000  \n",
       "2964   455.004   375.044710   79.959290  \n",
       "2965   349.700   207.370965   92.329035  \n",
       "2966     1.250   -31.393244   32.643244  \n",
       "\n",
       "[2591 rows x 19 columns]"
      ]
     },
     "execution_count": 12,
     "metadata": {},
     "output_type": "execute_result"
    }
   ],
   "source": [
    "sellers2 = sellers[sellers[\"profits\"] > 0].copy()\n",
    "\n",
    "sum2 = (sellers2[\"n_orders\"].sum())**0.5 * a\n",
    "factor2 = sum2 / (sellers[\"n_orders\"]** 0.5).sum()\n",
    "\n",
    "sellers2[\"it_costs\"] = sellers2[\"n_orders\"]** 0.5 * factor2\n",
    "\n",
    "sellers2[\"profits\"] = sellers2[\"profits\"] - sellers2[\"it_costs\"]\n",
    "sellers2"
   ]
  },
  {
   "cell_type": "markdown",
   "metadata": {
    "slideshow": {
     "slide_type": "slide"
    }
   },
   "source": [
    "# Removing All Non-Profit Making Sellers"
   ]
  },
  {
   "cell_type": "code",
   "execution_count": 164,
   "metadata": {
    "slideshow": {
     "slide_type": "skip"
    },
    "tags": [
     "remove_input"
    ]
   },
   "outputs": [],
   "source": [
    "number_1 = 0\n",
    "number_2 = sellers1[sellers1[\"profits\"] < 0].count()[\"seller_id\"]\n",
    "\n",
    "profit_1 = round(sellers1[\"profits\"].sum(), 2)\n",
    "profit_2 = round(sellers2[\"profits\"].sum(), 2)\n",
    "\n",
    "x = [number_1, number_2]\n",
    "y = [profit_1, profit_2]"
   ]
  },
  {
   "cell_type": "code",
   "execution_count": 165,
   "metadata": {
    "slideshow": {
     "slide_type": "subslide"
    },
    "tags": [
     "remove_input"
    ]
   },
   "outputs": [
    {
     "data": {
      "image/png": "[encoded data removed]",
      "text/plain": [
       "<Figure size 1080x432 with 1 Axes>"
      ]
     },
     "metadata": {
      "needs_background": "light"
     },
     "output_type": "display_data"
    }
   ],
   "source": [
    "plt.figure(figsize = (15,6))\n",
    "ax = sns.barplot(x = x, y = y)\n",
    "ax.set_yscale(\"log\")\n",
    "ax.set(title = \"Comparison of Profits: Before and After Removing Sellers\")\n",
    "ax.set(xticklabels=[\"before\", \"after\"]);"
   ]
  },
  {
   "cell_type": "code",
   "execution_count": 149,
   "metadata": {
    "slideshow": {
     "slide_type": "fragment"
    },
    "tags": [
     "remove_input"
    ]
   },
   "outputs": [
    {
     "name": "stdout",
     "output_type": "stream",
     "text": [
      "PROFIT BEFORE REMOVAL: 667608.444\n",
      "PROFIT AFTER REMOVAL: 1166235.0375169378\n",
      "IMPROVEMENT: 74.6884791524503 %\n"
     ]
    }
   ],
   "source": [
    "print(f\"PROFIT BEFORE REMOVAL: {profit_1}\")\n",
    "print(f\"PROFIT AFTER REMOVAL: {profit_2}\")\n",
    "print(f\"IMPROVEMENT: {((profit_2 - profit_1)/profit_1) * 100} %\")"
   ]
  },
  {
   "cell_type": "code",
   "execution_count": 15,
   "metadata": {
    "slideshow": {
     "slide_type": "skip"
    }
   },
   "outputs": [
    {
     "data": {
      "text/plain": [
       "2       ce3ad9de960102d0677a81f5d0bb7b2d\n",
       "3       c0f3eea2e14555b6faeea3dd58c1b1c3\n",
       "4       51a04a8a6bdcb23deccc82b0b80742cf\n",
       "5       c240c4061717ac1806ae6ee72be3533b\n",
       "13      05a48cc8859962767935ab9087417fbb\n",
       "                      ...               \n",
       "2955    e94b64dc6979b302a5a5be1662c83bb6\n",
       "2959    f00f5b35d0abcacbdd863672f4bb2c1a\n",
       "2961    f1fdf2d13186575751aa25876536d85c\n",
       "2962    98dddbc4601dd4443ca174359b237166\n",
       "2966    9e25199f6ef7e7c347120ff175652c3b\n",
       "Name: seller_id, Length: 1004, dtype: object"
      ]
     },
     "execution_count": 15,
     "metadata": {},
     "output_type": "execute_result"
    }
   ],
   "source": [
    "sellers1[sellers1[\"profits\"] < 0][\"seller_id\"]"
   ]
  },
  {
   "cell_type": "markdown",
   "metadata": {
    "slideshow": {
     "slide_type": "skip"
    }
   },
   "source": [
    "### 1.2 (optional): Here are other hypothesis you may want to investigate instead\n",
    "\n",
    "- Should Olist remove the worst performing products / categories from its marketplace entirely?\n",
    "- Should Olist remove only consistently underperforming sellers, after it has a honeymoon period of few months?\n",
    "- Should Olist restrict seller/customer pairs between certain states to avoid delays?\n",
    "- Should Olist acquire new sellers, with some cost assumptions to be suggested?\n",
    "- ...\n"
   ]
  },
  {
   "cell_type": "markdown",
   "metadata": {
    "slideshow": {
     "slide_type": "skip"
    }
   },
   "source": [
    "## Your turn!"
   ]
  },
  {
   "cell_type": "markdown",
   "metadata": {
    "slideshow": {
     "slide_type": "skip"
    }
   },
   "source": [
    "🧺 Keep this notebook tidy! \n",
    "\n",
    "📅 🗣 📊 You will orally present your insights to your favorite TA at the end of this unit `Communicate`"
   ]
  },
  {
   "cell_type": "code",
   "execution_count": 16,
   "metadata": {
    "slideshow": {
     "slide_type": "skip"
    }
   },
   "outputs": [],
   "source": [
    "from olist.data import Olist\n",
    "data = Olist().get_data()"
   ]
  },
  {
   "cell_type": "code",
   "execution_count": 17,
   "metadata": {
    "slideshow": {
     "slide_type": "skip"
    }
   },
   "outputs": [
    {
     "data": {
      "text/plain": [
       "dict_keys(['sellers', 'order_reviews', 'order_items', 'customers', 'orders', 'order_payments', 'product_category_name_translation', 'products', 'geolocation'])"
      ]
     },
     "execution_count": 17,
     "metadata": {},
     "output_type": "execute_result"
    }
   ],
   "source": [
    "data.keys()"
   ]
  },
  {
   "cell_type": "markdown",
   "metadata": {
    "slideshow": {
     "slide_type": "slide"
    }
   },
   "source": [
    "# Optimizing based on number of sellers to remove"
   ]
  },
  {
   "cell_type": "code",
   "execution_count": 72,
   "metadata": {
    "slideshow": {
     "slide_type": "skip"
    }
   },
   "outputs": [],
   "source": [
    "sellers3 = sellers.sort_values(by = \"profits\")"
   ]
  },
  {
   "cell_type": "code",
   "execution_count": 73,
   "metadata": {
    "slideshow": {
     "slide_type": "skip"
    }
   },
   "outputs": [],
   "source": [
    "profit = []\n",
    "for i in range(len(sellers3)):\n",
    "    tmp = sellers3[i:]\n",
    "    it_costs = (tmp[\"n_orders\"].sum())**0.5 * a\n",
    "    total_profits = tmp[\"profits\"].sum() - it_costs\n",
    "    profit.append(total_profits)"
   ]
  },
  {
   "cell_type": "code",
   "execution_count": 156,
   "metadata": {
    "slideshow": {
     "slide_type": "subslide"
    },
    "tags": [
     "remove_input"
    ]
   },
   "outputs": [
    {
     "data": {
      "image/png": "[encoded data removed]",
      "text/plain": [
       "<Figure size 1080x432 with 1 Axes>"
      ]
     },
     "metadata": {
      "needs_background": "light"
     },
     "output_type": "display_data"
    }
   ],
   "source": [
    "x = [i for i in range(len(sellers3))]\n",
    "plt.figure(figsize = (15,6))\n",
    "plt.plot(x, profit)\n",
    "plt.title(\"Profits vs Number of Sellers Removed\");"
   ]
  },
  {
   "cell_type": "code",
   "execution_count": 127,
   "metadata": {
    "slideshow": {
     "slide_type": "fragment"
    },
    "tags": [
     "remove_input"
    ]
   },
   "outputs": [
    {
     "name": "stdout",
     "output_type": "stream",
     "text": [
      "Number of sellers to remove: 486\n"
     ]
    }
   ],
   "source": [
    "print(f\"Number of sellers to remove: {profit.index(max(profit))}\")"
   ]
  },
  {
   "cell_type": "code",
   "execution_count": 75,
   "metadata": {
    "slideshow": {
     "slide_type": "skip"
    }
   },
   "outputs": [
    {
     "data": {
      "text/plain": [
       "486"
      ]
     },
     "execution_count": 75,
     "metadata": {},
     "output_type": "execute_result"
    }
   ],
   "source": [
    "profit.index(max(profit))"
   ]
  },
  {
   "cell_type": "code",
   "execution_count": 76,
   "metadata": {
    "slideshow": {
     "slide_type": "skip"
    }
   },
   "outputs": [
    {
     "data": {
      "text/plain": [
       "1473750.469"
      ]
     },
     "execution_count": 76,
     "metadata": {},
     "output_type": "execute_result"
    }
   ],
   "source": [
    "sellers3.iloc[487:][\"profits\"].sum()"
   ]
  },
  {
   "cell_type": "code",
   "execution_count": 123,
   "metadata": {
    "slideshow": {
     "slide_type": "skip"
    }
   },
   "outputs": [],
   "source": [
    "number_1 = 0\n",
    "number_2 = sellers1[sellers1[\"profits\"] < 0].count()[\"seller_id\"]\n",
    "number_3 = profit.index(max(profit))\n",
    "\n",
    "profit_1 = sellers1[\"profits\"].sum()\n",
    "profit_2 = sellers2[\"profits\"].sum()\n",
    "profit_3 = round(sellers3.iloc[487:][\"profits\"].sum(), 2)\n",
    "\n",
    "x = [number_1, number_2, number_3]\n",
    "y = [profit_1, profit_2, profit_3]"
   ]
  },
  {
   "cell_type": "code",
   "execution_count": 125,
   "metadata": {
    "slideshow": {
     "slide_type": "subslide"
    },
    "tags": [
     "remove_input"
    ]
   },
   "outputs": [
    {
     "data": {
      "image/png": "[encoded data removed]",
      "text/plain": [
       "<Figure size 1080x432 with 1 Axes>"
      ]
     },
     "metadata": {
      "needs_background": "light"
     },
     "output_type": "display_data"
    }
   ],
   "source": [
    "plt.figure(figsize = (15,6))\n",
    "bx = sns.barplot(x = x, y = y, order = [number_1, number_2, number_3])\n",
    "bx.set(title = \"Comparison of Profit On Various Types of Removal\")\n",
    "bx.set(xticklabels=[\"remove none\", \"remove all loss making\", \"optimized removal\"]);"
   ]
  },
  {
   "cell_type": "code",
   "execution_count": 150,
   "metadata": {
    "slideshow": {
     "slide_type": "fragment"
    },
    "tags": [
     "remove_input"
    ]
   },
   "outputs": [
    {
     "name": "stdout",
     "output_type": "stream",
     "text": [
      "Profits after removing: 1473750.469\n",
      "IMPROVEMENT: 120.75072330870637 %\n"
     ]
    }
   ],
   "source": [
    "print(f\"Profits after removing: {profit_3}\")\n",
    "print(f\"IMPROVEMENT: {((profit_3 - profit_1)/profit_1) * 100} %\")"
   ]
  },
  {
   "cell_type": "markdown",
   "metadata": {
    "slideshow": {
     "slide_type": "slide"
    }
   },
   "source": [
    "# Optimizing Based on Months of Sellers"
   ]
  },
  {
   "cell_type": "code",
   "execution_count": 81,
   "metadata": {
    "slideshow": {
     "slide_type": "skip"
    }
   },
   "outputs": [],
   "source": [
    "sellers5 = sellers.copy()\n",
    "sellers5[\"months_on_olist\"] = sellers5[\"months_on_olist\"].astype(\"int64\")"
   ]
  },
  {
   "cell_type": "code",
   "execution_count": 130,
   "metadata": {
    "slideshow": {
     "slide_type": "subslide"
    },
    "tags": [
     "remove_input"
    ]
   },
   "outputs": [
    {
     "data": {
      "image/png": "[encoded data removed]",
      "text/plain": [
       "<Figure size 1080x432 with 1 Axes>"
      ]
     },
     "metadata": {
      "needs_background": "light"
     },
     "output_type": "display_data"
    }
   ],
   "source": [
    "plt.figure(figsize = (15,6))\n",
    "ex = sns.histplot(sellers[sellers[\"profits\"] < 0][\"months_on_olist\"])\n",
    "ex.set(title = \"Months on Olist of Sellers Making Losses\");"
   ]
  },
  {
   "cell_type": "code",
   "execution_count": 158,
   "metadata": {
    "slideshow": {
     "slide_type": "fragment"
    },
    "tags": [
     "remove_input"
    ]
   },
   "outputs": [
    {
     "name": "stdout",
     "output_type": "stream",
     "text": [
      "OPPORTUNITY COST ???\n"
     ]
    }
   ],
   "source": [
    "print(\"OPPORTUNITY COST ???\")"
   ]
  },
  {
   "cell_type": "code",
   "execution_count": 145,
   "metadata": {
    "slideshow": {
     "slide_type": "subslide"
    },
    "tags": [
     "remove_input"
    ]
   },
   "outputs": [
    {
     "data": {
      "image/png": "[encoded data removed]",
      "text/plain": [
       "<Figure size 1080x432 with 1 Axes>"
      ]
     },
     "metadata": {
      "needs_background": "light"
     },
     "output_type": "display_data"
    }
   ],
   "source": [
    "plt.figure(figsize = (15,6))\n",
    "fx = sns.histplot(sellers[sellers[\"profits\"] > 0][\"months_on_olist\"])\n",
    "fx.set(title = \"Months on Olist of Sellers Making Profits\");"
   ]
  },
  {
   "cell_type": "code",
   "execution_count": 161,
   "metadata": {
    "slideshow": {
     "slide_type": "skip"
    }
   },
   "outputs": [
    {
     "data": {
      "text/plain": [
       "918.433793728223"
      ]
     },
     "execution_count": 161,
     "metadata": {},
     "output_type": "execute_result"
    }
   ],
   "source": [
    "sellers[sellers[\"profits\"] > 0][\"months_on_olist\"].median()\n",
    "sellers.query(\"months_on_olist >= 4 and profits > 0\")[\"profits\"].mean()"
   ]
  },
  {
   "cell_type": "code",
   "execution_count": 162,
   "metadata": {
    "slideshow": {
     "slide_type": "fragment"
    },
    "tags": [
     "remove_input"
    ]
   },
   "outputs": [
    {
     "name": "stdout",
     "output_type": "stream",
     "text": [
      "Months for sellers to break even: 4.0\n",
      "Profits per seller after break even: 918.43\n"
     ]
    }
   ],
   "source": [
    "print(\"Months for sellers to break even: 4.0\")\n",
    "print(\"Profits per seller after break even: 918.43\")"
   ]
  },
  {
   "cell_type": "code",
   "execution_count": 84,
   "metadata": {
    "slideshow": {
     "slide_type": "skip"
    }
   },
   "outputs": [],
   "source": [
    "sellers6 = sellers5.query(\"(months_on_olist >= 4 and profits > 0) or (months_on_olist < 4)\")"
   ]
  },
  {
   "cell_type": "code",
   "execution_count": 85,
   "metadata": {
    "slideshow": {
     "slide_type": "skip"
    }
   },
   "outputs": [
    {
     "data": {
      "text/plain": [
       "392890.4899204627"
      ]
     },
     "execution_count": 85,
     "metadata": {},
     "output_type": "execute_result"
    }
   ],
   "source": [
    "(sellers6[\"n_orders\"].sum())**0.5 * a"
   ]
  },
  {
   "cell_type": "code",
   "execution_count": 86,
   "metadata": {
    "slideshow": {
     "slide_type": "skip"
    }
   },
   "outputs": [
    {
     "data": {
      "text/plain": [
       "1453984.259"
      ]
     },
     "execution_count": 86,
     "metadata": {},
     "output_type": "execute_result"
    }
   ],
   "source": [
    "sellers6[\"profits\"].sum()"
   ]
  },
  {
   "cell_type": "code",
   "execution_count": 87,
   "metadata": {
    "slideshow": {
     "slide_type": "skip"
    }
   },
   "outputs": [
    {
     "data": {
      "text/plain": [
       "486"
      ]
     },
     "execution_count": 87,
     "metadata": {},
     "output_type": "execute_result"
    }
   ],
   "source": [
    "number_3"
   ]
  },
  {
   "cell_type": "code",
   "execution_count": 142,
   "metadata": {
    "slideshow": {
     "slide_type": "skip"
    }
   },
   "outputs": [],
   "source": [
    "number_1 = 0\n",
    "number_2 = sellers1[sellers1[\"profits\"] < 0].count()[\"seller_id\"]\n",
    "number_3 = profit.index(max(profit))\n",
    "number_4 = sellers5.query(\"months_on_olist >= 4 and profits < 0\")[\"seller_id\"].count()\n",
    "\n",
    "profit_1 = sellers1[\"profits\"].sum()\n",
    "profit_2 = sellers2[\"profits\"].sum()\n",
    "profit_3 = sellers3.iloc[487:][\"profits\"].sum()\n",
    "profit_4 = round(sellers6[\"profits\"].sum(), 2)\n",
    "\n",
    "x = [number_1, number_2, number_3, number_4]\n",
    "y = [profit_1, profit_2, profit_3, profit_4]"
   ]
  },
  {
   "cell_type": "code",
   "execution_count": 143,
   "metadata": {
    "slideshow": {
     "slide_type": "subslide"
    },
    "tags": [
     "remove_input"
    ]
   },
   "outputs": [
    {
     "data": {
      "image/png": "[encoded data removed]",
      "text/plain": [
       "<Figure size 1080x576 with 1 Axes>"
      ]
     },
     "metadata": {
      "needs_background": "light"
     },
     "output_type": "display_data"
    }
   ],
   "source": [
    "plt.figure(figsize = (15, 8))\n",
    "cx = sns.barplot(x = x, y = y, order = [number_1, number_2, number_3, number_4])\n",
    "cx.set(title = \"Comparison of Profit On Various Type of Removal\")\n",
    "cx.set(xticklabels=[\"remove none\", \"remove all loss making\", \"optimized removal\", \"removal_based_on_months\"]);"
   ]
  },
  {
   "cell_type": "code",
   "execution_count": 151,
   "metadata": {
    "slideshow": {
     "slide_type": "fragment"
    },
    "tags": [
     "remove_input"
    ]
   },
   "outputs": [
    {
     "name": "stdout",
     "output_type": "stream",
     "text": [
      "Number of loss making sellers after 4 months: 149\n",
      "Profit after removing loss making sellers after 4 months: 1453984.26\n",
      "IMPROVEMENT: 117.78997450787185 %\n"
     ]
    }
   ],
   "source": [
    "print(f\"Number of loss making sellers after 4 months: {number_4}\")\n",
    "print(f\"Profit after removing loss making sellers after 4 months: {profit_4}\")\n",
    "print(f\"IMPROVEMENT: {((profit_4 - profit_1)/profit_1) * 100} %\")"
   ]
  },
  {
   "cell_type": "markdown",
   "metadata": {
    "slideshow": {
     "slide_type": "skip"
    }
   },
   "source": [
    "# Optimizing based on products"
   ]
  },
  {
   "cell_type": "code",
   "execution_count": 34,
   "metadata": {
    "slideshow": {
     "slide_type": "skip"
    }
   },
   "outputs": [],
   "source": [
    "from olist.product import Product"
   ]
  },
  {
   "cell_type": "code",
   "execution_count": 35,
   "metadata": {
    "slideshow": {
     "slide_type": "skip"
    }
   },
   "outputs": [
    {
     "data": {
      "text/html": [
       "<div>\n",
       "<style scoped>\n",
       "    .dataframe tbody tr th:only-of-type {\n",
       "        vertical-align: middle;\n",
       "    }\n",
       "\n",
       "    .dataframe tbody tr th {\n",
       "        vertical-align: top;\n",
       "    }\n",
       "\n",
       "    .dataframe thead th {\n",
       "        text-align: right;\n",
       "    }\n",
       "</style>\n",
       "<table border=\"1\" class=\"dataframe\">\n",
       "  <thead>\n",
       "    <tr style=\"text-align: right;\">\n",
       "      <th></th>\n",
       "      <th>product_id</th>\n",
       "      <th>product_name_length</th>\n",
       "      <th>product_description_length</th>\n",
       "      <th>product_photos_qty</th>\n",
       "      <th>product_weight_g</th>\n",
       "      <th>product_length_cm</th>\n",
       "      <th>product_height_cm</th>\n",
       "      <th>product_width_cm</th>\n",
       "      <th>category</th>\n",
       "      <th>wait_time</th>\n",
       "      <th>price</th>\n",
       "      <th>share_of_one_stars</th>\n",
       "      <th>share_of_five_stars</th>\n",
       "      <th>review_score</th>\n",
       "      <th>cost_of_reviews</th>\n",
       "      <th>n_orders</th>\n",
       "      <th>quantity</th>\n",
       "      <th>sales</th>\n",
       "      <th>revenues</th>\n",
       "      <th>profits</th>\n",
       "    </tr>\n",
       "  </thead>\n",
       "  <tbody>\n",
       "    <tr>\n",
       "      <th>0</th>\n",
       "      <td>1e9e8ef04dbcff4541ed26657ea517e5</td>\n",
       "      <td>40.0</td>\n",
       "      <td>287.0</td>\n",
       "      <td>1.0</td>\n",
       "      <td>225.0</td>\n",
       "      <td>16.0</td>\n",
       "      <td>10.0</td>\n",
       "      <td>14.0</td>\n",
       "      <td>perfumery</td>\n",
       "      <td>3.000000</td>\n",
       "      <td>10.910000</td>\n",
       "      <td>0.000000</td>\n",
       "      <td>1.000000</td>\n",
       "      <td>5.000000</td>\n",
       "      <td>0</td>\n",
       "      <td>1</td>\n",
       "      <td>1</td>\n",
       "      <td>10.91</td>\n",
       "      <td>1.091</td>\n",
       "      <td>1.091</td>\n",
       "    </tr>\n",
       "    <tr>\n",
       "      <th>1</th>\n",
       "      <td>6a2fb4dd53d2cdb88e0432f1284a004c</td>\n",
       "      <td>39.0</td>\n",
       "      <td>346.0</td>\n",
       "      <td>2.0</td>\n",
       "      <td>400.0</td>\n",
       "      <td>27.0</td>\n",
       "      <td>5.0</td>\n",
       "      <td>20.0</td>\n",
       "      <td>perfumery</td>\n",
       "      <td>9.500000</td>\n",
       "      <td>16.900000</td>\n",
       "      <td>0.000000</td>\n",
       "      <td>0.500000</td>\n",
       "      <td>3.500000</td>\n",
       "      <td>50</td>\n",
       "      <td>2</td>\n",
       "      <td>2</td>\n",
       "      <td>33.80</td>\n",
       "      <td>3.380</td>\n",
       "      <td>-46.620</td>\n",
       "    </tr>\n",
       "    <tr>\n",
       "      <th>2</th>\n",
       "      <td>0d009643171aee696f4733340bc2fdd0</td>\n",
       "      <td>52.0</td>\n",
       "      <td>150.0</td>\n",
       "      <td>1.0</td>\n",
       "      <td>422.0</td>\n",
       "      <td>21.0</td>\n",
       "      <td>16.0</td>\n",
       "      <td>18.0</td>\n",
       "      <td>perfumery</td>\n",
       "      <td>13.444444</td>\n",
       "      <td>325.627273</td>\n",
       "      <td>0.200000</td>\n",
       "      <td>0.400000</td>\n",
       "      <td>3.700000</td>\n",
       "      <td>240</td>\n",
       "      <td>10</td>\n",
       "      <td>11</td>\n",
       "      <td>3581.90</td>\n",
       "      <td>358.190</td>\n",
       "      <td>118.190</td>\n",
       "    </tr>\n",
       "    <tr>\n",
       "      <th>3</th>\n",
       "      <td>b1eae565a61935e0011ee7682fef9dc9</td>\n",
       "      <td>49.0</td>\n",
       "      <td>460.0</td>\n",
       "      <td>2.0</td>\n",
       "      <td>267.0</td>\n",
       "      <td>17.0</td>\n",
       "      <td>13.0</td>\n",
       "      <td>17.0</td>\n",
       "      <td>perfumery</td>\n",
       "      <td>21.000000</td>\n",
       "      <td>399.900000</td>\n",
       "      <td>0.000000</td>\n",
       "      <td>0.000000</td>\n",
       "      <td>2.000000</td>\n",
       "      <td>50</td>\n",
       "      <td>1</td>\n",
       "      <td>1</td>\n",
       "      <td>399.90</td>\n",
       "      <td>39.990</td>\n",
       "      <td>-10.010</td>\n",
       "    </tr>\n",
       "    <tr>\n",
       "      <th>4</th>\n",
       "      <td>8da90b37f0fb171b4877c124f965b1f6</td>\n",
       "      <td>56.0</td>\n",
       "      <td>733.0</td>\n",
       "      <td>3.0</td>\n",
       "      <td>377.0</td>\n",
       "      <td>18.0</td>\n",
       "      <td>13.0</td>\n",
       "      <td>15.0</td>\n",
       "      <td>perfumery</td>\n",
       "      <td>8.000000</td>\n",
       "      <td>137.900000</td>\n",
       "      <td>0.000000</td>\n",
       "      <td>1.000000</td>\n",
       "      <td>5.000000</td>\n",
       "      <td>0</td>\n",
       "      <td>1</td>\n",
       "      <td>1</td>\n",
       "      <td>137.90</td>\n",
       "      <td>13.790</td>\n",
       "      <td>13.790</td>\n",
       "    </tr>\n",
       "    <tr>\n",
       "      <th>...</th>\n",
       "      <td>...</td>\n",
       "      <td>...</td>\n",
       "      <td>...</td>\n",
       "      <td>...</td>\n",
       "      <td>...</td>\n",
       "      <td>...</td>\n",
       "      <td>...</td>\n",
       "      <td>...</td>\n",
       "      <td>...</td>\n",
       "      <td>...</td>\n",
       "      <td>...</td>\n",
       "      <td>...</td>\n",
       "      <td>...</td>\n",
       "      <td>...</td>\n",
       "      <td>...</td>\n",
       "      <td>...</td>\n",
       "      <td>...</td>\n",
       "      <td>...</td>\n",
       "      <td>...</td>\n",
       "      <td>...</td>\n",
       "    </tr>\n",
       "    <tr>\n",
       "      <th>31479</th>\n",
       "      <td>13b25797ad1e6d6c7cd3cbeb35f8ee7a</td>\n",
       "      <td>44.0</td>\n",
       "      <td>348.0</td>\n",
       "      <td>1.0</td>\n",
       "      <td>18250.0</td>\n",
       "      <td>25.0</td>\n",
       "      <td>25.0</td>\n",
       "      <td>25.0</td>\n",
       "      <td>furniture_mattress_and_upholstery</td>\n",
       "      <td>8.000000</td>\n",
       "      <td>129.900000</td>\n",
       "      <td>0.000000</td>\n",
       "      <td>0.000000</td>\n",
       "      <td>3.000000</td>\n",
       "      <td>40</td>\n",
       "      <td>1</td>\n",
       "      <td>1</td>\n",
       "      <td>129.90</td>\n",
       "      <td>12.990</td>\n",
       "      <td>-27.010</td>\n",
       "    </tr>\n",
       "    <tr>\n",
       "      <th>31480</th>\n",
       "      <td>dc36a7859b743d8610a2bbbaea26ece9</td>\n",
       "      <td>29.0</td>\n",
       "      <td>2073.0</td>\n",
       "      <td>2.0</td>\n",
       "      <td>2500.0</td>\n",
       "      <td>41.0</td>\n",
       "      <td>21.0</td>\n",
       "      <td>21.0</td>\n",
       "      <td>furniture_mattress_and_upholstery</td>\n",
       "      <td>6.000000</td>\n",
       "      <td>249.000000</td>\n",
       "      <td>0.000000</td>\n",
       "      <td>1.000000</td>\n",
       "      <td>5.000000</td>\n",
       "      <td>0</td>\n",
       "      <td>1</td>\n",
       "      <td>1</td>\n",
       "      <td>249.00</td>\n",
       "      <td>24.900</td>\n",
       "      <td>24.900</td>\n",
       "    </tr>\n",
       "    <tr>\n",
       "      <th>31481</th>\n",
       "      <td>107fde0930956120d1e13dd1062fbb46</td>\n",
       "      <td>51.0</td>\n",
       "      <td>418.0</td>\n",
       "      <td>1.0</td>\n",
       "      <td>30000.0</td>\n",
       "      <td>60.0</td>\n",
       "      <td>73.0</td>\n",
       "      <td>60.0</td>\n",
       "      <td>furniture_mattress_and_upholstery</td>\n",
       "      <td>17.000000</td>\n",
       "      <td>399.990000</td>\n",
       "      <td>0.000000</td>\n",
       "      <td>0.000000</td>\n",
       "      <td>4.000000</td>\n",
       "      <td>0</td>\n",
       "      <td>1</td>\n",
       "      <td>1</td>\n",
       "      <td>399.99</td>\n",
       "      <td>39.999</td>\n",
       "      <td>39.999</td>\n",
       "    </tr>\n",
       "    <tr>\n",
       "      <th>31482</th>\n",
       "      <td>726b4e18f00255e2e63491bcba3f60b8</td>\n",
       "      <td>41.0</td>\n",
       "      <td>866.0</td>\n",
       "      <td>1.0</td>\n",
       "      <td>1700.0</td>\n",
       "      <td>70.0</td>\n",
       "      <td>10.0</td>\n",
       "      <td>100.0</td>\n",
       "      <td>furniture_mattress_and_upholstery</td>\n",
       "      <td>11.818182</td>\n",
       "      <td>84.545455</td>\n",
       "      <td>0.136364</td>\n",
       "      <td>0.681818</td>\n",
       "      <td>4.272727</td>\n",
       "      <td>300</td>\n",
       "      <td>22</td>\n",
       "      <td>22</td>\n",
       "      <td>1860.00</td>\n",
       "      <td>186.000</td>\n",
       "      <td>-114.000</td>\n",
       "    </tr>\n",
       "    <tr>\n",
       "      <th>31483</th>\n",
       "      <td>1dceebcc5f23c02ea23e16d5bedca000</td>\n",
       "      <td>47.0</td>\n",
       "      <td>117.0</td>\n",
       "      <td>2.0</td>\n",
       "      <td>550.0</td>\n",
       "      <td>35.0</td>\n",
       "      <td>15.0</td>\n",
       "      <td>25.0</td>\n",
       "      <td>cds_dvds_musicals</td>\n",
       "      <td>10.500000</td>\n",
       "      <td>52.142857</td>\n",
       "      <td>0.000000</td>\n",
       "      <td>0.750000</td>\n",
       "      <td>4.666667</td>\n",
       "      <td>40</td>\n",
       "      <td>12</td>\n",
       "      <td>14</td>\n",
       "      <td>730.00</td>\n",
       "      <td>73.000</td>\n",
       "      <td>33.000</td>\n",
       "    </tr>\n",
       "  </tbody>\n",
       "</table>\n",
       "<p>31484 rows × 20 columns</p>\n",
       "</div>"
      ],
      "text/plain": [
       "                             product_id  product_name_length  \\\n",
       "0      1e9e8ef04dbcff4541ed26657ea517e5                 40.0   \n",
       "1      6a2fb4dd53d2cdb88e0432f1284a004c                 39.0   \n",
       "2      0d009643171aee696f4733340bc2fdd0                 52.0   \n",
       "3      b1eae565a61935e0011ee7682fef9dc9                 49.0   \n",
       "4      8da90b37f0fb171b4877c124f965b1f6                 56.0   \n",
       "...                                 ...                  ...   \n",
       "31479  13b25797ad1e6d6c7cd3cbeb35f8ee7a                 44.0   \n",
       "31480  dc36a7859b743d8610a2bbbaea26ece9                 29.0   \n",
       "31481  107fde0930956120d1e13dd1062fbb46                 51.0   \n",
       "31482  726b4e18f00255e2e63491bcba3f60b8                 41.0   \n",
       "31483  1dceebcc5f23c02ea23e16d5bedca000                 47.0   \n",
       "\n",
       "       product_description_length  product_photos_qty  product_weight_g  \\\n",
       "0                           287.0                 1.0             225.0   \n",
       "1                           346.0                 2.0             400.0   \n",
       "2                           150.0                 1.0             422.0   \n",
       "3                           460.0                 2.0             267.0   \n",
       "4                           733.0                 3.0             377.0   \n",
       "...                           ...                 ...               ...   \n",
       "31479                       348.0                 1.0           18250.0   \n",
       "31480                      2073.0                 2.0            2500.0   \n",
       "31481                       418.0                 1.0           30000.0   \n",
       "31482                       866.0                 1.0            1700.0   \n",
       "31483                       117.0                 2.0             550.0   \n",
       "\n",
       "       product_length_cm  product_height_cm  product_width_cm  \\\n",
       "0                   16.0               10.0              14.0   \n",
       "1                   27.0                5.0              20.0   \n",
       "2                   21.0               16.0              18.0   \n",
       "3                   17.0               13.0              17.0   \n",
       "4                   18.0               13.0              15.0   \n",
       "...                  ...                ...               ...   \n",
       "31479               25.0               25.0              25.0   \n",
       "31480               41.0               21.0              21.0   \n",
       "31481               60.0               73.0              60.0   \n",
       "31482               70.0               10.0             100.0   \n",
       "31483               35.0               15.0              25.0   \n",
       "\n",
       "                                category  wait_time       price  \\\n",
       "0                              perfumery   3.000000   10.910000   \n",
       "1                              perfumery   9.500000   16.900000   \n",
       "2                              perfumery  13.444444  325.627273   \n",
       "3                              perfumery  21.000000  399.900000   \n",
       "4                              perfumery   8.000000  137.900000   \n",
       "...                                  ...        ...         ...   \n",
       "31479  furniture_mattress_and_upholstery   8.000000  129.900000   \n",
       "31480  furniture_mattress_and_upholstery   6.000000  249.000000   \n",
       "31481  furniture_mattress_and_upholstery  17.000000  399.990000   \n",
       "31482  furniture_mattress_and_upholstery  11.818182   84.545455   \n",
       "31483                  cds_dvds_musicals  10.500000   52.142857   \n",
       "\n",
       "       share_of_one_stars  share_of_five_stars  review_score  cost_of_reviews  \\\n",
       "0                0.000000             1.000000      5.000000                0   \n",
       "1                0.000000             0.500000      3.500000               50   \n",
       "2                0.200000             0.400000      3.700000              240   \n",
       "3                0.000000             0.000000      2.000000               50   \n",
       "4                0.000000             1.000000      5.000000                0   \n",
       "...                   ...                  ...           ...              ...   \n",
       "31479            0.000000             0.000000      3.000000               40   \n",
       "31480            0.000000             1.000000      5.000000                0   \n",
       "31481            0.000000             0.000000      4.000000                0   \n",
       "31482            0.136364             0.681818      4.272727              300   \n",
       "31483            0.000000             0.750000      4.666667               40   \n",
       "\n",
       "       n_orders  quantity    sales  revenues  profits  \n",
       "0             1         1    10.91     1.091    1.091  \n",
       "1             2         2    33.80     3.380  -46.620  \n",
       "2            10        11  3581.90   358.190  118.190  \n",
       "3             1         1   399.90    39.990  -10.010  \n",
       "4             1         1   137.90    13.790   13.790  \n",
       "...         ...       ...      ...       ...      ...  \n",
       "31479         1         1   129.90    12.990  -27.010  \n",
       "31480         1         1   249.00    24.900   24.900  \n",
       "31481         1         1   399.99    39.999   39.999  \n",
       "31482        22        22  1860.00   186.000 -114.000  \n",
       "31483        12        14   730.00    73.000   33.000  \n",
       "\n",
       "[31484 rows x 20 columns]"
      ]
     },
     "execution_count": 35,
     "metadata": {},
     "output_type": "execute_result"
    }
   ],
   "source": [
    "products = Product().get_training_data()\n",
    "products"
   ]
  },
  {
   "cell_type": "code",
   "execution_count": 36,
   "metadata": {
    "slideshow": {
     "slide_type": "skip"
    }
   },
   "outputs": [
    {
     "data": {
      "text/plain": [
       "-289896.93499999994"
      ]
     },
     "execution_count": 36,
     "metadata": {},
     "output_type": "execute_result"
    }
   ],
   "source": [
    "products[\"profits\"].sum()"
   ]
  },
  {
   "cell_type": "code",
   "execution_count": 37,
   "metadata": {
    "slideshow": {
     "slide_type": "skip"
    }
   },
   "outputs": [
    {
     "data": {
      "text/plain": [
       "1580.6804991877716"
      ]
     },
     "execution_count": 37,
     "metadata": {},
     "output_type": "execute_result"
    }
   ],
   "source": [
    "b = 500000/(products[\"n_orders\"].sum()**0.5)\n",
    "b"
   ]
  },
  {
   "cell_type": "code",
   "execution_count": 38,
   "metadata": {
    "slideshow": {
     "slide_type": "skip"
    }
   },
   "outputs": [
    {
     "data": {
      "text/plain": [
       "-2244213.0981324026"
      ]
     },
     "execution_count": 38,
     "metadata": {},
     "output_type": "execute_result"
    }
   ],
   "source": [
    "products1 = products.copy()\n",
    "\n",
    "products1[\"it_costs\"] = products1[\"n_orders\"]** 0.5 * factor1\n",
    "products1[\"profits\"] = products1[\"profits\"] - products1[\"it_costs\"]\n",
    "\n",
    "products1[\"profits\"].sum()"
   ]
  },
  {
   "cell_type": "code",
   "execution_count": 39,
   "metadata": {
    "slideshow": {
     "slide_type": "skip"
    }
   },
   "outputs": [
    {
     "data": {
      "text/plain": [
       "221172.5376493246"
      ]
     },
     "execution_count": 39,
     "metadata": {},
     "output_type": "execute_result"
    }
   ],
   "source": [
    "products1[products1[\"profits\"] > 0][\"profits\"].sum()"
   ]
  },
  {
   "cell_type": "code",
   "execution_count": 40,
   "metadata": {
    "slideshow": {
     "slide_type": "skip"
    }
   },
   "outputs": [
    {
     "data": {
      "text/plain": [
       "2251"
      ]
     },
     "execution_count": 40,
     "metadata": {},
     "output_type": "execute_result"
    }
   ],
   "source": [
    "products1[products1[\"profits\"] > 0][\"product_id\"].count()"
   ]
  },
  {
   "cell_type": "code",
   "execution_count": 41,
   "metadata": {
    "slideshow": {
     "slide_type": "skip"
    }
   },
   "outputs": [],
   "source": [
    "products2 = products.sort_values(by = \"profits\")"
   ]
  },
  {
   "cell_type": "code",
   "execution_count": 42,
   "metadata": {
    "slideshow": {
     "slide_type": "skip"
    }
   },
   "outputs": [],
   "source": [
    "profit = []\n",
    "for i in range(len(products2)):\n",
    "    tmp = products2[i:]\n",
    "    it_costs = (tmp[\"n_orders\"].sum())**0.5 * a\n",
    "    total_profits = tmp[\"profits\"].sum() - it_costs\n",
    "    profit.append(total_profits)"
   ]
  },
  {
   "cell_type": "code",
   "execution_count": 43,
   "metadata": {
    "slideshow": {
     "slide_type": "skip"
    },
    "tags": [
     "remove_input"
    ]
   },
   "outputs": [
    {
     "data": {
      "text/plain": [
       "[<matplotlib.lines.Line2D at 0x7f5f1c506b80>]"
      ]
     },
     "execution_count": 43,
     "metadata": {},
     "output_type": "execute_result"
    },
    {
     "data": {
      "image/png": "[encoded data removed]",
      "text/plain": [
       "<Figure size 432x288 with 1 Axes>"
      ]
     },
     "metadata": {
      "needs_background": "light"
     },
     "output_type": "display_data"
    }
   ],
   "source": [
    "x = [i for i in range(len(products2))]\n",
    "plt.plot(x, profit)"
   ]
  },
  {
   "cell_type": "code",
   "execution_count": 44,
   "metadata": {
    "slideshow": {
     "slide_type": "skip"
    }
   },
   "outputs": [
    {
     "data": {
      "text/plain": [
       "14176"
      ]
     },
     "execution_count": 44,
     "metadata": {},
     "output_type": "execute_result"
    }
   ],
   "source": [
    "profit.index(max(profit))"
   ]
  },
  {
   "cell_type": "code",
   "execution_count": 45,
   "metadata": {
    "slideshow": {
     "slide_type": "skip"
    }
   },
   "outputs": [
    {
     "data": {
      "text/plain": [
       "668984.81"
      ]
     },
     "execution_count": 45,
     "metadata": {},
     "output_type": "execute_result"
    }
   ],
   "source": [
    "products2.iloc[profit.index(max(profit)):][\"profits\"].sum()"
   ]
  },
  {
   "cell_type": "code",
   "execution_count": 46,
   "metadata": {
    "slideshow": {
     "slide_type": "skip"
    }
   },
   "outputs": [],
   "source": [
    "number_1 = 0\n",
    "number_2 = products[products[\"profits\"] < 0].count()[\"product_id\"]\n",
    "number_3 = profit.index(max(profit))\n",
    "\n",
    "profit_1 = products[\"profits\"].sum()\n",
    "profit_2 = products1[products1[\"profits\"] > 0][\"profits\"].sum()\n",
    "profit_3 = products2.iloc[profit.index(max(profit)):][\"profits\"].sum()\n",
    "\n",
    "x = [number_1, number_2, number_3]\n",
    "y = [profit_1, profit_2, profit_3]"
   ]
  },
  {
   "cell_type": "code",
   "execution_count": 90,
   "metadata": {
    "slideshow": {
     "slide_type": "skip"
    },
    "tags": [
     "remove_input"
    ]
   },
   "outputs": [
    {
     "data": {
      "image/png": "[encoded data removed]",
      "text/plain": [
       "<Figure size 432x288 with 1 Axes>"
      ]
     },
     "metadata": {
      "needs_background": "light"
     },
     "output_type": "display_data"
    }
   ],
   "source": [
    "dx = sns.barplot(x = x, y = y, order = [number_1, number_2, number_3])\n",
    "dx.set(title = \"Comparison of Profits On Various Type of Removal on Products\")\n",
    "dx.set(xticklabels=[\"remove none\", \"remove all loss making\", \"optimized removal\"]);"
   ]
  },
  {
   "cell_type": "markdown",
   "metadata": {
    "slideshow": {
     "slide_type": "skip"
    }
   },
   "source": [
    "# Should Olist acquire new customers?"
   ]
  },
  {
   "cell_type": "markdown",
   "metadata": {
    "slideshow": {
     "slide_type": "skip"
    }
   },
   "source": [
    "## Calculating by average profit per seller per month (without removal)"
   ]
  },
  {
   "cell_type": "code",
   "execution_count": 48,
   "metadata": {
    "slideshow": {
     "slide_type": "skip"
    }
   },
   "outputs": [
    {
     "data": {
      "text/plain": [
       "<AxesSubplot:xlabel='profits', ylabel='Count'>"
      ]
     },
     "execution_count": 48,
     "metadata": {},
     "output_type": "execute_result"
    },
    {
     "data": {
      "image/png": "[encoded data removed]",
      "text/plain": [
       "<Figure size 432x288 with 1 Axes>"
      ]
     },
     "metadata": {
      "needs_background": "light"
     },
     "output_type": "display_data"
    }
   ],
   "source": [
    "sns.histplot(sellers1.groupby(\"months_on_olist\").mean()[\"profits\"], kde = True)"
   ]
  },
  {
   "cell_type": "code",
   "execution_count": 49,
   "metadata": {
    "slideshow": {
     "slide_type": "skip"
    }
   },
   "outputs": [
    {
     "data": {
      "text/plain": [
       "<AxesSubplot:xlabel='months_on_olist', ylabel='profits'>"
      ]
     },
     "execution_count": 49,
     "metadata": {},
     "output_type": "execute_result"
    },
    {
     "data": {
      "image/png": "[encoded data removed]",
      "text/plain": [
       "<Figure size 432x288 with 1 Axes>"
      ]
     },
     "metadata": {
      "needs_background": "light"
     },
     "output_type": "display_data"
    }
   ],
   "source": [
    "sns.regplot(x = \"months_on_olist\", y = \"profits\", data = sellers)"
   ]
  },
  {
   "cell_type": "code",
   "execution_count": 50,
   "metadata": {
    "slideshow": {
     "slide_type": "skip"
    }
   },
   "outputs": [],
   "source": [
    "profit_per_seller_per_month = sellers1.groupby(\"months_on_olist\").mean()[\"profits\"].mean()"
   ]
  },
  {
   "cell_type": "code",
   "execution_count": 51,
   "metadata": {
    "slideshow": {
     "slide_type": "skip"
    }
   },
   "outputs": [
    {
     "data": {
      "text/plain": [
       "400.21587484731845"
      ]
     },
     "execution_count": 51,
     "metadata": {},
     "output_type": "execute_result"
    }
   ],
   "source": [
    "profit_per_seller_per_month"
   ]
  },
  {
   "cell_type": "code",
   "execution_count": 52,
   "metadata": {
    "slideshow": {
     "slide_type": "skip"
    }
   },
   "outputs": [],
   "source": [
    "payback_period = 12"
   ]
  },
  {
   "cell_type": "code",
   "execution_count": 53,
   "metadata": {
    "slideshow": {
     "slide_type": "skip"
    }
   },
   "outputs": [],
   "source": [
    "cost_of_marketing_max = profit_per_seller_per_month * payback_period"
   ]
  },
  {
   "cell_type": "code",
   "execution_count": 54,
   "metadata": {
    "slideshow": {
     "slide_type": "skip"
    }
   },
   "outputs": [
    {
     "data": {
      "text/plain": [
       "4802.590498167821"
      ]
     },
     "execution_count": 54,
     "metadata": {},
     "output_type": "execute_result"
    }
   ],
   "source": [
    "cost_of_marketing_max"
   ]
  },
  {
   "cell_type": "markdown",
   "metadata": {
    "slideshow": {
     "slide_type": "skip"
    }
   },
   "source": [
    "## Calculating by average profit per seller per month (with removal)"
   ]
  },
  {
   "cell_type": "code",
   "execution_count": 55,
   "metadata": {
    "slideshow": {
     "slide_type": "skip"
    }
   },
   "outputs": [],
   "source": [
    "profit_per_seller_per_month2 = sellers2.groupby(\"months_on_olist\").mean()[\"profits\"].mean()"
   ]
  },
  {
   "cell_type": "code",
   "execution_count": 56,
   "metadata": {
    "slideshow": {
     "slide_type": "skip"
    }
   },
   "outputs": [
    {
     "data": {
      "text/plain": [
       "1172.7773974883987"
      ]
     },
     "execution_count": 56,
     "metadata": {},
     "output_type": "execute_result"
    }
   ],
   "source": [
    "profit_per_seller_per_month2"
   ]
  },
  {
   "cell_type": "code",
   "execution_count": 57,
   "metadata": {
    "slideshow": {
     "slide_type": "skip"
    }
   },
   "outputs": [],
   "source": [
    "cost_of_marketing_max = profit_per_seller_per_month2 * payback_period"
   ]
  },
  {
   "cell_type": "code",
   "execution_count": 58,
   "metadata": {
    "slideshow": {
     "slide_type": "skip"
    }
   },
   "outputs": [
    {
     "data": {
      "text/plain": [
       "14073.328769860786"
      ]
     },
     "execution_count": 58,
     "metadata": {},
     "output_type": "execute_result"
    }
   ],
   "source": [
    "cost_of_marketing_max"
   ]
  },
  {
   "cell_type": "markdown",
   "metadata": {
    "slideshow": {
     "slide_type": "skip"
    }
   },
   "source": [
    "## 4.2  Calculating by average profit per seller per month (with removal < -960)"
   ]
  },
  {
   "cell_type": "code",
   "execution_count": 59,
   "metadata": {
    "slideshow": {
     "slide_type": "skip"
    }
   },
   "outputs": [],
   "source": [
    "profit_per_seller_per_month3 = sellers3.groupby(\"months_on_olist\").mean()[\"profits\"].mean()"
   ]
  },
  {
   "cell_type": "code",
   "execution_count": 60,
   "metadata": {
    "slideshow": {
     "slide_type": "skip"
    }
   },
   "outputs": [
    {
     "data": {
      "text/plain": [
       "687.50523488013"
      ]
     },
     "execution_count": 60,
     "metadata": {},
     "output_type": "execute_result"
    }
   ],
   "source": [
    "profit_per_seller_per_month3"
   ]
  },
  {
   "cell_type": "code",
   "execution_count": 61,
   "metadata": {
    "slideshow": {
     "slide_type": "skip"
    }
   },
   "outputs": [],
   "source": [
    "cost_of_marketing_max3 = profit_per_seller_per_month3 * payback_period"
   ]
  },
  {
   "cell_type": "code",
   "execution_count": 62,
   "metadata": {
    "slideshow": {
     "slide_type": "skip"
    }
   },
   "outputs": [
    {
     "data": {
      "text/plain": [
       "8250.06281856156"
      ]
     },
     "execution_count": 62,
     "metadata": {},
     "output_type": "execute_result"
    }
   ],
   "source": [
    "cost_of_marketing_max3"
   ]
  },
  {
   "cell_type": "markdown",
   "metadata": {
    "slideshow": {
     "slide_type": "skip"
    }
   },
   "source": [
    "## Calculating by pure PAAS revenue"
   ]
  },
  {
   "cell_type": "code",
   "execution_count": 63,
   "metadata": {
    "slideshow": {
     "slide_type": "skip"
    }
   },
   "outputs": [],
   "source": [
    "pure_paas_revenue = 80"
   ]
  },
  {
   "cell_type": "code",
   "execution_count": 64,
   "metadata": {
    "slideshow": {
     "slide_type": "skip"
    }
   },
   "outputs": [],
   "source": [
    "cost_of_marketing_max_1 = pure_paas_revenue * payback_period"
   ]
  },
  {
   "cell_type": "code",
   "execution_count": 65,
   "metadata": {
    "slideshow": {
     "slide_type": "skip"
    }
   },
   "outputs": [
    {
     "data": {
      "text/plain": [
       "960"
      ]
     },
     "execution_count": 65,
     "metadata": {},
     "output_type": "execute_result"
    }
   ],
   "source": [
    "cost_of_marketing_max_1"
   ]
  }
 ],
 "metadata": {
  "celltoolbar": "Raw Cell Format",
  "kernelspec": {
   "display_name": "Python 3 (ipykernel)",
   "language": "python",
   "name": "python3"
  },
  "language_info": {
   "codemirror_mode": {
    "name": "ipython",
    "version": 3
   },
   "file_extension": ".py",
   "mimetype": "text/x-python",
   "name": "python",
   "nbconvert_exporter": "python",
   "pygments_lexer": "ipython3",
   "version": "3.8.12"
  },
  "toc": {
   "base_numbering": 1,
   "nav_menu": {},
   "number_sections": true,
   "sideBar": true,
   "skip_h1_title": false,
   "title_cell": "Table of Contents",
   "title_sidebar": "Contents",
   "toc_cell": false,
   "toc_position": {},
   "toc_section_display": true,
   "toc_window_display": false
  }
 },
 "nbformat": 4,
 "nbformat_minor": 4
}
