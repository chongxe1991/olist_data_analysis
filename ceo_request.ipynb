{
 "cells": [
  {
   "cell_type": "markdown",
   "metadata": {
    "slideshow": {
     "slide_type": "slide"
    }
   },
   "source": [
    "# Olist Profit Optimization Plan"
   ]
  },
  {
   "cell_type": "markdown",
   "metadata": {
    "slideshow": {
     "slide_type": "skip"
    }
   },
   "source": [
    "## 1. Problem statement (summarized)\n",
    "\n",
    ">❓ How should Olist improve its profit margin ❓, given that it has \n",
    "> - some revenues per sellers per months\n",
    "> - some revenues per orders\n",
    "> - some reputation costs (estimated) per bad reviews\n",
    "> - some operational costs of IT system that grows with number of orders, but not linearly (scale effects)\n",
    "\n",
    "\n",
    "Our key findings so far :\n",
    "- We have seen that `wait_time` was the most significant factor behind low review scores, but reading comments of the bad reviews also showed that some of them were linked to the seller or to the product itself.\n",
    "- `wait_time` is made up of seller's `delay_to_carrier` + `carrier_delivery_time`. The latter being outside of Olist's direct control, improving it is not a quick-win recommendation we can make to Olist CEO without in-depth analysis of their operational practices.\n",
    "- On the contrary, a better selection of `sellers` can positively impact the `delay_to_carrier` and reduce the number of bad `review_scores` on Olist.\n",
    "\n",
    "👉 The Seller analysis is started below, followed by investigation into other hypothesis"
   ]
  },
  {
   "cell_type": "markdown",
   "metadata": {
    "slideshow": {
     "slide_type": "slide"
    }
   },
   "source": [
    "# Should we remove underperforming sellers from our marketplace ?** 🕵🏻"
   ]
  },
  {
   "cell_type": "markdown",
   "metadata": {
    "slideshow": {
     "slide_type": "skip"
    }
   },
   "source": [
    "To analyse the impact of removing the worse sellers from Olist's marketplace, a what-if analysis is performed: What would have happened if Olist had never accepted these sellers in the first place? (granted, it's hard to know in advance who is a good seller, but this is a good starting point).\n",
    "\n",
    "1️⃣ For each `seller_id`, the following aspects are computed and cumulated since the beginning:\n",
    "- the `revenues` it brings\n",
    "- the `costs` associated with all its bad reviews\n",
    "- the resulting `profits` (revenues - costs)\n",
    "- the number of `orders` (it will impact the overall IT costs)\n",
    "\n",
    "\n",
    "2️⃣ Then:\n",
    "- sellers are sorted by increasing profits for Olist\n",
    "- for each number of sellers to remove, the financial impact it would have made if they had never been accepted on the platform is computed. \n",
    "- An optimal number of sellers to remove that maximizes Olist's profit margin is then calculated\n",
    "\n",
    "👉 A detailed strategy (step by step) is written to create the DataFrame needed for the first step.\n",
    "\n",
    "Starting from the current `seller().get_training_data()` DataFrame, is it possible to transform the data to compute:\n",
    "- Olist's positive `revenue_per_seller`?\n",
    "- Olist's `cost_of_bad_reviews`?"
   ]
  },
  {
   "cell_type": "code",
   "execution_count": 1,
   "metadata": {
    "slideshow": {
     "slide_type": "skip"
    }
   },
   "outputs": [],
   "source": [
    "#Modules are imported\n",
    "import pandas as pd\n",
    "import matplotlib.pyplot as plt\n",
    "import seaborn as sns\n",
    "\n",
    "#Data is imported\n",
    "from seller import Seller"
   ]
  },
  {
   "cell_type": "code",
   "execution_count": 18,
   "metadata": {
    "slideshow": {
     "slide_type": "skip"
    }
   },
   "outputs": [
    {
     "data": {
      "text/html": [
       "<div>\n",
       "<style scoped>\n",
       "    .dataframe tbody tr th:only-of-type {\n",
       "        vertical-align: middle;\n",
       "    }\n",
       "\n",
       "    .dataframe tbody tr th {\n",
       "        vertical-align: top;\n",
       "    }\n",
       "\n",
       "    .dataframe thead th {\n",
       "        text-align: right;\n",
       "    }\n",
       "</style>\n",
       "<table border=\"1\" class=\"dataframe\">\n",
       "  <thead>\n",
       "    <tr style=\"text-align: right;\">\n",
       "      <th></th>\n",
       "      <th>seller_id</th>\n",
       "      <th>seller_city</th>\n",
       "      <th>seller_state</th>\n",
       "      <th>delay_to_carrier</th>\n",
       "      <th>wait_time</th>\n",
       "      <th>date_first_sale</th>\n",
       "      <th>date_last_sale</th>\n",
       "      <th>months_on_olist</th>\n",
       "      <th>share_of_one_stars</th>\n",
       "      <th>share_of_five_stars</th>\n",
       "      <th>review_score</th>\n",
       "      <th>cost_of_reviews</th>\n",
       "      <th>n_orders</th>\n",
       "      <th>quantity</th>\n",
       "      <th>quantity_per_order</th>\n",
       "      <th>sales</th>\n",
       "      <th>revenues</th>\n",
       "      <th>profits</th>\n",
       "    </tr>\n",
       "  </thead>\n",
       "  <tbody>\n",
       "    <tr>\n",
       "      <th>0</th>\n",
       "      <td>3442f8959a84dea7ee197c632cb2df15</td>\n",
       "      <td>campinas</td>\n",
       "      <td>SP</td>\n",
       "      <td>0.000000</td>\n",
       "      <td>13.018588</td>\n",
       "      <td>2017-05-05 16:25:11</td>\n",
       "      <td>2017-08-30 12:50:19</td>\n",
       "      <td>4.0</td>\n",
       "      <td>0.333333</td>\n",
       "      <td>0.333333</td>\n",
       "      <td>3.00</td>\n",
       "      <td>140</td>\n",
       "      <td>3</td>\n",
       "      <td>3</td>\n",
       "      <td>1.000</td>\n",
       "      <td>218.70</td>\n",
       "      <td>341.870</td>\n",
       "      <td>201.870</td>\n",
       "    </tr>\n",
       "    <tr>\n",
       "      <th>1</th>\n",
       "      <td>d1b65fc7debc3361ea86b5f14c68d2e2</td>\n",
       "      <td>mogi guacu</td>\n",
       "      <td>SP</td>\n",
       "      <td>0.000000</td>\n",
       "      <td>9.065716</td>\n",
       "      <td>2017-03-29 02:10:34</td>\n",
       "      <td>2018-06-06 20:15:21</td>\n",
       "      <td>14.0</td>\n",
       "      <td>0.050000</td>\n",
       "      <td>0.725000</td>\n",
       "      <td>4.55</td>\n",
       "      <td>240</td>\n",
       "      <td>40</td>\n",
       "      <td>41</td>\n",
       "      <td>1.025</td>\n",
       "      <td>11703.07</td>\n",
       "      <td>2290.307</td>\n",
       "      <td>2050.307</td>\n",
       "    </tr>\n",
       "    <tr>\n",
       "      <th>2</th>\n",
       "      <td>ce3ad9de960102d0677a81f5d0bb7b2d</td>\n",
       "      <td>rio de janeiro</td>\n",
       "      <td>RJ</td>\n",
       "      <td>0.000000</td>\n",
       "      <td>4.042292</td>\n",
       "      <td>2018-07-30 12:44:49</td>\n",
       "      <td>2018-07-30 12:44:49</td>\n",
       "      <td>0.0</td>\n",
       "      <td>0.000000</td>\n",
       "      <td>1.000000</td>\n",
       "      <td>5.00</td>\n",
       "      <td>0</td>\n",
       "      <td>1</td>\n",
       "      <td>1</td>\n",
       "      <td>1.000</td>\n",
       "      <td>158.00</td>\n",
       "      <td>15.800</td>\n",
       "      <td>15.800</td>\n",
       "    </tr>\n",
       "    <tr>\n",
       "      <th>3</th>\n",
       "      <td>c0f3eea2e14555b6faeea3dd58c1b1c3</td>\n",
       "      <td>sao paulo</td>\n",
       "      <td>SP</td>\n",
       "      <td>0.000000</td>\n",
       "      <td>5.667187</td>\n",
       "      <td>2018-08-03 00:44:08</td>\n",
       "      <td>2018-08-03 00:44:08</td>\n",
       "      <td>0.0</td>\n",
       "      <td>0.000000</td>\n",
       "      <td>1.000000</td>\n",
       "      <td>5.00</td>\n",
       "      <td>0</td>\n",
       "      <td>1</td>\n",
       "      <td>1</td>\n",
       "      <td>1.000</td>\n",
       "      <td>79.99</td>\n",
       "      <td>7.999</td>\n",
       "      <td>7.999</td>\n",
       "    </tr>\n",
       "    <tr>\n",
       "      <th>4</th>\n",
       "      <td>51a04a8a6bdcb23deccc82b0b80742cf</td>\n",
       "      <td>braganca paulista</td>\n",
       "      <td>SP</td>\n",
       "      <td>3.353727</td>\n",
       "      <td>35.314861</td>\n",
       "      <td>2017-11-14 12:15:25</td>\n",
       "      <td>2017-11-14 12:15:25</td>\n",
       "      <td>0.0</td>\n",
       "      <td>1.000000</td>\n",
       "      <td>0.000000</td>\n",
       "      <td>1.00</td>\n",
       "      <td>100</td>\n",
       "      <td>1</td>\n",
       "      <td>1</td>\n",
       "      <td>1.000</td>\n",
       "      <td>167.99</td>\n",
       "      <td>16.799</td>\n",
       "      <td>-83.201</td>\n",
       "    </tr>\n",
       "  </tbody>\n",
       "</table>\n",
       "</div>"
      ],
      "text/plain": [
       "                          seller_id        seller_city seller_state  \\\n",
       "0  3442f8959a84dea7ee197c632cb2df15           campinas           SP   \n",
       "1  d1b65fc7debc3361ea86b5f14c68d2e2         mogi guacu           SP   \n",
       "2  ce3ad9de960102d0677a81f5d0bb7b2d     rio de janeiro           RJ   \n",
       "3  c0f3eea2e14555b6faeea3dd58c1b1c3          sao paulo           SP   \n",
       "4  51a04a8a6bdcb23deccc82b0b80742cf  braganca paulista           SP   \n",
       "\n",
       "   delay_to_carrier  wait_time     date_first_sale      date_last_sale  \\\n",
       "0          0.000000  13.018588 2017-05-05 16:25:11 2017-08-30 12:50:19   \n",
       "1          0.000000   9.065716 2017-03-29 02:10:34 2018-06-06 20:15:21   \n",
       "2          0.000000   4.042292 2018-07-30 12:44:49 2018-07-30 12:44:49   \n",
       "3          0.000000   5.667187 2018-08-03 00:44:08 2018-08-03 00:44:08   \n",
       "4          3.353727  35.314861 2017-11-14 12:15:25 2017-11-14 12:15:25   \n",
       "\n",
       "   months_on_olist  share_of_one_stars  share_of_five_stars  review_score  \\\n",
       "0              4.0            0.333333             0.333333          3.00   \n",
       "1             14.0            0.050000             0.725000          4.55   \n",
       "2              0.0            0.000000             1.000000          5.00   \n",
       "3              0.0            0.000000             1.000000          5.00   \n",
       "4              0.0            1.000000             0.000000          1.00   \n",
       "\n",
       "   cost_of_reviews  n_orders  quantity  quantity_per_order     sales  \\\n",
       "0              140         3         3               1.000    218.70   \n",
       "1              240        40        41               1.025  11703.07   \n",
       "2                0         1         1               1.000    158.00   \n",
       "3                0         1         1               1.000     79.99   \n",
       "4              100         1         1               1.000    167.99   \n",
       "\n",
       "   revenues   profits  \n",
       "0   341.870   201.870  \n",
       "1  2290.307  2050.307  \n",
       "2    15.800    15.800  \n",
       "3     7.999     7.999  \n",
       "4    16.799   -83.201  "
      ]
     },
     "execution_count": 18,
     "metadata": {},
     "output_type": "execute_result"
    }
   ],
   "source": [
    "sellers = Seller().get_training_data()\n",
    "\n",
    "sellers.head()"
   ]
  },
  {
   "cell_type": "code",
   "execution_count": 3,
   "metadata": {
    "slideshow": {
     "slide_type": "skip"
    }
   },
   "outputs": [
    {
     "data": {
      "text/plain": [
       "1167608.4440000001"
      ]
     },
     "execution_count": 3,
     "metadata": {},
     "output_type": "execute_result"
    }
   ],
   "source": [
    "#Total profits brought in by sellers\n",
    "sellers[\"profits\"].sum()"
   ]
  },
  {
   "cell_type": "code",
   "execution_count": 4,
   "metadata": {
    "slideshow": {
     "slide_type": "subslide"
    },
    "tags": [
     "remove_input"
    ]
   },
   "outputs": [
    {
     "data": {
      "image/png": "[encoded data removed]",
      "text/plain": [
       "<Figure size 1080x432 with 1 Axes>"
      ]
     },
     "metadata": {
      "needs_background": "light"
     },
     "output_type": "display_data"
    }
   ],
   "source": [
    "#Sorting sellers according to the profits they brought in\n",
    "sellers_by_profits = sellers.sort_values(by = \"profits\")[\"profits\"].reset_index()\n",
    "\n",
    "#Visualizing the sellers according to the sorted profits; the sellers which brings in the least profits/most losses on the left,\n",
    "#and sellers with the most profits on the right\n",
    "plt.figure(figsize = (15, 6))\n",
    "plt.plot(sellers_by_profits.index, sellers_by_profits[\"profits\"])\n",
    "plt.title(\"Profits vs Sellers\")\n",
    "plt.xlabel(\"Number of sellers\")\n",
    "plt.ylabel(\"Profits brought in by seller\");"
   ]
  },
  {
   "cell_type": "markdown",
   "metadata": {},
   "source": [
    "From the above graph, we know that there are a group of sellers which brought in losses to Olist. What is the impact to the company if we remove these sellers?"
   ]
  },
  {
   "cell_type": "markdown",
   "metadata": {
    "slideshow": {
     "slide_type": "slide"
    }
   },
   "source": [
    "# Removing All Non-Profit Making Sellers"
   ]
  },
  {
   "cell_type": "code",
   "execution_count": 5,
   "metadata": {
    "slideshow": {
     "slide_type": "skip"
    }
   },
   "outputs": [
    {
     "data": {
      "text/plain": [
       "99841"
      ]
     },
     "execution_count": 5,
     "metadata": {},
     "output_type": "execute_result"
    }
   ],
   "source": [
    "#Total number of orders brought in by sellers\n",
    "sellers[\"n_orders\"].sum()"
   ]
  },
  {
   "cell_type": "code",
   "execution_count": 6,
   "metadata": {
    "slideshow": {
     "slide_type": "skip"
    }
   },
   "outputs": [
    {
     "data": {
      "text/plain": [
       "41.97705838297093"
      ]
     },
     "execution_count": 6,
     "metadata": {},
     "output_type": "execute_result"
    }
   ],
   "source": [
    "#As the total IT costs amount to 500000 BRL, we use it as a simple way to find the factor of IT costs for each seller\n",
    "factor_per_seller = 500000 / (sellers[\"n_orders\"]** 0.5).sum()\n",
    "\n",
    "factor_per_seller"
   ]
  },
  {
   "cell_type": "code",
   "execution_count": 7,
   "metadata": {
    "slideshow": {
     "slide_type": "skip"
    }
   },
   "outputs": [
    {
     "data": {
      "text/plain": [
       "667608.444"
      ]
     },
     "execution_count": 7,
     "metadata": {},
     "output_type": "execute_result"
    }
   ],
   "source": [
    "sellers_df = sellers.copy()\n",
    "\n",
    "#Calculating IT costs for each seller\n",
    "sellers_df[\"it_costs\"] = sellers_df[\"n_orders\"]** 0.5 * factor_per_seller\n",
    "\n",
    "#Calculating net profits for each seller after deducting the IT cost\n",
    "sellers_df[\"net_profits\"] = sellers_df[\"profits\"] - sellers_df[\"it_costs\"]\n",
    "\n",
    "sellers_df\n",
    "\n",
    "#Calculating the total net profit from all sellers after deducting IT costs\n",
    "sellers_df[\"net_profits\"].sum()"
   ]
  },
  {
   "cell_type": "code",
   "execution_count": 8,
   "metadata": {
    "slideshow": {
     "slide_type": "skip"
    }
   },
   "outputs": [
    {
     "data": {
      "text/html": [
       "<div>\n",
       "<style scoped>\n",
       "    .dataframe tbody tr th:only-of-type {\n",
       "        vertical-align: middle;\n",
       "    }\n",
       "\n",
       "    .dataframe tbody tr th {\n",
       "        vertical-align: top;\n",
       "    }\n",
       "\n",
       "    .dataframe thead th {\n",
       "        text-align: right;\n",
       "    }\n",
       "</style>\n",
       "<table border=\"1\" class=\"dataframe\">\n",
       "  <thead>\n",
       "    <tr style=\"text-align: right;\">\n",
       "      <th></th>\n",
       "      <th>seller_id</th>\n",
       "      <th>seller_city</th>\n",
       "      <th>seller_state</th>\n",
       "      <th>delay_to_carrier</th>\n",
       "      <th>wait_time</th>\n",
       "      <th>date_first_sale</th>\n",
       "      <th>date_last_sale</th>\n",
       "      <th>months_on_olist</th>\n",
       "      <th>share_of_one_stars</th>\n",
       "      <th>share_of_five_stars</th>\n",
       "      <th>review_score</th>\n",
       "      <th>cost_of_reviews</th>\n",
       "      <th>n_orders</th>\n",
       "      <th>quantity</th>\n",
       "      <th>quantity_per_order</th>\n",
       "      <th>sales</th>\n",
       "      <th>revenues</th>\n",
       "      <th>profits</th>\n",
       "      <th>it_costs</th>\n",
       "      <th>net_profits</th>\n",
       "    </tr>\n",
       "  </thead>\n",
       "  <tbody>\n",
       "    <tr>\n",
       "      <th>2</th>\n",
       "      <td>ce3ad9de960102d0677a81f5d0bb7b2d</td>\n",
       "      <td>rio de janeiro</td>\n",
       "      <td>RJ</td>\n",
       "      <td>0.000000</td>\n",
       "      <td>4.042292</td>\n",
       "      <td>2018-07-30 12:44:49</td>\n",
       "      <td>2018-07-30 12:44:49</td>\n",
       "      <td>0.0</td>\n",
       "      <td>0.0</td>\n",
       "      <td>1.0</td>\n",
       "      <td>5.0</td>\n",
       "      <td>0</td>\n",
       "      <td>1</td>\n",
       "      <td>1</td>\n",
       "      <td>1.0</td>\n",
       "      <td>158.00</td>\n",
       "      <td>15.800</td>\n",
       "      <td>15.800</td>\n",
       "      <td>41.977058</td>\n",
       "      <td>-26.177058</td>\n",
       "    </tr>\n",
       "    <tr>\n",
       "      <th>3</th>\n",
       "      <td>c0f3eea2e14555b6faeea3dd58c1b1c3</td>\n",
       "      <td>sao paulo</td>\n",
       "      <td>SP</td>\n",
       "      <td>0.000000</td>\n",
       "      <td>5.667187</td>\n",
       "      <td>2018-08-03 00:44:08</td>\n",
       "      <td>2018-08-03 00:44:08</td>\n",
       "      <td>0.0</td>\n",
       "      <td>0.0</td>\n",
       "      <td>1.0</td>\n",
       "      <td>5.0</td>\n",
       "      <td>0</td>\n",
       "      <td>1</td>\n",
       "      <td>1</td>\n",
       "      <td>1.0</td>\n",
       "      <td>79.99</td>\n",
       "      <td>7.999</td>\n",
       "      <td>7.999</td>\n",
       "      <td>41.977058</td>\n",
       "      <td>-33.978058</td>\n",
       "    </tr>\n",
       "    <tr>\n",
       "      <th>4</th>\n",
       "      <td>51a04a8a6bdcb23deccc82b0b80742cf</td>\n",
       "      <td>braganca paulista</td>\n",
       "      <td>SP</td>\n",
       "      <td>3.353727</td>\n",
       "      <td>35.314861</td>\n",
       "      <td>2017-11-14 12:15:25</td>\n",
       "      <td>2017-11-14 12:15:25</td>\n",
       "      <td>0.0</td>\n",
       "      <td>1.0</td>\n",
       "      <td>0.0</td>\n",
       "      <td>1.0</td>\n",
       "      <td>100</td>\n",
       "      <td>1</td>\n",
       "      <td>1</td>\n",
       "      <td>1.0</td>\n",
       "      <td>167.99</td>\n",
       "      <td>16.799</td>\n",
       "      <td>-83.201</td>\n",
       "      <td>41.977058</td>\n",
       "      <td>-125.178058</td>\n",
       "    </tr>\n",
       "    <tr>\n",
       "      <th>5</th>\n",
       "      <td>c240c4061717ac1806ae6ee72be3533b</td>\n",
       "      <td>rio de janeiro</td>\n",
       "      <td>RJ</td>\n",
       "      <td>0.000000</td>\n",
       "      <td>6.056956</td>\n",
       "      <td>2018-05-08 17:55:23</td>\n",
       "      <td>2018-05-08 17:55:23</td>\n",
       "      <td>0.0</td>\n",
       "      <td>0.0</td>\n",
       "      <td>0.0</td>\n",
       "      <td>4.0</td>\n",
       "      <td>0</td>\n",
       "      <td>1</td>\n",
       "      <td>1</td>\n",
       "      <td>1.0</td>\n",
       "      <td>59.90</td>\n",
       "      <td>5.990</td>\n",
       "      <td>5.990</td>\n",
       "      <td>41.977058</td>\n",
       "      <td>-35.987058</td>\n",
       "    </tr>\n",
       "    <tr>\n",
       "      <th>13</th>\n",
       "      <td>05a48cc8859962767935ab9087417fbb</td>\n",
       "      <td>sao paulo</td>\n",
       "      <td>SP</td>\n",
       "      <td>0.000000</td>\n",
       "      <td>11.276516</td>\n",
       "      <td>2018-08-02 13:04:18</td>\n",
       "      <td>2018-08-02 13:04:18</td>\n",
       "      <td>0.0</td>\n",
       "      <td>0.0</td>\n",
       "      <td>1.0</td>\n",
       "      <td>5.0</td>\n",
       "      <td>0</td>\n",
       "      <td>1</td>\n",
       "      <td>1</td>\n",
       "      <td>1.0</td>\n",
       "      <td>42.90</td>\n",
       "      <td>4.290</td>\n",
       "      <td>4.290</td>\n",
       "      <td>41.977058</td>\n",
       "      <td>-37.687058</td>\n",
       "    </tr>\n",
       "  </tbody>\n",
       "</table>\n",
       "</div>"
      ],
      "text/plain": [
       "                           seller_id        seller_city seller_state  \\\n",
       "2   ce3ad9de960102d0677a81f5d0bb7b2d     rio de janeiro           RJ   \n",
       "3   c0f3eea2e14555b6faeea3dd58c1b1c3          sao paulo           SP   \n",
       "4   51a04a8a6bdcb23deccc82b0b80742cf  braganca paulista           SP   \n",
       "5   c240c4061717ac1806ae6ee72be3533b     rio de janeiro           RJ   \n",
       "13  05a48cc8859962767935ab9087417fbb          sao paulo           SP   \n",
       "\n",
       "    delay_to_carrier  wait_time     date_first_sale      date_last_sale  \\\n",
       "2           0.000000   4.042292 2018-07-30 12:44:49 2018-07-30 12:44:49   \n",
       "3           0.000000   5.667187 2018-08-03 00:44:08 2018-08-03 00:44:08   \n",
       "4           3.353727  35.314861 2017-11-14 12:15:25 2017-11-14 12:15:25   \n",
       "5           0.000000   6.056956 2018-05-08 17:55:23 2018-05-08 17:55:23   \n",
       "13          0.000000  11.276516 2018-08-02 13:04:18 2018-08-02 13:04:18   \n",
       "\n",
       "    months_on_olist  share_of_one_stars  share_of_five_stars  review_score  \\\n",
       "2               0.0                 0.0                  1.0           5.0   \n",
       "3               0.0                 0.0                  1.0           5.0   \n",
       "4               0.0                 1.0                  0.0           1.0   \n",
       "5               0.0                 0.0                  0.0           4.0   \n",
       "13              0.0                 0.0                  1.0           5.0   \n",
       "\n",
       "    cost_of_reviews  n_orders  quantity  quantity_per_order   sales  revenues  \\\n",
       "2                 0         1         1                 1.0  158.00    15.800   \n",
       "3                 0         1         1                 1.0   79.99     7.999   \n",
       "4               100         1         1                 1.0  167.99    16.799   \n",
       "5                 0         1         1                 1.0   59.90     5.990   \n",
       "13                0         1         1                 1.0   42.90     4.290   \n",
       "\n",
       "    profits   it_costs  net_profits  \n",
       "2    15.800  41.977058   -26.177058  \n",
       "3     7.999  41.977058   -33.978058  \n",
       "4   -83.201  41.977058  -125.178058  \n",
       "5     5.990  41.977058   -35.987058  \n",
       "13    4.290  41.977058   -37.687058  "
      ]
     },
     "execution_count": 8,
     "metadata": {},
     "output_type": "execute_result"
    }
   ],
   "source": [
    "#Extracting the sellers that brings in losses after deducting all costs\n",
    "sellers_df[sellers_df[\"net_profits\"] < 0].head()"
   ]
  },
  {
   "cell_type": "code",
   "execution_count": 9,
   "metadata": {
    "slideshow": {
     "slide_type": "skip"
    }
   },
   "outputs": [
    {
     "data": {
      "text/plain": [
       "1004"
      ]
     },
     "execution_count": 9,
     "metadata": {},
     "output_type": "execute_result"
    }
   ],
   "source": [
    "#Calculating the number of sellers that bring in losses after deducting all costs\n",
    "sellers_df[sellers_df[\"net_profits\"] < 0].count()[\"seller_id\"]"
   ]
  },
  {
   "cell_type": "code",
   "execution_count": 10,
   "metadata": {
    "slideshow": {
     "slide_type": "skip"
    }
   },
   "outputs": [
    {
     "data": {
      "text/html": [
       "<div>\n",
       "<style scoped>\n",
       "    .dataframe tbody tr th:only-of-type {\n",
       "        vertical-align: middle;\n",
       "    }\n",
       "\n",
       "    .dataframe tbody tr th {\n",
       "        vertical-align: top;\n",
       "    }\n",
       "\n",
       "    .dataframe thead th {\n",
       "        text-align: right;\n",
       "    }\n",
       "</style>\n",
       "<table border=\"1\" class=\"dataframe\">\n",
       "  <thead>\n",
       "    <tr style=\"text-align: right;\">\n",
       "      <th></th>\n",
       "      <th>seller_id</th>\n",
       "      <th>seller_city</th>\n",
       "      <th>seller_state</th>\n",
       "      <th>delay_to_carrier</th>\n",
       "      <th>wait_time</th>\n",
       "      <th>date_first_sale</th>\n",
       "      <th>date_last_sale</th>\n",
       "      <th>months_on_olist</th>\n",
       "      <th>share_of_one_stars</th>\n",
       "      <th>share_of_five_stars</th>\n",
       "      <th>review_score</th>\n",
       "      <th>cost_of_reviews</th>\n",
       "      <th>n_orders</th>\n",
       "      <th>quantity</th>\n",
       "      <th>quantity_per_order</th>\n",
       "      <th>sales</th>\n",
       "      <th>revenues</th>\n",
       "      <th>profits</th>\n",
       "      <th>it_costs</th>\n",
       "      <th>net_profits</th>\n",
       "    </tr>\n",
       "  </thead>\n",
       "  <tbody>\n",
       "    <tr>\n",
       "      <th>0</th>\n",
       "      <td>3442f8959a84dea7ee197c632cb2df15</td>\n",
       "      <td>campinas</td>\n",
       "      <td>SP</td>\n",
       "      <td>0.0</td>\n",
       "      <td>13.018588</td>\n",
       "      <td>2017-05-05 16:25:11</td>\n",
       "      <td>2017-08-30 12:50:19</td>\n",
       "      <td>4.0</td>\n",
       "      <td>0.333333</td>\n",
       "      <td>0.333333</td>\n",
       "      <td>3.000000</td>\n",
       "      <td>140</td>\n",
       "      <td>3</td>\n",
       "      <td>3</td>\n",
       "      <td>1.000000</td>\n",
       "      <td>218.70</td>\n",
       "      <td>341.870</td>\n",
       "      <td>201.870</td>\n",
       "      <td>72.706398</td>\n",
       "      <td>129.163602</td>\n",
       "    </tr>\n",
       "    <tr>\n",
       "      <th>1</th>\n",
       "      <td>d1b65fc7debc3361ea86b5f14c68d2e2</td>\n",
       "      <td>mogi guacu</td>\n",
       "      <td>SP</td>\n",
       "      <td>0.0</td>\n",
       "      <td>9.065716</td>\n",
       "      <td>2017-03-29 02:10:34</td>\n",
       "      <td>2018-06-06 20:15:21</td>\n",
       "      <td>14.0</td>\n",
       "      <td>0.050000</td>\n",
       "      <td>0.725000</td>\n",
       "      <td>4.550000</td>\n",
       "      <td>240</td>\n",
       "      <td>40</td>\n",
       "      <td>41</td>\n",
       "      <td>1.025000</td>\n",
       "      <td>11703.07</td>\n",
       "      <td>2290.307</td>\n",
       "      <td>2050.307</td>\n",
       "      <td>265.486228</td>\n",
       "      <td>1784.820772</td>\n",
       "    </tr>\n",
       "    <tr>\n",
       "      <th>6</th>\n",
       "      <td>e49c26c3edfa46d227d5121a6b6e4d37</td>\n",
       "      <td>brejao</td>\n",
       "      <td>PE</td>\n",
       "      <td>0.0</td>\n",
       "      <td>11.653801</td>\n",
       "      <td>2017-02-04 19:31:42</td>\n",
       "      <td>2018-07-25 14:30:27</td>\n",
       "      <td>18.0</td>\n",
       "      <td>0.057143</td>\n",
       "      <td>0.742857</td>\n",
       "      <td>4.457143</td>\n",
       "      <td>330</td>\n",
       "      <td>35</td>\n",
       "      <td>36</td>\n",
       "      <td>1.028571</td>\n",
       "      <td>3654.25</td>\n",
       "      <td>1805.425</td>\n",
       "      <td>1475.425</td>\n",
       "      <td>248.339626</td>\n",
       "      <td>1227.085374</td>\n",
       "    </tr>\n",
       "    <tr>\n",
       "      <th>7</th>\n",
       "      <td>1b938a7ec6ac5061a66a3766e0e75f90</td>\n",
       "      <td>penapolis</td>\n",
       "      <td>SP</td>\n",
       "      <td>0.0</td>\n",
       "      <td>11.376438</td>\n",
       "      <td>2017-09-23 17:24:32</td>\n",
       "      <td>2018-08-18 19:09:29</td>\n",
       "      <td>11.0</td>\n",
       "      <td>0.100000</td>\n",
       "      <td>0.600000</td>\n",
       "      <td>4.300000</td>\n",
       "      <td>300</td>\n",
       "      <td>30</td>\n",
       "      <td>33</td>\n",
       "      <td>1.100000</td>\n",
       "      <td>3987.60</td>\n",
       "      <td>1278.760</td>\n",
       "      <td>978.760</td>\n",
       "      <td>229.917818</td>\n",
       "      <td>748.842182</td>\n",
       "    </tr>\n",
       "    <tr>\n",
       "      <th>8</th>\n",
       "      <td>768a86e36ad6aae3d03ee3c6433d61df</td>\n",
       "      <td>sao paulo</td>\n",
       "      <td>SP</td>\n",
       "      <td>0.0</td>\n",
       "      <td>5.081859</td>\n",
       "      <td>2018-06-19 12:18:24</td>\n",
       "      <td>2018-08-24 03:15:18</td>\n",
       "      <td>2.0</td>\n",
       "      <td>0.000000</td>\n",
       "      <td>0.705882</td>\n",
       "      <td>4.647059</td>\n",
       "      <td>40</td>\n",
       "      <td>17</td>\n",
       "      <td>17</td>\n",
       "      <td>1.000000</td>\n",
       "      <td>587.46</td>\n",
       "      <td>218.746</td>\n",
       "      <td>178.746</td>\n",
       "      <td>173.075846</td>\n",
       "      <td>5.670154</td>\n",
       "    </tr>\n",
       "  </tbody>\n",
       "</table>\n",
       "</div>"
      ],
      "text/plain": [
       "                          seller_id seller_city seller_state  \\\n",
       "0  3442f8959a84dea7ee197c632cb2df15    campinas           SP   \n",
       "1  d1b65fc7debc3361ea86b5f14c68d2e2  mogi guacu           SP   \n",
       "6  e49c26c3edfa46d227d5121a6b6e4d37      brejao           PE   \n",
       "7  1b938a7ec6ac5061a66a3766e0e75f90   penapolis           SP   \n",
       "8  768a86e36ad6aae3d03ee3c6433d61df   sao paulo           SP   \n",
       "\n",
       "   delay_to_carrier  wait_time     date_first_sale      date_last_sale  \\\n",
       "0               0.0  13.018588 2017-05-05 16:25:11 2017-08-30 12:50:19   \n",
       "1               0.0   9.065716 2017-03-29 02:10:34 2018-06-06 20:15:21   \n",
       "6               0.0  11.653801 2017-02-04 19:31:42 2018-07-25 14:30:27   \n",
       "7               0.0  11.376438 2017-09-23 17:24:32 2018-08-18 19:09:29   \n",
       "8               0.0   5.081859 2018-06-19 12:18:24 2018-08-24 03:15:18   \n",
       "\n",
       "   months_on_olist  share_of_one_stars  share_of_five_stars  review_score  \\\n",
       "0              4.0            0.333333             0.333333      3.000000   \n",
       "1             14.0            0.050000             0.725000      4.550000   \n",
       "6             18.0            0.057143             0.742857      4.457143   \n",
       "7             11.0            0.100000             0.600000      4.300000   \n",
       "8              2.0            0.000000             0.705882      4.647059   \n",
       "\n",
       "   cost_of_reviews  n_orders  quantity  quantity_per_order     sales  \\\n",
       "0              140         3         3            1.000000    218.70   \n",
       "1              240        40        41            1.025000  11703.07   \n",
       "6              330        35        36            1.028571   3654.25   \n",
       "7              300        30        33            1.100000   3987.60   \n",
       "8               40        17        17            1.000000    587.46   \n",
       "\n",
       "   revenues   profits    it_costs  net_profits  \n",
       "0   341.870   201.870   72.706398   129.163602  \n",
       "1  2290.307  2050.307  265.486228  1784.820772  \n",
       "6  1805.425  1475.425  248.339626  1227.085374  \n",
       "7  1278.760   978.760  229.917818   748.842182  \n",
       "8   218.746   178.746  173.075846     5.670154  "
      ]
     },
     "execution_count": 10,
     "metadata": {},
     "output_type": "execute_result"
    }
   ],
   "source": [
    "#Extracting sellers that brings in profits after deducting all costs\n",
    "sellers_df[sellers_df[\"net_profits\"] > 0].head()"
   ]
  },
  {
   "cell_type": "code",
   "execution_count": 11,
   "metadata": {
    "slideshow": {
     "slide_type": "skip"
    }
   },
   "outputs": [
    {
     "data": {
      "text/plain": [
       "1112157.658369466"
      ]
     },
     "execution_count": 11,
     "metadata": {},
     "output_type": "execute_result"
    }
   ],
   "source": [
    "#Calculating the total net profits if all loss bearing sellers are removed\n",
    "sellers_df[sellers_df[\"net_profits\"] > 0][\"net_profits\"].sum()"
   ]
  },
  {
   "cell_type": "code",
   "execution_count": 12,
   "metadata": {},
   "outputs": [],
   "source": [
    "#Adding function to label the bars in the bar charts\n",
    "def valuelabel(profits):\n",
    "    for i in range(len(profits)):\n",
    "        plt.text(i,profits[i],profits[i], ha = 'center',\n",
    "                 bbox = dict(facecolor = \"white\", alpha =0.8))"
   ]
  },
  {
   "cell_type": "code",
   "execution_count": 13,
   "metadata": {
    "slideshow": {
     "slide_type": "skip"
    },
    "tags": [
     "remove_input"
    ]
   },
   "outputs": [],
   "source": [
    "#Calculating profits before and after removal of loss making sellers\n",
    "profit_before_removal = round(sellers_df[\"net_profits\"].sum(), 2)\n",
    "profit_after_removal = round(sellers_df[sellers_df[\"net_profits\"] > 0][\"net_profits\"].sum(), 2)"
   ]
  },
  {
   "cell_type": "code",
   "execution_count": 14,
   "metadata": {
    "slideshow": {
     "slide_type": "subslide"
    },
    "tags": [
     "remove_input"
    ]
   },
   "outputs": [
    {
     "data": {
      "image/png": "[encoded data removed]",
      "text/plain": [
       "<Figure size 1080x432 with 1 Axes>"
      ]
     },
     "metadata": {
      "needs_background": "light"
     },
     "output_type": "display_data"
    }
   ],
   "source": [
    "#Visualizing the profits before and after removal of loss making sellers in a bar chart\n",
    "x = [1, 2]\n",
    "profits = [profit_before_removal, profit_after_removal]\n",
    "\n",
    "plt.figure(figsize = (15,6))\n",
    "ax = sns.barplot(x = x, y = profits)\n",
    "ax.set_yscale(\"log\")\n",
    "ax.set(title = \"Comparison of Profits: Before and After Removing Sellers\")\n",
    "ax.set(xticklabels=[\"before\", \"after\"])\n",
    "valuelabel(profits)\n",
    "plt.show();"
   ]
  },
  {
   "cell_type": "code",
   "execution_count": 15,
   "metadata": {
    "slideshow": {
     "slide_type": "fragment"
    },
    "tags": [
     "remove_input"
    ]
   },
   "outputs": [
    {
     "name": "stdout",
     "output_type": "stream",
     "text": [
      "PROFIT BEFORE REMOVAL: 667608.44\n",
      "PROFIT AFTER REMOVAL: 1112157.66\n",
      "IMPROVEMENT: 66.58831634902639 %\n"
     ]
    }
   ],
   "source": [
    "print(f\"PROFIT BEFORE REMOVAL: {profit_before_removal}\")\n",
    "print(f\"PROFIT AFTER REMOVAL: {profit_after_removal}\")\n",
    "print(f\"IMPROVEMENT: {((profit_after_removal - profit_before_removal)/profit_before_removal) * 100} %\")"
   ]
  },
  {
   "cell_type": "markdown",
   "metadata": {
    "slideshow": {
     "slide_type": "skip"
    }
   },
   "source": [
    "### 1.2 (optional): Here are other hypothesis to be investigated\n",
    "\n",
    "- Should Olist remove the worst performing products / categories from its marketplace entirely?\n",
    "- Should Olist remove only consistently underperforming sellers, after it has a honeymoon period of few months?\n",
    "- Should Olist restrict seller/customer pairs between certain states to avoid delays?\n",
    "- Should Olist acquire new sellers, with some cost assumptions to be suggested?\n",
    "- ...\n"
   ]
  },
  {
   "cell_type": "markdown",
   "metadata": {
    "slideshow": {
     "slide_type": "slide"
    }
   },
   "source": [
    "# Optimizing based on number of sellers to remove"
   ]
  },
  {
   "cell_type": "code",
   "execution_count": 20,
   "metadata": {
    "slideshow": {
     "slide_type": "skip"
    }
   },
   "outputs": [
    {
     "data": {
      "text/plain": [
       "1582.3973364219244"
      ]
     },
     "execution_count": 20,
     "metadata": {},
     "output_type": "execute_result"
    }
   ],
   "source": [
    "# As the total IT costs amount to 500000 BRL, we use it as a simple way to find the factor of IT costs for each order\n",
    "factor_per_order = 500000/(sellers[\"n_orders\"].sum()**0.5)\n",
    "factor_per_order"
   ]
  },
  {
   "cell_type": "code",
   "execution_count": 19,
   "metadata": {
    "slideshow": {
     "slide_type": "skip"
    }
   },
   "outputs": [],
   "source": [
    "#Sorting sellers in the dataframe by the profits that they bring to the company\n",
    "sorted_sellers = sellers.sort_values(by = \"profits\")"
   ]
  },
  {
   "cell_type": "code",
   "execution_count": 23,
   "metadata": {
    "slideshow": {
     "slide_type": "skip"
    }
   },
   "outputs": [],
   "source": [
    "#Calculating the cumulated profits achieved after removing each seller (from the sellers with least profit/most losses, to the\n",
    "#sellers with the most profits), and appending them to a list for visualisation purpose later\n",
    "profit = []\n",
    "\n",
    "for i in range(len(sorted_sellers)):\n",
    "    \n",
    "    tmp = sorted_sellers[i:]\n",
    "    it_costs = (tmp[\"n_orders\"].sum())**0.5 * factor_per_order\n",
    "    total_profits = tmp[\"profits\"].sum() - it_costs\n",
    "    profit.append(total_profits)"
   ]
  },
  {
   "cell_type": "code",
   "execution_count": 24,
   "metadata": {
    "slideshow": {
     "slide_type": "subslide"
    },
    "tags": [
     "remove_input"
    ]
   },
   "outputs": [
    {
     "data": {
      "image/png": "[encoded data removed]",
      "text/plain": [
       "<Figure size 1080x432 with 1 Axes>"
      ]
     },
     "metadata": {
      "needs_background": "light"
     },
     "output_type": "display_data"
    }
   ],
   "source": [
    "#Visualising the cumulative profits achieved after removing each seller, starting from the sellers with least profit/most losses,\n",
    "#to the sellers with the most profits\n",
    "x = [i for i in range(len(sorted_sellers))]\n",
    "plt.figure(figsize = (15,6))\n",
    "plt.plot(x, profit)\n",
    "plt.title(\"Profits vs Number of Sellers Removed\");"
   ]
  },
  {
   "cell_type": "code",
   "execution_count": 25,
   "metadata": {
    "slideshow": {
     "slide_type": "fragment"
    },
    "tags": [
     "remove_input"
    ]
   },
   "outputs": [
    {
     "name": "stdout",
     "output_type": "stream",
     "text": [
      "Number of sellers to remove: 486\n"
     ]
    }
   ],
   "source": [
    "print(f\"Number of sellers to remove: {profit.index(max(profit))}\")"
   ]
  },
  {
   "cell_type": "code",
   "execution_count": 26,
   "metadata": {
    "slideshow": {
     "slide_type": "skip"
    }
   },
   "outputs": [
    {
     "data": {
      "text/plain": [
       "486"
      ]
     },
     "execution_count": 26,
     "metadata": {},
     "output_type": "execute_result"
    }
   ],
   "source": [
    "#Calculating the number of sellers to remove to achieve max profit after taking into account the it costs scaling factor\n",
    "profit.index(max(profit))"
   ]
  },
  {
   "cell_type": "code",
   "execution_count": 37,
   "metadata": {
    "slideshow": {
     "slide_type": "skip"
    }
   },
   "outputs": [],
   "source": [
    "#Calculating the max profit after removing the 486 sellers with the lowest profit/max losses, and using it together with \n",
    "#the previous profit_before_removal (no removing of sellers) and profit_after_removal(removing all 1004 loss making sellers)\n",
    "#to visualise the impact of removal of sellers towards the company profits\n",
    "profit_max = round(sorted_sellers.iloc[487:][\"profits\"].sum(), 2)\n",
    "\n",
    "x = [1, 2, 3]\n",
    "y = [profit_before_removal, profit_after_removal, profit_max]"
   ]
  },
  {
   "cell_type": "code",
   "execution_count": 40,
   "metadata": {
    "slideshow": {
     "slide_type": "subslide"
    },
    "tags": [
     "remove_input"
    ]
   },
   "outputs": [
    {
     "data": {
      "image/png": "[encoded data removed]",
      "text/plain": [
       "<Figure size 1080x432 with 1 Axes>"
      ]
     },
     "metadata": {
      "needs_background": "light"
     },
     "output_type": "display_data"
    }
   ],
   "source": [
    "plt.figure(figsize = (15,6))\n",
    "bx = sns.barplot(x = x, y = y, order = [1, 2, 3])\n",
    "bx.set(title = \"Comparison of Profit On Various Types of Removal\")\n",
    "bx.set(xticklabels=[\"remove none\", \"remove all loss making\", \"optimized removal\"])\n",
    "valuelabel(y);"
   ]
  },
  {
   "cell_type": "code",
   "execution_count": 49,
   "metadata": {
    "slideshow": {
     "slide_type": "fragment"
    },
    "tags": [
     "remove_input"
    ]
   },
   "outputs": [
    {
     "name": "stdout",
     "output_type": "stream",
     "text": [
      "Profits after removing optimized number of sellers: 1473750.47\n",
      "IMPROVEMENT: 120.75072478113069 %\n"
     ]
    }
   ],
   "source": [
    "print(f\"Profits after removing optimized number of sellers: {profit_max}\")\n",
    "print(f\"IMPROVEMENT: {((profit_max - profit_before_removal)/profit_before_removal) * 100} %\")"
   ]
  },
  {
   "cell_type": "markdown",
   "metadata": {
    "slideshow": {
     "slide_type": "slide"
    }
   },
   "source": [
    "# Optimizing Based on Months of Sellers"
   ]
  },
  {
   "cell_type": "code",
   "execution_count": null,
   "metadata": {
    "slideshow": {
     "slide_type": "skip"
    }
   },
   "outputs": [],
   "source": [
    "sellers5 = sellers.copy()\n",
    "sellers5[\"months_on_olist\"] = sellers5[\"months_on_olist\"].astype(\"int64\")"
   ]
  },
  {
   "cell_type": "code",
   "execution_count": null,
   "metadata": {
    "slideshow": {
     "slide_type": "subslide"
    },
    "tags": [
     "remove_input"
    ]
   },
   "outputs": [],
   "source": [
    "plt.figure(figsize = (15,6))\n",
    "ex = sns.histplot(sellers[sellers[\"profits\"] < 0][\"months_on_olist\"])\n",
    "ex.set(title = \"Months on Olist of Sellers Making Losses\");"
   ]
  },
  {
   "cell_type": "code",
   "execution_count": null,
   "metadata": {
    "slideshow": {
     "slide_type": "fragment"
    },
    "tags": [
     "remove_input"
    ]
   },
   "outputs": [],
   "source": [
    "print(\"OPPORTUNITY COST ???\")"
   ]
  },
  {
   "cell_type": "code",
   "execution_count": null,
   "metadata": {
    "slideshow": {
     "slide_type": "subslide"
    },
    "tags": [
     "remove_input"
    ]
   },
   "outputs": [],
   "source": [
    "plt.figure(figsize = (15,6))\n",
    "fx = sns.histplot(sellers[sellers[\"profits\"] > 0][\"months_on_olist\"])\n",
    "fx.set(title = \"Months on Olist of Sellers Making Profits\");"
   ]
  },
  {
   "cell_type": "code",
   "execution_count": null,
   "metadata": {
    "slideshow": {
     "slide_type": "skip"
    }
   },
   "outputs": [],
   "source": [
    "sellers[sellers[\"profits\"] > 0][\"months_on_olist\"].median()\n",
    "sellers.query(\"months_on_olist >= 4 and profits > 0\")[\"profits\"].mean()"
   ]
  },
  {
   "cell_type": "code",
   "execution_count": null,
   "metadata": {
    "slideshow": {
     "slide_type": "fragment"
    },
    "tags": [
     "remove_input"
    ]
   },
   "outputs": [],
   "source": [
    "print(\"Months for sellers to break even: 4.0\")\n",
    "print(\"Profits per seller after break even: 918.43\")"
   ]
  },
  {
   "cell_type": "code",
   "execution_count": null,
   "metadata": {
    "slideshow": {
     "slide_type": "skip"
    }
   },
   "outputs": [],
   "source": [
    "sellers6 = sellers5.query(\"(months_on_olist >= 4 and profits > 0) or (months_on_olist < 4)\")"
   ]
  },
  {
   "cell_type": "code",
   "execution_count": null,
   "metadata": {
    "slideshow": {
     "slide_type": "skip"
    }
   },
   "outputs": [],
   "source": [
    "(sellers6[\"n_orders\"].sum())**0.5 * a"
   ]
  },
  {
   "cell_type": "code",
   "execution_count": null,
   "metadata": {
    "slideshow": {
     "slide_type": "skip"
    }
   },
   "outputs": [],
   "source": [
    "sellers6[\"profits\"].sum()"
   ]
  },
  {
   "cell_type": "code",
   "execution_count": null,
   "metadata": {
    "slideshow": {
     "slide_type": "skip"
    }
   },
   "outputs": [],
   "source": [
    "number_3"
   ]
  },
  {
   "cell_type": "code",
   "execution_count": null,
   "metadata": {
    "slideshow": {
     "slide_type": "skip"
    }
   },
   "outputs": [],
   "source": [
    "number_1 = 0\n",
    "number_2 = sellers1[sellers1[\"profits\"] < 0].count()[\"seller_id\"]\n",
    "number_3 = profit.index(max(profit))\n",
    "number_4 = sellers5.query(\"months_on_olist >= 4 and profits < 0\")[\"seller_id\"].count()\n",
    "\n",
    "profit_1 = sellers1[\"profits\"].sum()\n",
    "profit_2 = sellers2[\"profits\"].sum()\n",
    "profit_3 = sellers3.iloc[487:][\"profits\"].sum()\n",
    "profit_4 = round(sellers6[\"profits\"].sum(), 2)\n",
    "\n",
    "x = [number_1, number_2, number_3, number_4]\n",
    "y = [profit_1, profit_2, profit_3, profit_4]"
   ]
  },
  {
   "cell_type": "code",
   "execution_count": null,
   "metadata": {
    "slideshow": {
     "slide_type": "subslide"
    },
    "tags": [
     "remove_input"
    ]
   },
   "outputs": [],
   "source": [
    "plt.figure(figsize = (15, 8))\n",
    "cx = sns.barplot(x = x, y = y, order = [number_1, number_2, number_3, number_4])\n",
    "cx.set(title = \"Comparison of Profit On Various Type of Removal\")\n",
    "cx.set(xticklabels=[\"remove none\", \"remove all loss making\", \"optimized removal\", \"removal_based_on_months\"]);"
   ]
  },
  {
   "cell_type": "code",
   "execution_count": null,
   "metadata": {
    "slideshow": {
     "slide_type": "fragment"
    },
    "tags": [
     "remove_input"
    ]
   },
   "outputs": [],
   "source": [
    "print(f\"Number of loss making sellers after 4 months: {number_4}\")\n",
    "print(f\"Profit after removing loss making sellers after 4 months: {profit_4}\")\n",
    "print(f\"IMPROVEMENT: {((profit_4 - profit_1)/profit_1) * 100} %\")"
   ]
  },
  {
   "cell_type": "markdown",
   "metadata": {
    "slideshow": {
     "slide_type": "skip"
    }
   },
   "source": [
    "# Optimizing based on products"
   ]
  },
  {
   "cell_type": "code",
   "execution_count": null,
   "metadata": {
    "slideshow": {
     "slide_type": "skip"
    }
   },
   "outputs": [],
   "source": [
    "from olist.product import Product"
   ]
  },
  {
   "cell_type": "code",
   "execution_count": null,
   "metadata": {
    "slideshow": {
     "slide_type": "skip"
    }
   },
   "outputs": [],
   "source": [
    "products = Product().get_training_data()\n",
    "products"
   ]
  },
  {
   "cell_type": "code",
   "execution_count": null,
   "metadata": {
    "slideshow": {
     "slide_type": "skip"
    }
   },
   "outputs": [],
   "source": [
    "products[\"profits\"].sum()"
   ]
  },
  {
   "cell_type": "code",
   "execution_count": null,
   "metadata": {
    "slideshow": {
     "slide_type": "skip"
    }
   },
   "outputs": [],
   "source": [
    "b = 500000/(products[\"n_orders\"].sum()**0.5)\n",
    "b"
   ]
  },
  {
   "cell_type": "code",
   "execution_count": null,
   "metadata": {
    "slideshow": {
     "slide_type": "skip"
    }
   },
   "outputs": [],
   "source": [
    "products1 = products.copy()\n",
    "\n",
    "products1[\"it_costs\"] = products1[\"n_orders\"]** 0.5 * factor1\n",
    "products1[\"profits\"] = products1[\"profits\"] - products1[\"it_costs\"]\n",
    "\n",
    "products1[\"profits\"].sum()"
   ]
  },
  {
   "cell_type": "code",
   "execution_count": null,
   "metadata": {
    "slideshow": {
     "slide_type": "skip"
    }
   },
   "outputs": [],
   "source": [
    "products1[products1[\"profits\"] > 0][\"profits\"].sum()"
   ]
  },
  {
   "cell_type": "code",
   "execution_count": null,
   "metadata": {
    "slideshow": {
     "slide_type": "skip"
    }
   },
   "outputs": [],
   "source": [
    "products1[products1[\"profits\"] > 0][\"product_id\"].count()"
   ]
  },
  {
   "cell_type": "code",
   "execution_count": null,
   "metadata": {
    "slideshow": {
     "slide_type": "skip"
    }
   },
   "outputs": [],
   "source": [
    "products2 = products.sort_values(by = \"profits\")"
   ]
  },
  {
   "cell_type": "code",
   "execution_count": null,
   "metadata": {
    "slideshow": {
     "slide_type": "skip"
    }
   },
   "outputs": [],
   "source": [
    "profit = []\n",
    "for i in range(len(products2)):\n",
    "    tmp = products2[i:]\n",
    "    it_costs = (tmp[\"n_orders\"].sum())**0.5 * a\n",
    "    total_profits = tmp[\"profits\"].sum() - it_costs\n",
    "    profit.append(total_profits)"
   ]
  },
  {
   "cell_type": "code",
   "execution_count": null,
   "metadata": {
    "slideshow": {
     "slide_type": "skip"
    },
    "tags": [
     "remove_input"
    ]
   },
   "outputs": [],
   "source": [
    "x = [i for i in range(len(products2))]\n",
    "plt.plot(x, profit)"
   ]
  },
  {
   "cell_type": "code",
   "execution_count": null,
   "metadata": {
    "slideshow": {
     "slide_type": "skip"
    }
   },
   "outputs": [],
   "source": [
    "profit.index(max(profit))"
   ]
  },
  {
   "cell_type": "code",
   "execution_count": null,
   "metadata": {
    "slideshow": {
     "slide_type": "skip"
    }
   },
   "outputs": [],
   "source": [
    "products2.iloc[profit.index(max(profit)):][\"profits\"].sum()"
   ]
  },
  {
   "cell_type": "code",
   "execution_count": null,
   "metadata": {
    "slideshow": {
     "slide_type": "skip"
    }
   },
   "outputs": [],
   "source": [
    "number_1 = 0\n",
    "number_2 = products[products[\"profits\"] < 0].count()[\"product_id\"]\n",
    "number_3 = profit.index(max(profit))\n",
    "\n",
    "profit_1 = products[\"profits\"].sum()\n",
    "profit_2 = products1[products1[\"profits\"] > 0][\"profits\"].sum()\n",
    "profit_3 = products2.iloc[profit.index(max(profit)):][\"profits\"].sum()\n",
    "\n",
    "x = [number_1, number_2, number_3]\n",
    "y = [profit_1, profit_2, profit_3]"
   ]
  },
  {
   "cell_type": "code",
   "execution_count": null,
   "metadata": {
    "slideshow": {
     "slide_type": "skip"
    },
    "tags": [
     "remove_input"
    ]
   },
   "outputs": [],
   "source": [
    "dx = sns.barplot(x = x, y = y, order = [number_1, number_2, number_3])\n",
    "dx.set(title = \"Comparison of Profits On Various Type of Removal on Products\")\n",
    "dx.set(xticklabels=[\"remove none\", \"remove all loss making\", \"optimized removal\"]);"
   ]
  },
  {
   "cell_type": "markdown",
   "metadata": {
    "slideshow": {
     "slide_type": "skip"
    }
   },
   "source": [
    "# Should Olist acquire new customers?"
   ]
  },
  {
   "cell_type": "markdown",
   "metadata": {
    "slideshow": {
     "slide_type": "skip"
    }
   },
   "source": [
    "## Calculating by average profit per seller per month (without removal)"
   ]
  },
  {
   "cell_type": "code",
   "execution_count": null,
   "metadata": {
    "slideshow": {
     "slide_type": "skip"
    }
   },
   "outputs": [],
   "source": [
    "sns.histplot(sellers1.groupby(\"months_on_olist\").mean()[\"profits\"], kde = True)"
   ]
  },
  {
   "cell_type": "code",
   "execution_count": null,
   "metadata": {
    "slideshow": {
     "slide_type": "skip"
    }
   },
   "outputs": [],
   "source": [
    "sns.regplot(x = \"months_on_olist\", y = \"profits\", data = sellers)"
   ]
  },
  {
   "cell_type": "code",
   "execution_count": null,
   "metadata": {
    "slideshow": {
     "slide_type": "skip"
    }
   },
   "outputs": [],
   "source": [
    "profit_per_seller_per_month = sellers1.groupby(\"months_on_olist\").mean()[\"profits\"].mean()"
   ]
  },
  {
   "cell_type": "code",
   "execution_count": null,
   "metadata": {
    "slideshow": {
     "slide_type": "skip"
    }
   },
   "outputs": [],
   "source": [
    "profit_per_seller_per_month"
   ]
  },
  {
   "cell_type": "code",
   "execution_count": null,
   "metadata": {
    "slideshow": {
     "slide_type": "skip"
    }
   },
   "outputs": [],
   "source": [
    "payback_period = 12"
   ]
  },
  {
   "cell_type": "code",
   "execution_count": null,
   "metadata": {
    "slideshow": {
     "slide_type": "skip"
    }
   },
   "outputs": [],
   "source": [
    "cost_of_marketing_max = profit_per_seller_per_month * payback_period"
   ]
  },
  {
   "cell_type": "code",
   "execution_count": null,
   "metadata": {
    "slideshow": {
     "slide_type": "skip"
    }
   },
   "outputs": [],
   "source": [
    "cost_of_marketing_max"
   ]
  },
  {
   "cell_type": "markdown",
   "metadata": {
    "slideshow": {
     "slide_type": "skip"
    }
   },
   "source": [
    "## Calculating by average profit per seller per month (with removal)"
   ]
  },
  {
   "cell_type": "code",
   "execution_count": null,
   "metadata": {
    "slideshow": {
     "slide_type": "skip"
    }
   },
   "outputs": [],
   "source": [
    "profit_per_seller_per_month2 = sellers2.groupby(\"months_on_olist\").mean()[\"profits\"].mean()"
   ]
  },
  {
   "cell_type": "code",
   "execution_count": null,
   "metadata": {
    "slideshow": {
     "slide_type": "skip"
    }
   },
   "outputs": [],
   "source": [
    "profit_per_seller_per_month2"
   ]
  },
  {
   "cell_type": "code",
   "execution_count": null,
   "metadata": {
    "slideshow": {
     "slide_type": "skip"
    }
   },
   "outputs": [],
   "source": [
    "cost_of_marketing_max = profit_per_seller_per_month2 * payback_period"
   ]
  },
  {
   "cell_type": "code",
   "execution_count": null,
   "metadata": {
    "slideshow": {
     "slide_type": "skip"
    }
   },
   "outputs": [],
   "source": [
    "cost_of_marketing_max"
   ]
  },
  {
   "cell_type": "markdown",
   "metadata": {
    "slideshow": {
     "slide_type": "skip"
    }
   },
   "source": [
    "## 4.2  Calculating by average profit per seller per month (with removal < -960)"
   ]
  },
  {
   "cell_type": "code",
   "execution_count": null,
   "metadata": {
    "slideshow": {
     "slide_type": "skip"
    }
   },
   "outputs": [],
   "source": [
    "profit_per_seller_per_month3 = sellers3.groupby(\"months_on_olist\").mean()[\"profits\"].mean()"
   ]
  },
  {
   "cell_type": "code",
   "execution_count": null,
   "metadata": {
    "slideshow": {
     "slide_type": "skip"
    }
   },
   "outputs": [],
   "source": [
    "profit_per_seller_per_month3"
   ]
  },
  {
   "cell_type": "code",
   "execution_count": null,
   "metadata": {
    "slideshow": {
     "slide_type": "skip"
    }
   },
   "outputs": [],
   "source": [
    "cost_of_marketing_max3 = profit_per_seller_per_month3 * payback_period"
   ]
  },
  {
   "cell_type": "code",
   "execution_count": null,
   "metadata": {
    "slideshow": {
     "slide_type": "skip"
    }
   },
   "outputs": [],
   "source": [
    "cost_of_marketing_max3"
   ]
  },
  {
   "cell_type": "markdown",
   "metadata": {
    "slideshow": {
     "slide_type": "skip"
    }
   },
   "source": [
    "## Calculating by pure PAAS revenue"
   ]
  },
  {
   "cell_type": "code",
   "execution_count": null,
   "metadata": {
    "slideshow": {
     "slide_type": "skip"
    }
   },
   "outputs": [],
   "source": [
    "pure_paas_revenue = 80"
   ]
  },
  {
   "cell_type": "code",
   "execution_count": null,
   "metadata": {
    "slideshow": {
     "slide_type": "skip"
    }
   },
   "outputs": [],
   "source": [
    "cost_of_marketing_max_1 = pure_paas_revenue * payback_period"
   ]
  },
  {
   "cell_type": "code",
   "execution_count": null,
   "metadata": {
    "slideshow": {
     "slide_type": "skip"
    }
   },
   "outputs": [],
   "source": [
    "cost_of_marketing_max_1"
   ]
  }
 ],
 "metadata": {
  "celltoolbar": "Raw Cell Format",
  "kernelspec": {
   "display_name": "Python 3 (ipykernel)",
   "language": "python",
   "name": "python3"
  },
  "language_info": {
   "codemirror_mode": {
    "name": "ipython",
    "version": 3
   },
   "file_extension": ".py",
   "mimetype": "text/x-python",
   "name": "python",
   "nbconvert_exporter": "python",
   "pygments_lexer": "ipython3",
   "version": "3.8.12"
  },
  "toc": {
   "base_numbering": 1,
   "nav_menu": {},
   "number_sections": true,
   "sideBar": true,
   "skip_h1_title": false,
   "title_cell": "Table of Contents",
   "title_sidebar": "Contents",
   "toc_cell": false,
   "toc_position": {},
   "toc_section_display": true,
   "toc_window_display": false
  }
 },
 "nbformat": 4,
 "nbformat_minor": 4
}
