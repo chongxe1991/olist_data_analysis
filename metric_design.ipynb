{
 "cells": [
  {
   "cell_type": "markdown",
   "metadata": {},
   "source": [
    "# Olist's Metric Design "
   ]
  },
  {
   "cell_type": "markdown",
   "metadata": {},
   "source": [
    "A first glimpse into `Olist's business health` is done"
   ]
  },
  {
   "cell_type": "code",
   "execution_count": 1,
   "metadata": {},
   "outputs": [],
   "source": [
    "# Modules are imported\n",
    "import pandas as pd\n",
    "import numpy as np\n",
    "import os\n",
    "import matplotlib.pyplot as plt\n",
    "import seaborn as sns\n",
    "\n",
    "#data is loaded\n",
    "from data import Olist"
   ]
  },
  {
   "cell_type": "code",
   "execution_count": 2,
   "metadata": {},
   "outputs": [],
   "source": [
    "# Data is loaded\n",
    "data = Olist().get_data()"
   ]
  },
  {
   "cell_type": "markdown",
   "metadata": {},
   "source": [
    "## 1 - Orders vs. Reviews?"
   ]
  },
  {
   "cell_type": "markdown",
   "metadata": {},
   "source": [
    "❓ Histogram of `review_score` is plotted. "
   ]
  },
  {
   "cell_type": "code",
   "execution_count": 3,
   "metadata": {
    "tags": [
     "challengify"
    ]
   },
   "outputs": [
    {
     "data": {
      "image/png": "[encoded data removed]",
      "text/plain": [
       "<Figure size 432x288 with 1 Axes>"
      ]
     },
     "metadata": {
      "needs_background": "light"
     },
     "output_type": "display_data"
    }
   ],
   "source": [
    "sns.histplot(data[\"order_reviews\"][\"review_score\"], bins = 5);"
   ]
  },
  {
   "cell_type": "markdown",
   "metadata": {},
   "source": [
    "❓ Bar chart of `order_status` is plotted<br/>"
   ]
  },
  {
   "cell_type": "code",
   "execution_count": 4,
   "metadata": {
    "tags": [
     "challengify"
    ]
   },
   "outputs": [
    {
     "data": {
      "text/plain": [
       "<Figure size 720x720 with 0 Axes>"
      ]
     },
     "metadata": {},
     "output_type": "display_data"
    },
    {
     "data": {
      "image/png": "[encoded data removed]",
      "text/plain": [
       "<Figure size 432x288 with 1 Axes>"
      ]
     },
     "metadata": {
      "needs_background": "light"
     },
     "output_type": "display_data"
    }
   ],
   "source": [
    "plt.figure(figsize = (10,10))\n",
    "a = pd.DataFrame(data[\"orders\"].groupby(\"order_status\").count()[\"order_id\"]).plot(kind = \"bar\")\n",
    "a.set_yscale(\"log\");"
   ]
  },
  {
   "cell_type": "markdown",
   "metadata": {},
   "source": [
    "❓ How many of them are delivered ? shipped ? canceled ? ..."
   ]
  },
  {
   "cell_type": "code",
   "execution_count": 5,
   "metadata": {
    "tags": [
     "challengify"
    ]
   },
   "outputs": [
    {
     "data": {
      "text/plain": [
       "{'delivered': 96478,\n",
       " 'invoiced': 314,\n",
       " 'shipped': 1107,\n",
       " 'processing': 301,\n",
       " 'unavailable': 609,\n",
       " 'canceled': 625,\n",
       " 'created': 5,\n",
       " 'approved': 2}"
      ]
     },
     "execution_count": 5,
     "metadata": {},
     "output_type": "execute_result"
    }
   ],
   "source": [
    "orders = data[\"orders\"]\n",
    "\n",
    "x = [item for item in data[\"orders\"][\"order_status\"].unique()]\n",
    "orders = data[\"orders\"]\n",
    "dict1 = {}\n",
    "\n",
    "for item in x:\n",
    "    dict1[item] = orders[orders[\"order_status\"] == item].count()[\"order_id\"]\n",
    "    \n",
    "dict1"
   ]
  },
  {
   "cell_type": "markdown",
   "metadata": {},
   "source": [
    "💡 From our data schema, we know - that each `review` has a unique `order`.\n",
    "\n",
    "🤔 Do all `orders` have a `review`?\n",
    "\n",
    "<details>\n",
    "    <summary><i>▸ Details</i></summary>\n",
    "\n",
    "`pd.Series.isna().sum()` is used to count the number of NaN values in the series\n",
    "</details>"
   ]
  },
  {
   "cell_type": "code",
   "execution_count": 6,
   "metadata": {
    "tags": [
     "challengify"
    ]
   },
   "outputs": [
    {
     "data": {
      "text/plain": [
       "768"
      ]
     },
     "execution_count": 6,
     "metadata": {},
     "output_type": "execute_result"
    }
   ],
   "source": [
    "merged_df = data[\"orders\"].merge(data[\"order_reviews\"], on = \"order_id\", how = \"left\")\n",
    "\n",
    "merged_df[\"review_id\"].isna().sum()"
   ]
  },
  {
   "cell_type": "markdown",
   "metadata": {},
   "source": [
    "The orders that were not reviewed are counted and grouped by `order_status`."
   ]
  },
  {
   "cell_type": "code",
   "execution_count": 7,
   "metadata": {
    "tags": [
     "challengify"
    ]
   },
   "outputs": [
    {
     "data": {
      "text/plain": [
       "order_status\n",
       "canceled        20\n",
       "created          2\n",
       "delivered      646\n",
       "invoiced         5\n",
       "processing       6\n",
       "shipped         75\n",
       "unavailable     14\n",
       "dtype: int64"
      ]
     },
     "execution_count": 7,
     "metadata": {},
     "output_type": "execute_result"
    }
   ],
   "source": [
    "merged_df[merged_df[\"review_id\"].isna() == True].groupby(\"order_status\").size()"
   ]
  },
  {
   "cell_type": "markdown",
   "metadata": {},
   "source": [
    "## 2 - Evolution of key business metrics over the past 14 months"
   ]
  },
  {
   "cell_type": "markdown",
   "metadata": {},
   "source": [
    "## Metrics \n",
    "\n",
    "1. Which metric should be used as a `key business output metric`for Olist  📈 ? \n",
    "2.  Which metric should be used to measure that a customer had a `good experience with Olist` 🙂 ? \n",
    "3. Which metric should be used to measure `shipping delay` 🕗?\n",
    "\n",
    "For each metric, a trend line is plotted over time."
   ]
  },
  {
   "cell_type": "markdown",
   "metadata": {},
   "source": [
    "### Metric 1: Order numbers\n",
    "\n",
    "❓ The weekly number of total orders per week is plotted (to check how business is going)  \n"
   ]
  },
  {
   "cell_type": "code",
   "execution_count": 8,
   "metadata": {
    "tags": [
     "challengify"
    ]
   },
   "outputs": [
    {
     "data": {
      "text/html": [
       "<div>\n",
       "<style scoped>\n",
       "    .dataframe tbody tr th:only-of-type {\n",
       "        vertical-align: middle;\n",
       "    }\n",
       "\n",
       "    .dataframe tbody tr th {\n",
       "        vertical-align: top;\n",
       "    }\n",
       "\n",
       "    .dataframe thead th {\n",
       "        text-align: right;\n",
       "    }\n",
       "</style>\n",
       "<table border=\"1\" class=\"dataframe\">\n",
       "  <thead>\n",
       "    <tr style=\"text-align: right;\">\n",
       "      <th></th>\n",
       "      <th>number_of_orders</th>\n",
       "    </tr>\n",
       "    <tr>\n",
       "      <th>year_week</th>\n",
       "      <th></th>\n",
       "    </tr>\n",
       "  </thead>\n",
       "  <tbody>\n",
       "    <tr>\n",
       "      <th>201636</th>\n",
       "      <td>2</td>\n",
       "    </tr>\n",
       "    <tr>\n",
       "      <th>201637</th>\n",
       "      <td>2</td>\n",
       "    </tr>\n",
       "    <tr>\n",
       "      <th>201640</th>\n",
       "      <td>258</td>\n",
       "    </tr>\n",
       "    <tr>\n",
       "      <th>201641</th>\n",
       "      <td>65</td>\n",
       "    </tr>\n",
       "    <tr>\n",
       "      <th>201642</th>\n",
       "      <td>1</td>\n",
       "    </tr>\n",
       "  </tbody>\n",
       "</table>\n",
       "</div>"
      ],
      "text/plain": [
       "           number_of_orders\n",
       "year_week                  \n",
       "201636                    2\n",
       "201637                    2\n",
       "201640                  258\n",
       "201641                   65\n",
       "201642                    1"
      ]
     },
     "execution_count": 8,
     "metadata": {},
     "output_type": "execute_result"
    }
   ],
   "source": [
    "data[\"orders\"][\"year_week\"] = pd.to_datetime(data[\"orders\"][\"order_purchase_timestamp\"]).dt.strftime(\"%Y%U\")\n",
    "total_orders_per_week = pd.DataFrame(data[\"orders\"].groupby([\"year_week\"]).count()[\"order_id\"]).rename(columns = {\"order_id\": \"number_of_orders\"})\n",
    "\n",
    "total_orders_per_week.head()"
   ]
  },
  {
   "cell_type": "code",
   "execution_count": 9,
   "metadata": {},
   "outputs": [
    {
     "data": {
      "image/png": "[encoded data removed]",
      "text/plain": [
       "<Figure size 432x288 with 1 Axes>"
      ]
     },
     "metadata": {
      "needs_background": "light"
     },
     "output_type": "display_data"
    }
   ],
   "source": [
    "plt.plot(total_orders_per_week)\n",
    "plt.xticks([])\n",
    "plt.xlabel(\"Week\")\n",
    "plt.ylabel(\"Number of Orders\")\n",
    "plt.title(\"Number of Orders vs Week\");"
   ]
  },
  {
   "cell_type": "markdown",
   "metadata": {},
   "source": [
    "❓ The weekly number of non-delivered orders is visualised (to check for any potential issues)"
   ]
  },
  {
   "cell_type": "code",
   "execution_count": 10,
   "metadata": {},
   "outputs": [
    {
     "data": {
      "text/html": [
       "<div>\n",
       "<style scoped>\n",
       "    .dataframe tbody tr th:only-of-type {\n",
       "        vertical-align: middle;\n",
       "    }\n",
       "\n",
       "    .dataframe tbody tr th {\n",
       "        vertical-align: top;\n",
       "    }\n",
       "\n",
       "    .dataframe thead th {\n",
       "        text-align: right;\n",
       "    }\n",
       "</style>\n",
       "<table border=\"1\" class=\"dataframe\">\n",
       "  <thead>\n",
       "    <tr style=\"text-align: right;\">\n",
       "      <th></th>\n",
       "      <th>number_of_orders</th>\n",
       "    </tr>\n",
       "    <tr>\n",
       "      <th>year_week</th>\n",
       "      <th></th>\n",
       "    </tr>\n",
       "  </thead>\n",
       "  <tbody>\n",
       "    <tr>\n",
       "      <th>201636</th>\n",
       "      <td>2</td>\n",
       "    </tr>\n",
       "    <tr>\n",
       "      <th>201637</th>\n",
       "      <td>1</td>\n",
       "    </tr>\n",
       "    <tr>\n",
       "      <th>201640</th>\n",
       "      <td>47</td>\n",
       "    </tr>\n",
       "    <tr>\n",
       "      <th>201641</th>\n",
       "      <td>11</td>\n",
       "    </tr>\n",
       "    <tr>\n",
       "      <th>201642</th>\n",
       "      <td>1</td>\n",
       "    </tr>\n",
       "  </tbody>\n",
       "</table>\n",
       "</div>"
      ],
      "text/plain": [
       "           number_of_orders\n",
       "year_week                  \n",
       "201636                    2\n",
       "201637                    1\n",
       "201640                   47\n",
       "201641                   11\n",
       "201642                    1"
      ]
     },
     "execution_count": 10,
     "metadata": {},
     "output_type": "execute_result"
    }
   ],
   "source": [
    "potential_issues_orders = data[\"orders\"][data[\"orders\"][\"order_status\"] != \"delivered\"].copy()\n",
    "\n",
    "potential_issues_orders[\"year_week\"] = pd.to_datetime(potential_issues_orders[\"order_purchase_timestamp\"]).dt.strftime(\"%Y%U\")\n",
    "potential_issues_orders_per_week = pd.DataFrame(potential_issues_orders.groupby([\"year_week\"]).count()[\"order_id\"]).rename(columns = {\"order_id\": \"number_of_orders\"})\n",
    "\n",
    "potential_issues_orders_per_week.head()"
   ]
  },
  {
   "cell_type": "code",
   "execution_count": 11,
   "metadata": {},
   "outputs": [
    {
     "data": {
      "image/png": "[encoded data removed]",
      "text/plain": [
       "<Figure size 432x288 with 1 Axes>"
      ]
     },
     "metadata": {
      "needs_background": "light"
     },
     "output_type": "display_data"
    }
   ],
   "source": [
    "plt.plot(potential_issues_orders_per_week)\n",
    "plt.xticks([])\n",
    "plt.xlabel(\"Week\")\n",
    "plt.ylabel(\"Number of Potential Issues Orders\")\n",
    "plt.title(\"Number of Potential Issues Orders vs Week\");"
   ]
  },
  {
   "cell_type": "markdown",
   "metadata": {},
   "source": [
    "### Metric 1-bis (optional): Total payment values\n",
    "❓ After plotting the total number of orders, the weekly sum of `payment_value` in `BRL` is visualised to approximate Olist's weekly revenues."
   ]
  },
  {
   "cell_type": "markdown",
   "metadata": {},
   "source": [
    "💡 The `payments` dataset is merged with the `orders` dataset to collect the date of each payment."
   ]
  },
  {
   "cell_type": "code",
   "execution_count": 12,
   "metadata": {
    "tags": [
     "challengify"
    ]
   },
   "outputs": [],
   "source": [
    "order_merge_payments = data[\"orders\"].merge(data[\"order_payments\"], on = \"order_id\", how = \"left\")"
   ]
  },
  {
   "cell_type": "markdown",
   "metadata": {},
   "source": [
    "⌛️ Datetimes are handled"
   ]
  },
  {
   "cell_type": "code",
   "execution_count": 13,
   "metadata": {
    "tags": [
     "challengify"
    ]
   },
   "outputs": [],
   "source": [
    "order_merge_payments[\"year_week\"] = pd.to_datetime(order_merge_payments[\"order_purchase_timestamp\"]).dt.strftime(\"%Y%U\")"
   ]
  },
  {
   "cell_type": "code",
   "execution_count": 14,
   "metadata": {},
   "outputs": [
    {
     "data": {
      "image/png": "[encoded data removed]",
      "text/plain": [
       "<Figure size 432x288 with 1 Axes>"
      ]
     },
     "metadata": {
      "needs_background": "light"
     },
     "output_type": "display_data"
    }
   ],
   "source": [
    "payment_collection_per_week = pd.DataFrame(order_merge_payments.groupby([\"year_week\"]).sum()[\"payment_value\"])\n",
    "\n",
    "plt.plot(payment_collection_per_week)\n",
    "plt.xticks([])\n",
    "plt.xlabel(\"Week\")\n",
    "plt.ylabel(\"Total Payment Collection\")\n",
    "plt.title(\"Total Payment Collection vs Week\");"
   ]
  },
  {
   "cell_type": "markdown",
   "metadata": {},
   "source": [
    "📈 The number of orders and total amount of payments per week are visualised"
   ]
  },
  {
   "cell_type": "code",
   "execution_count": 15,
   "metadata": {
    "tags": [
     "challengify"
    ]
   },
   "outputs": [
    {
     "data": {
      "text/html": [
       "<div>\n",
       "<style scoped>\n",
       "    .dataframe tbody tr th:only-of-type {\n",
       "        vertical-align: middle;\n",
       "    }\n",
       "\n",
       "    .dataframe tbody tr th {\n",
       "        vertical-align: top;\n",
       "    }\n",
       "\n",
       "    .dataframe thead th {\n",
       "        text-align: right;\n",
       "    }\n",
       "</style>\n",
       "<table border=\"1\" class=\"dataframe\">\n",
       "  <thead>\n",
       "    <tr style=\"text-align: right;\">\n",
       "      <th></th>\n",
       "      <th>payment_value</th>\n",
       "      <th>number_of_orders</th>\n",
       "    </tr>\n",
       "    <tr>\n",
       "      <th>year_week</th>\n",
       "      <th></th>\n",
       "      <th></th>\n",
       "    </tr>\n",
       "  </thead>\n",
       "  <tbody>\n",
       "    <tr>\n",
       "      <th>201636</th>\n",
       "      <td>211.29</td>\n",
       "      <td>2</td>\n",
       "    </tr>\n",
       "    <tr>\n",
       "      <th>201637</th>\n",
       "      <td>40.95</td>\n",
       "      <td>2</td>\n",
       "    </tr>\n",
       "    <tr>\n",
       "      <th>201640</th>\n",
       "      <td>50201.28</td>\n",
       "      <td>258</td>\n",
       "    </tr>\n",
       "    <tr>\n",
       "      <th>201641</th>\n",
       "      <td>8827.21</td>\n",
       "      <td>65</td>\n",
       "    </tr>\n",
       "    <tr>\n",
       "      <th>201642</th>\n",
       "      <td>61.99</td>\n",
       "      <td>1</td>\n",
       "    </tr>\n",
       "    <tr>\n",
       "      <th>...</th>\n",
       "      <td>...</td>\n",
       "      <td>...</td>\n",
       "    </tr>\n",
       "    <tr>\n",
       "      <th>201836</th>\n",
       "      <td>808.46</td>\n",
       "      <td>4</td>\n",
       "    </tr>\n",
       "    <tr>\n",
       "      <th>201837</th>\n",
       "      <td>276.04</td>\n",
       "      <td>2</td>\n",
       "    </tr>\n",
       "    <tr>\n",
       "      <th>201838</th>\n",
       "      <td>453.20</td>\n",
       "      <td>3</td>\n",
       "    </tr>\n",
       "    <tr>\n",
       "      <th>201839</th>\n",
       "      <td>277.93</td>\n",
       "      <td>2</td>\n",
       "    </tr>\n",
       "    <tr>\n",
       "      <th>201841</th>\n",
       "      <td>311.74</td>\n",
       "      <td>2</td>\n",
       "    </tr>\n",
       "  </tbody>\n",
       "</table>\n",
       "<p>100 rows × 2 columns</p>\n",
       "</div>"
      ],
      "text/plain": [
       "           payment_value  number_of_orders\n",
       "year_week                                 \n",
       "201636            211.29                 2\n",
       "201637             40.95                 2\n",
       "201640          50201.28               258\n",
       "201641           8827.21                65\n",
       "201642             61.99                 1\n",
       "...                  ...               ...\n",
       "201836            808.46                 4\n",
       "201837            276.04                 2\n",
       "201838            453.20                 3\n",
       "201839            277.93                 2\n",
       "201841            311.74                 2\n",
       "\n",
       "[100 rows x 2 columns]"
      ]
     },
     "execution_count": 15,
     "metadata": {},
     "output_type": "execute_result"
    }
   ],
   "source": [
    "orders_merge_payments_per_week = payment_collection_per_week.merge(total_orders_per_week, on = \"year_week\", how = \"outer\")\n",
    "\n",
    "orders_merge_payments_per_week"
   ]
  },
  {
   "cell_type": "code",
   "execution_count": 16,
   "metadata": {},
   "outputs": [
    {
     "data": {
      "image/png": "[encoded data removed]",
      "text/plain": [
       "<Figure size 432x288 with 2 Axes>"
      ]
     },
     "metadata": {
      "needs_background": "light"
     },
     "output_type": "display_data"
    }
   ],
   "source": [
    "orders_merge_payments_per_week[[\"number_of_orders\"]].plot(kind = \"bar\")\n",
    "plt.legend([\"number of orders\"])\n",
    "plt.xlabel(\"week\")\n",
    "plt.ylabel(\"number of orders\")\n",
    "orders_merge_payments_per_week[\"payment_value\"].plot(secondary_y = True, color = \"red\")\n",
    "plt.xticks([])\n",
    "plt.ylabel(\"total amount of payment\")\n",
    "plt.ylim(0)\n",
    "plt.title(\"Number of Orders and Total Amount of Payment vs Week\")\n",
    "plt.show();"
   ]
  },
  {
   "cell_type": "markdown",
   "metadata": {},
   "source": [
    "### Metric 2: Customer Satisfaction\n",
    "❓ How does the `customer satisfaction` evolve on a monthly basis ? The mean average `review_score` is used to illustrate the customer satisfaction."
   ]
  },
  {
   "cell_type": "markdown",
   "metadata": {},
   "source": [
    "👉 The`reviews` dataframe is loaded :"
   ]
  },
  {
   "cell_type": "code",
   "execution_count": 17,
   "metadata": {
    "tags": [
     "challengify"
    ]
   },
   "outputs": [],
   "source": [
    "order_reviews = data[\"order_reviews\"]"
   ]
  },
  {
   "cell_type": "markdown",
   "metadata": {},
   "source": [
    "⌛️ Datetime is handled."
   ]
  },
  {
   "cell_type": "code",
   "execution_count": 18,
   "metadata": {
    "tags": [
     "challengify"
    ]
   },
   "outputs": [],
   "source": [
    "order_reviews[\"year_month\"] = pd.to_datetime(order_reviews[\"review_creation_date\"]).dt.strftime(\"%Y-%m\")"
   ]
  },
  {
   "cell_type": "markdown",
   "metadata": {},
   "source": [
    "📉 The customer satisfaction evolution over time is plotted"
   ]
  },
  {
   "cell_type": "code",
   "execution_count": 19,
   "metadata": {},
   "outputs": [
    {
     "data": {
      "image/png": "[encoded data removed]",
      "text/plain": [
       "<Figure size 432x288 with 1 Axes>"
      ]
     },
     "metadata": {
      "needs_background": "light"
     },
     "output_type": "display_data"
    }
   ],
   "source": [
    "review_score_by_month = order_reviews.groupby(\"year_month\").mean()\n",
    "\n",
    "plt.plot(review_score_by_month)\n",
    "plt.xticks([])\n",
    "plt.xlabel(\"Month\")\n",
    "plt.title(\"Customer Satisfaction vs Month\")\n",
    "plt.show();"
   ]
  },
  {
   "cell_type": "markdown",
   "metadata": {},
   "source": [
    "### Metric 3: Shipping delay"
   ]
  },
  {
   "cell_type": "markdown",
   "metadata": {},
   "source": [
    "❓Two new metrics, `delay_vs_expected` and `wait_time` are created in ***days***, from the `orders` dataset, and their historical evolution are plotted on a weekly basis to detect trends\n",
    "\n",
    "<details>\n",
    "    <summary>▸ <i>Details</i></summary>"
   ]
  },
  {
   "cell_type": "markdown",
   "metadata": {},
   "source": [
    "🛒 Delivered orders are extracted so that the shipping delays can be computed:"
   ]
  },
  {
   "cell_type": "code",
   "execution_count": 20,
   "metadata": {},
   "outputs": [],
   "source": [
    "delivered_orders = data[\"orders\"][data[\"orders\"][\"order_status\"] == \"delivered\"].copy()"
   ]
  },
  {
   "cell_type": "markdown",
   "metadata": {},
   "source": [
    "⌛️ Datetime problems are fixed"
   ]
  },
  {
   "cell_type": "code",
   "execution_count": 21,
   "metadata": {},
   "outputs": [],
   "source": [
    "delivered_orders[\"order_purchase_timestamp\"] = pd.to_datetime(delivered_orders[\"order_purchase_timestamp\"]).dt.date\n",
    "delivered_orders[\"order_delivered_customer_date\"] = pd.to_datetime(delivered_orders[\"order_delivered_customer_date\"]).dt.date\n",
    "delivered_orders[\"order_estimated_delivery_date\"] = pd.to_datetime(delivered_orders[\"order_estimated_delivery_date\"]).dt.date"
   ]
  },
  {
   "cell_type": "markdown",
   "metadata": {},
   "source": [
    "👉 The delay between the actual delivery date and the estimated time of arrival for each order is calculated."
   ]
  },
  {
   "cell_type": "code",
   "execution_count": 22,
   "metadata": {
    "tags": [
     "challengify"
    ]
   },
   "outputs": [],
   "source": [
    "delivered_orders[\"delay\"] = delivered_orders[\"order_delivered_customer_date\"] - delivered_orders[\"order_estimated_delivery_date\"]"
   ]
  },
  {
   "cell_type": "markdown",
   "metadata": {},
   "source": [
    "👉 The waiting time between the actual delivery date and the moment a customer ordered their items is computed"
   ]
  },
  {
   "cell_type": "code",
   "execution_count": 23,
   "metadata": {
    "tags": [
     "challengify"
    ]
   },
   "outputs": [],
   "source": [
    "delivered_orders[\"wait_time\"] = delivered_orders[\"order_delivered_customer_date\"] - delivered_orders[\"order_purchase_timestamp\"]"
   ]
  },
  {
   "cell_type": "markdown",
   "metadata": {},
   "source": [
    "⌛️ How many orders were delivered later than expected (number and percentage)? <br/>"
   ]
  },
  {
   "cell_type": "code",
   "execution_count": 24,
   "metadata": {
    "scrolled": true,
    "tags": [
     "challengify"
    ]
   },
   "outputs": [],
   "source": [
    "delivered_orders[\"delay\"] = delivered_orders[\"delay\"].astype('timedelta64[D]')\n",
    "\n",
    "number_of_late_orders = delivered_orders[delivered_orders[\"delay\"] > 0].count()[\"order_id\"]\n",
    "number_of_late_orders_percentage = delivered_orders[delivered_orders[\"delay\"] > 0].count()[\"order_id\"]/len(delivered_orders) * 100"
   ]
  },
  {
   "cell_type": "code",
   "execution_count": 25,
   "metadata": {},
   "outputs": [
    {
     "data": {
      "text/plain": [
       "6534"
      ]
     },
     "execution_count": 25,
     "metadata": {},
     "output_type": "execute_result"
    }
   ],
   "source": [
    "number_of_late_orders"
   ]
  },
  {
   "cell_type": "code",
   "execution_count": 26,
   "metadata": {},
   "outputs": [
    {
     "data": {
      "text/plain": [
       "6.77252845208234"
      ]
     },
     "execution_count": 26,
     "metadata": {},
     "output_type": "execute_result"
    }
   ],
   "source": [
    "number_of_late_orders_percentage"
   ]
  },
  {
   "cell_type": "markdown",
   "metadata": {},
   "source": [
    "* On average, 7% of the orders are delivered after the ETA ⌛️\n",
    "\n",
    "* The weeks with the worst performance are found 👇\n",
    "    1. The dataset is aggregated by week\n",
    "    2. The percentage of orders delivered lately each week was computed"
   ]
  },
  {
   "cell_type": "code",
   "execution_count": 27,
   "metadata": {},
   "outputs": [],
   "source": [
    "delivered_orders[\"order_delayed\"] = delivered_orders[\"delay\"] > 0\n",
    "\n",
    "delivered_orders[\"year_week\"] = pd.to_datetime(delivered_orders[\"order_delivered_customer_date\"]).dt.strftime(\"%Y%U\")\n",
    "\n",
    "aggregate_delayed_orders_per_week = delivered_orders.groupby(\"year_week\").order_delayed.agg([\"sum\", \"mean\"]).reset_index()\n",
    "aggregate_delayed_orders_per_week[\"delay_percentage\"] = aggregate_delayed_orders_per_week[\"mean\"] * 100"
   ]
  },
  {
   "cell_type": "markdown",
   "metadata": {},
   "source": [
    "📈 The `number of delays` and `percentage of delayed orders` per week are plotted"
   ]
  },
  {
   "cell_type": "code",
   "execution_count": 28,
   "metadata": {},
   "outputs": [
    {
     "data": {
      "image/png": "[encoded data removed]",
      "text/plain": [
       "<Figure size 432x288 with 2 Axes>"
      ]
     },
     "metadata": {
      "needs_background": "light"
     },
     "output_type": "display_data"
    }
   ],
   "source": [
    "aggregate_delayed_orders_per_week[[\"sum\"]].plot(kind = \"bar\")\n",
    "plt.legend([\"number of delayed orders\"])\n",
    "plt.xlabel(\"week\")\n",
    "plt.ylabel(\"number of delays\")\n",
    "aggregate_delayed_orders_per_week[\"delay_percentage\"].plot(secondary_y = True, color = \"red\")\n",
    "plt.xticks([])\n",
    "plt.ylabel(\"percentage of delayed orders\")\n",
    "plt.title(\"Number of Delayed Orders and Percentage of Delays by Week\")\n",
    "plt.ylim(0)\n",
    "plt.show();"
   ]
  },
  {
   "cell_type": "markdown",
   "metadata": {},
   "source": [
    "#### Delay Analysis\n",
    "\n",
    "📈 📉 From the previous graph, Olist experienced major lateness issues on a couple of weeks ⚠️...\n",
    "\n",
    "👉 These peaks of lateness are investigated.\n",
    "\n",
    "❓ A dataframe (with weeks as indexes) is created with the following columns:\n",
    "* number of delays\n",
    "* number of orders\n",
    "* percentage of delayed orders"
   ]
  },
  {
   "cell_type": "code",
   "execution_count": 29,
   "metadata": {
    "tags": [
     "challengify"
    ]
   },
   "outputs": [
    {
     "data": {
      "text/html": [
       "<div>\n",
       "<style scoped>\n",
       "    .dataframe tbody tr th:only-of-type {\n",
       "        vertical-align: middle;\n",
       "    }\n",
       "\n",
       "    .dataframe tbody tr th {\n",
       "        vertical-align: top;\n",
       "    }\n",
       "\n",
       "    .dataframe thead tr th {\n",
       "        text-align: left;\n",
       "    }\n",
       "\n",
       "    .dataframe thead tr:last-of-type th {\n",
       "        text-align: right;\n",
       "    }\n",
       "</style>\n",
       "<table border=\"1\" class=\"dataframe\">\n",
       "  <thead>\n",
       "    <tr>\n",
       "      <th></th>\n",
       "      <th colspan=\"3\" halign=\"left\"></th>\n",
       "    </tr>\n",
       "    <tr>\n",
       "      <th></th>\n",
       "      <th>number of orders</th>\n",
       "      <th>number of delays</th>\n",
       "      <th>percentage of delays</th>\n",
       "    </tr>\n",
       "    <tr>\n",
       "      <th>week</th>\n",
       "      <th></th>\n",
       "      <th></th>\n",
       "      <th></th>\n",
       "    </tr>\n",
       "  </thead>\n",
       "  <tbody>\n",
       "    <tr>\n",
       "      <th>201641</th>\n",
       "      <td>48</td>\n",
       "      <td>0</td>\n",
       "      <td>0.000000</td>\n",
       "    </tr>\n",
       "    <tr>\n",
       "      <th>201642</th>\n",
       "      <td>67</td>\n",
       "      <td>0</td>\n",
       "      <td>0.000000</td>\n",
       "    </tr>\n",
       "    <tr>\n",
       "      <th>201643</th>\n",
       "      <td>68</td>\n",
       "      <td>0</td>\n",
       "      <td>0.000000</td>\n",
       "    </tr>\n",
       "    <tr>\n",
       "      <th>201644</th>\n",
       "      <td>40</td>\n",
       "      <td>0</td>\n",
       "      <td>0.000000</td>\n",
       "    </tr>\n",
       "    <tr>\n",
       "      <th>201645</th>\n",
       "      <td>19</td>\n",
       "      <td>1</td>\n",
       "      <td>5.263158</td>\n",
       "    </tr>\n",
       "    <tr>\n",
       "      <th>...</th>\n",
       "      <td>...</td>\n",
       "      <td>...</td>\n",
       "      <td>...</td>\n",
       "    </tr>\n",
       "    <tr>\n",
       "      <th>201837</th>\n",
       "      <td>10</td>\n",
       "      <td>10</td>\n",
       "      <td>100.000000</td>\n",
       "    </tr>\n",
       "    <tr>\n",
       "      <th>201838</th>\n",
       "      <td>2</td>\n",
       "      <td>2</td>\n",
       "      <td>100.000000</td>\n",
       "    </tr>\n",
       "    <tr>\n",
       "      <th>201839</th>\n",
       "      <td>1</td>\n",
       "      <td>1</td>\n",
       "      <td>100.000000</td>\n",
       "    </tr>\n",
       "    <tr>\n",
       "      <th>201840</th>\n",
       "      <td>1</td>\n",
       "      <td>1</td>\n",
       "      <td>100.000000</td>\n",
       "    </tr>\n",
       "    <tr>\n",
       "      <th>201841</th>\n",
       "      <td>1</td>\n",
       "      <td>1</td>\n",
       "      <td>100.000000</td>\n",
       "    </tr>\n",
       "  </tbody>\n",
       "</table>\n",
       "<p>104 rows × 3 columns</p>\n",
       "</div>"
      ],
      "text/plain": [
       "                                                             \n",
       "       number of orders number of delays percentage of delays\n",
       "week                                                         \n",
       "201641               48                0             0.000000\n",
       "201642               67                0             0.000000\n",
       "201643               68                0             0.000000\n",
       "201644               40                0             0.000000\n",
       "201645               19                1             5.263158\n",
       "...                 ...              ...                  ...\n",
       "201837               10               10           100.000000\n",
       "201838                2                2           100.000000\n",
       "201839                1                1           100.000000\n",
       "201840                1                1           100.000000\n",
       "201841                1                1           100.000000\n",
       "\n",
       "[104 rows x 3 columns]"
      ]
     },
     "execution_count": 29,
     "metadata": {},
     "output_type": "execute_result"
    }
   ],
   "source": [
    "aggregated_delivered_orders_per_week = delivered_orders.groupby(\"year_week\").agg({\"order_id\": \"count\", \"order_delayed\": [\"sum\", \"mean\"]})\n",
    "\n",
    "aggregated_delivered_orders_per_week[('order_delayed',  'mean')] = aggregated_delivered_orders_per_week[('order_delayed',  'mean')] * 100\n",
    "\n",
    "aggregated_delivered_orders_per_week = aggregated_delivered_orders_per_week.rename_axis(index = \"week\").rename(columns = {\"order_id\": \"\", \"order_delayed\": \"\", \"count\": \"number of orders\", \"sum\": \"number of delays\", \"mean\": \"percentage of delays\"})\n",
    "\n",
    "aggregated_delivered_orders_per_week"
   ]
  },
  {
   "cell_type": "markdown",
   "metadata": {},
   "source": [
    "❓ Sub-dataframes are created to separate these weeks into subgroups of:\n",
    "- 20% and more\n",
    "- 15-20%\n",
    "- 10-15%\n",
    "- 5-10%\n",
    "- 5% and less"
   ]
  },
  {
   "cell_type": "code",
   "execution_count": 30,
   "metadata": {},
   "outputs": [],
   "source": [
    "delay_more_than_20_percent = aggregated_delivered_orders_per_week[aggregated_delivered_orders_per_week[\"\", \"percentage of delays\"] >= 20]\n",
    "delay_15_to_20_percent = aggregated_delivered_orders_per_week[(aggregated_delivered_orders_per_week[\"\", \"percentage of delays\"] >= 15) & (aggregated_delivered_orders_per_week[\"\", \"percentage of delays\"] < 20)]\n",
    "delay_10_to_15_percent = aggregated_delivered_orders_per_week[(aggregated_delivered_orders_per_week[\"\", \"percentage of delays\"] >= 10) & (aggregated_delivered_orders_per_week[\"\", \"percentage of delays\"] < 15)]\n",
    "delay_5_to_10_percent = aggregated_delivered_orders_per_week[(aggregated_delivered_orders_per_week[\"\", \"percentage of delays\"] >= 5) & (aggregated_delivered_orders_per_week[\"\", \"percentage of delays\"] < 10)]\n",
    "delay_less_than_5_percent = aggregated_delivered_orders_per_week[aggregated_delivered_orders_per_week[\"\", \"percentage of delays\"] < 5]"
   ]
  },
  {
   "cell_type": "code",
   "execution_count": null,
   "metadata": {},
   "outputs": [],
   "source": []
  }
 ],
 "metadata": {
  "kernelspec": {
   "display_name": "Python 3 (ipykernel)",
   "language": "python",
   "name": "python3"
  },
  "language_info": {
   "codemirror_mode": {
    "name": "ipython",
    "version": 3
   },
   "file_extension": ".py",
   "mimetype": "text/x-python",
   "name": "python",
   "nbconvert_exporter": "python",
   "pygments_lexer": "ipython3",
   "version": "3.8.12"
  },
  "toc": {
   "base_numbering": 1,
   "nav_menu": {},
   "number_sections": true,
   "sideBar": true,
   "skip_h1_title": false,
   "title_cell": "Table of Contents",
   "title_sidebar": "Contents",
   "toc_cell": false,
   "toc_position": {},
   "toc_section_display": true,
   "toc_window_display": false
  }
 },
 "nbformat": 4,
 "nbformat_minor": 4
}
