{
 "cells": [
  {
   "cell_type": "markdown",
   "metadata": {},
   "source": [
    "# Olist reviews' - Translations...\n",
    "\n",
    "* The `order_reviews` are translated from Portugues into 🇬🇧 English !"
   ]
  },
  {
   "cell_type": "markdown",
   "metadata": {},
   "source": [
    "## Review Translator"
   ]
  },
  {
   "cell_type": "markdown",
   "metadata": {},
   "source": [
    "👉 The `reviews` are loaded and a sample of reviews associated to a one-star rating are selected"
   ]
  },
  {
   "cell_type": "code",
   "execution_count": 1,
   "metadata": {},
   "outputs": [
    {
     "name": "stderr",
     "output_type": "stream",
     "text": [
      "Using Singapore server backend.\n"
     ]
    }
   ],
   "source": [
    "# Modules are imported\n",
    "import translators as ts\n",
    "\n",
    "#Data is loaded\n",
    "from data import Olist"
   ]
  },
  {
   "cell_type": "code",
   "execution_count": 2,
   "metadata": {},
   "outputs": [],
   "source": [
    "data = Olist().get_data()"
   ]
  },
  {
   "cell_type": "code",
   "execution_count": 3,
   "metadata": {},
   "outputs": [],
   "source": [
    "reviews = data[\"order_reviews\"]\n",
    "\n",
    "one_star_reviews = reviews[(reviews[\"review_score\"] == 1) & (~reviews[\"review_comment_message\"].isna())]"
   ]
  },
  {
   "cell_type": "markdown",
   "metadata": {},
   "source": [
    "👀 A sample of 20 low scores reviews are selected (randomly) and converted into a list."
   ]
  },
  {
   "cell_type": "code",
   "execution_count": 4,
   "metadata": {},
   "outputs": [],
   "source": [
    "resampled_reviews = one_star_reviews.sample(20).reset_index(drop = True)[\"review_comment_message\"]\n",
    "\n",
    "resampled_reviews_list = [item for i, item in enumerate(resampled_reviews)]"
   ]
  },
  {
   "cell_type": "markdown",
   "metadata": {},
   "source": [
    "🗣 These reviews are converted using the translators package:"
   ]
  },
  {
   "cell_type": "code",
   "execution_count": 5,
   "metadata": {
    "tags": [
     "challengify"
    ]
   },
   "outputs": [
    {
     "name": "stdout",
     "output_type": "stream",
     "text": [
      "Good product, I recommend the seller. No more nothing to comment on the product and the seller too.\n",
      "I need a position because I did not receive the same.\n",
      "I didn't receive the product and I also can't know anything about it\n",
      "I have not received the product and so far we have not obtained return on the return of the invoice and payment\n",
      "I did not receive the product. I didn't even know it had been a different store. I thought it had been Stark.\n",
      "I made the purchase of 3 pieces. As a product was sold in 2 pcs, receiving only two boxes I thought would be 2 products in 1 box and the other in the other. However the white tray was not delivered\n",
      "Horrible plastic material stops in your room\n",
      "I bought two equal lamps. A large box came containing only one lamp, the NF describing 2 lamps and delivery status as if it had delivered. A damned job solves.\n",
      "The note came with the name of another company? Which had already canceled a request for not having the product they announced, Targaryen sent another product without even consulting my opinion\n",
      "Selendor contacted me saying it would be delivered in 3 days. Product ended up in post office with a period of 15 days. Without communicating, with nothing, pessimal professionalism of the company. Do not fulfill.\n",
      "I can not classify yet, because I did not receive the product ... waiting !!\n",
      "Goodnight. I need a baratheon position on my order. Or the reversal on my card since the product was not delivered.\n",
      "Advertise one product of one brand deliver from another even did not give me an answer about the other product I bought is a source for Xbox 360 in the original ad arrived a similar and there?\n",
      "They gave me a deadline where it was not fulfilled, because it was to give birthday, but it has passed and has not received the request yet.\n",
      "After the product invoiced the store sent an email that could not deliver for lack of stock. When searching for purchase on the internet the store offers the product for sale for a higher price\n",
      "I have not received the product to this day, so I do not recommend it.\n",
      "The product arrived poorly packed, torn and wet box, has sewing defects and has a bad adjustment in the vehicle seat (Voyage G6). I do not recommend!!\n",
      "I want my product if I won't come with a lack of respect\n",
      "I bought the internal battery for Samsung Galaxy A5. The product I received was not what I bought.\n",
      "The card I received is fake. \n",
      " It started with the color of the card that was not the same as the site photo. The cell phone and PC did not recognize the card. Finally, I found that the Prodt acronym. It is for a smaller capacity\n"
     ]
    }
   ],
   "source": [
    "translated_text_list = []\n",
    "\n",
    "for item in resampled_reviews_list:\n",
    "    translation = ts.google(item, from_language = \"pt\", to_language = \"en\")\n",
    "    translated_text_list.append(translation)\n",
    "    print(translation)"
   ]
  },
  {
   "cell_type": "markdown",
   "metadata": {},
   "source": [
    "**Insights** 💡\n",
    "- Some bad reviews are linked to the delivery (`wait_time`, missed deadline,  etc...)\n",
    "- But some bad reviews are linked to the seller or the product...\n",
    "\n",
    "How can we differentiate between the two possible causes?\n",
    "\n",
    "That's something important Olist needs to know:\n",
    "- should we remove some products from the catalogue?\n",
    "- or remove some sellers from their marketplace?\n",
    "\n",
    "* 🗣 `Natural Language Processing` algorithms will be performed to extract some information about these reviews\n"
   ]
  },
  {
   "cell_type": "code",
   "execution_count": null,
   "metadata": {},
   "outputs": [],
   "source": []
  }
 ],
 "metadata": {
  "kernelspec": {
   "display_name": "Python 3 (ipykernel)",
   "language": "python",
   "name": "python3"
  },
  "language_info": {
   "codemirror_mode": {
    "name": "ipython",
    "version": 3
   },
   "file_extension": ".py",
   "mimetype": "text/x-python",
   "name": "python",
   "nbconvert_exporter": "python",
   "pygments_lexer": "ipython3",
   "version": "3.8.12"
  },
  "toc": {
   "base_numbering": 1,
   "nav_menu": {},
   "number_sections": true,
   "sideBar": true,
   "skip_h1_title": false,
   "title_cell": "Table of Contents",
   "title_sidebar": "Contents",
   "toc_cell": false,
   "toc_position": {},
   "toc_section_display": true,
   "toc_window_display": false
  }
 },
 "nbformat": 4,
 "nbformat_minor": 4
}
