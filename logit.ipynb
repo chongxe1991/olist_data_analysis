{
 "cells": [
  {
   "cell_type": "markdown",
   "metadata": {},
   "source": [
    "# `Logit` on Orders"
   ]
  },
  {
   "cell_type": "markdown",
   "metadata": {},
   "source": [
    "## Features Selection"
   ]
  },
  {
   "cell_type": "markdown",
   "metadata": {},
   "source": [
    "🎯 The impact of `wait_time` and `delay_vs_expected` on very `good/bad reviews` is investigated\n",
    "\n",
    "👉 Using the `orders` training_set, two `multivariate logistic regressions` are run:\n",
    "- `logit_one` to predict `dim_is_one_star` \n",
    "- `logit_five` to predict `dim_is_five_star`.\n",
    "\n",
    " "
   ]
  },
  {
   "cell_type": "code",
   "execution_count": 1,
   "metadata": {},
   "outputs": [],
   "source": [
    "#Modules are imported\n",
    "import pandas as pd\n",
    "import seaborn as sns\n",
    "import matplotlib.pyplot as plt\n",
    "import statsmodels.api as sm\n",
    "import statsmodels.formula.api as smf\n",
    "from statsmodels.stats.outliers_influence import variance_inflation_factor as vif\n",
    "\n",
    "#Dataset is imported\n",
    "from order import Order\n",
    "\n",
    "%load_ext autoreload\n",
    "%autoreload 2"
   ]
  },
  {
   "cell_type": "code",
   "execution_count": 2,
   "metadata": {},
   "outputs": [],
   "source": [
    "orders = Order().get_training_data()"
   ]
  },
  {
   "cell_type": "markdown",
   "metadata": {},
   "source": [
    "👉 The features to be used are selected in a list:\n",
    "\n",
    "⚠️ Features that are derived from the target are not selected as these will create data leakage\n",
    "\n",
    "💡 To figure out the impact of `wait_time` and `delay_vs_expected`, the impact of other features is controlled, all features that may be relevant are included"
   ]
  },
  {
   "cell_type": "code",
   "execution_count": 3,
   "metadata": {},
   "outputs": [],
   "source": [
    "features_list = [\"dim_is_one_star\", \"dim_is_five_star\", \"wait_time\",\"delay_vs_expected\", \"price\", \"distance_seller_customer\", \"number_of_products\", \"number_of_sellers\"]"
   ]
  },
  {
   "cell_type": "markdown",
   "metadata": {},
   "source": [
    "🕵🏻 The `multi-colinearity` of the features are checked using the `VIF index`.\n",
    "\n",
    "* It shouldn't be too high (< 10 preferably) to ensure that we can trust the partial regression coefficents and their associated `p-values` \n",
    "* Data must be standardized ! \n",
    "    * A `VIF Analysis` is made by regressing a feature vs. the other features...\n",
    "    * So `removal of effect of scale` needs to be performed so that the features have an equal importance before running any linear regression!\n",
    "    \n",
    "    \n",
    "📚 <a href=\"https://www.statisticshowto.com/variance-inflation-factor/\">Statistics How To - Variance Inflation Factor</a>\n",
    "\n",
    "📚  <a href=\"https://online.stat.psu.edu/stat462/node/180/\">PennState - Detecting Multicollinearity Using Variance Inflation Factors</a>"
   ]
  },
  {
   "cell_type": "markdown",
   "metadata": {},
   "source": [
    "⚖️ Features are standardized:"
   ]
  },
  {
   "cell_type": "code",
   "execution_count": 4,
   "metadata": {
    "tags": [
     "challengify"
    ]
   },
   "outputs": [
    {
     "data": {
      "text/html": [
       "<div>\n",
       "<style scoped>\n",
       "    .dataframe tbody tr th:only-of-type {\n",
       "        vertical-align: middle;\n",
       "    }\n",
       "\n",
       "    .dataframe tbody tr th {\n",
       "        vertical-align: top;\n",
       "    }\n",
       "\n",
       "    .dataframe thead th {\n",
       "        text-align: right;\n",
       "    }\n",
       "</style>\n",
       "<table border=\"1\" class=\"dataframe\">\n",
       "  <thead>\n",
       "    <tr style=\"text-align: right;\">\n",
       "      <th></th>\n",
       "      <th>dim_is_one_star</th>\n",
       "      <th>dim_is_five_star</th>\n",
       "      <th>wait_time</th>\n",
       "      <th>delay_vs_expected</th>\n",
       "      <th>price</th>\n",
       "      <th>distance_seller_customer</th>\n",
       "      <th>number_of_products</th>\n",
       "      <th>number_of_sellers</th>\n",
       "    </tr>\n",
       "  </thead>\n",
       "  <tbody>\n",
       "    <tr>\n",
       "      <th>0</th>\n",
       "      <td>0</td>\n",
       "      <td>0</td>\n",
       "      <td>-0.428002</td>\n",
       "      <td>-0.153335</td>\n",
       "      <td>-0.513802</td>\n",
       "      <td>-0.979475</td>\n",
       "      <td>-0.264595</td>\n",
       "      <td>-0.112544</td>\n",
       "    </tr>\n",
       "    <tr>\n",
       "      <th>1</th>\n",
       "      <td>0</td>\n",
       "      <td>0</td>\n",
       "      <td>0.100519</td>\n",
       "      <td>-0.153335</td>\n",
       "      <td>-0.086640</td>\n",
       "      <td>0.429743</td>\n",
       "      <td>-0.264595</td>\n",
       "      <td>-0.112544</td>\n",
       "    </tr>\n",
       "    <tr>\n",
       "      <th>2</th>\n",
       "      <td>0</td>\n",
       "      <td>1</td>\n",
       "      <td>-0.322297</td>\n",
       "      <td>-0.153335</td>\n",
       "      <td>0.111748</td>\n",
       "      <td>-0.145495</td>\n",
       "      <td>-0.264595</td>\n",
       "      <td>-0.112544</td>\n",
       "    </tr>\n",
       "    <tr>\n",
       "      <th>3</th>\n",
       "      <td>0</td>\n",
       "      <td>1</td>\n",
       "      <td>0.100519</td>\n",
       "      <td>-0.153335</td>\n",
       "      <td>-0.441525</td>\n",
       "      <td>2.054621</td>\n",
       "      <td>-0.264595</td>\n",
       "      <td>-0.112544</td>\n",
       "    </tr>\n",
       "    <tr>\n",
       "      <th>4</th>\n",
       "      <td>0</td>\n",
       "      <td>1</td>\n",
       "      <td>-1.062226</td>\n",
       "      <td>-0.153335</td>\n",
       "      <td>-0.562388</td>\n",
       "      <td>-0.959115</td>\n",
       "      <td>-0.264595</td>\n",
       "      <td>-0.112544</td>\n",
       "    </tr>\n",
       "  </tbody>\n",
       "</table>\n",
       "</div>"
      ],
      "text/plain": [
       "   dim_is_one_star  dim_is_five_star  wait_time  delay_vs_expected     price  \\\n",
       "0                0                 0  -0.428002          -0.153335 -0.513802   \n",
       "1                0                 0   0.100519          -0.153335 -0.086640   \n",
       "2                0                 1  -0.322297          -0.153335  0.111748   \n",
       "3                0                 1   0.100519          -0.153335 -0.441525   \n",
       "4                0                 1  -1.062226          -0.153335 -0.562388   \n",
       "\n",
       "   distance_seller_customer  number_of_products  number_of_sellers  \n",
       "0                 -0.979475           -0.264595          -0.112544  \n",
       "1                  0.429743           -0.264595          -0.112544  \n",
       "2                 -0.145495           -0.264595          -0.112544  \n",
       "3                  2.054621           -0.264595          -0.112544  \n",
       "4                 -0.959115           -0.264595          -0.112544  "
      ]
     },
     "execution_count": 4,
     "metadata": {},
     "output_type": "execute_result"
    }
   ],
   "source": [
    "orders_scaled = orders.copy()\n",
    "orders_scaled = orders_scaled[features_list]\n",
    "\n",
    "for feature in orders_scaled.columns[2:]:\n",
    "    mu = orders_scaled[feature].mean()\n",
    "    sigma = orders_scaled[feature].std()\n",
    "    orders_scaled[feature] = orders_scaled[feature].apply(lambda x: (x-mu)/sigma)\n",
    "    \n",
    "orders_scaled.head()"
   ]
  },
  {
   "cell_type": "markdown",
   "metadata": {},
   "source": [
    "👉 VIF Analysis is run to analyze the potential multicolinearities:"
   ]
  },
  {
   "cell_type": "code",
   "execution_count": 5,
   "metadata": {},
   "outputs": [
    {
     "data": {
      "text/html": [
       "<div>\n",
       "<style scoped>\n",
       "    .dataframe tbody tr th:only-of-type {\n",
       "        vertical-align: middle;\n",
       "    }\n",
       "\n",
       "    .dataframe tbody tr th {\n",
       "        vertical-align: top;\n",
       "    }\n",
       "\n",
       "    .dataframe thead th {\n",
       "        text-align: right;\n",
       "    }\n",
       "</style>\n",
       "<table border=\"1\" class=\"dataframe\">\n",
       "  <thead>\n",
       "    <tr style=\"text-align: right;\">\n",
       "      <th></th>\n",
       "      <th>features</th>\n",
       "      <th>vif_index</th>\n",
       "    </tr>\n",
       "  </thead>\n",
       "  <tbody>\n",
       "    <tr>\n",
       "      <th>0</th>\n",
       "      <td>dim_is_one_star</td>\n",
       "      <td>1.133492</td>\n",
       "    </tr>\n",
       "    <tr>\n",
       "      <th>1</th>\n",
       "      <td>dim_is_five_star</td>\n",
       "      <td>1.031407</td>\n",
       "    </tr>\n",
       "    <tr>\n",
       "      <th>2</th>\n",
       "      <td>wait_time</td>\n",
       "      <td>2.648983</td>\n",
       "    </tr>\n",
       "    <tr>\n",
       "      <th>3</th>\n",
       "      <td>delay_vs_expected</td>\n",
       "      <td>2.151810</td>\n",
       "    </tr>\n",
       "    <tr>\n",
       "      <th>4</th>\n",
       "      <td>price</td>\n",
       "      <td>1.032502</td>\n",
       "    </tr>\n",
       "    <tr>\n",
       "      <th>5</th>\n",
       "      <td>distance_seller_customer</td>\n",
       "      <td>1.327266</td>\n",
       "    </tr>\n",
       "    <tr>\n",
       "      <th>6</th>\n",
       "      <td>number_of_products</td>\n",
       "      <td>1.128042</td>\n",
       "    </tr>\n",
       "    <tr>\n",
       "      <th>7</th>\n",
       "      <td>number_of_sellers</td>\n",
       "      <td>1.102739</td>\n",
       "    </tr>\n",
       "  </tbody>\n",
       "</table>\n",
       "</div>"
      ],
      "text/plain": [
       "                   features  vif_index\n",
       "0           dim_is_one_star   1.133492\n",
       "1          dim_is_five_star   1.031407\n",
       "2                 wait_time   2.648983\n",
       "3         delay_vs_expected   2.151810\n",
       "4                     price   1.032502\n",
       "5  distance_seller_customer   1.327266\n",
       "6        number_of_products   1.128042\n",
       "7         number_of_sellers   1.102739"
      ]
     },
     "execution_count": 5,
     "metadata": {},
     "output_type": "execute_result"
    }
   ],
   "source": [
    "vif_df = pd.DataFrame()\n",
    "\n",
    "vif_df[\"features\"] = orders_scaled.columns\n",
    "vif_df[\"vif_index\"] = [vif(orders_scaled.values, i) for i in range(orders_scaled.shape[1])]\n",
    "round(vif_df.sort_values(by=\"vif_index\", ascending = False),2)\n",
    "\n",
    "vif_df"
   ]
  },
  {
   "cell_type": "markdown",
   "metadata": {},
   "source": [
    "## Logistic Regressions"
   ]
  },
  {
   "cell_type": "markdown",
   "metadata": {},
   "source": [
    "👉 Two `Logistic Regression` models are fitted:\n",
    "- `logit_one` to predict `dim_is_one_star` \n",
    "- `logit_five` to predict `dim_is_five_star`."
   ]
  },
  {
   "cell_type": "markdown",
   "metadata": {},
   "source": [
    "`Logit 1️⃣`"
   ]
  },
  {
   "cell_type": "code",
   "execution_count": 6,
   "metadata": {
    "tags": [
     "challengify"
    ]
   },
   "outputs": [
    {
     "name": "stdout",
     "output_type": "stream",
     "text": [
      "Optimization terminated successfully.\n",
      "         Current function value: 0.273940\n",
      "         Iterations 7\n"
     ]
    },
    {
     "data": {
      "text/html": [
       "<table class=\"simpletable\">\n",
       "<caption>Logit Regression Results</caption>\n",
       "<tr>\n",
       "  <th>Dep. Variable:</th>    <td>dim_is_one_star</td> <th>  No. Observations:  </th>  <td> 95872</td> \n",
       "</tr>\n",
       "<tr>\n",
       "  <th>Model:</th>                 <td>Logit</td>      <th>  Df Residuals:      </th>  <td> 95865</td> \n",
       "</tr>\n",
       "<tr>\n",
       "  <th>Method:</th>                 <td>MLE</td>       <th>  Df Model:          </th>  <td>     6</td> \n",
       "</tr>\n",
       "<tr>\n",
       "  <th>Date:</th>            <td>Mon, 11 Jul 2022</td> <th>  Pseudo R-squ.:     </th>  <td>0.1436</td> \n",
       "</tr>\n",
       "<tr>\n",
       "  <th>Time:</th>                <td>22:24:31</td>     <th>  Log-Likelihood:    </th> <td> -26263.</td>\n",
       "</tr>\n",
       "<tr>\n",
       "  <th>converged:</th>             <td>True</td>       <th>  LL-Null:           </th> <td> -30669.</td>\n",
       "</tr>\n",
       "<tr>\n",
       "  <th>Covariance Type:</th>     <td>nonrobust</td>    <th>  LLR p-value:       </th>  <td> 0.000</td> \n",
       "</tr>\n",
       "</table>\n",
       "<table class=\"simpletable\">\n",
       "<tr>\n",
       "              <td></td>                <th>coef</th>     <th>std err</th>      <th>z</th>      <th>P>|z|</th>  <th>[0.025</th>    <th>0.975]</th>  \n",
       "</tr>\n",
       "<tr>\n",
       "  <th>Intercept</th>                <td>   -2.4710</td> <td>    0.013</td> <td> -190.640</td> <td> 0.000</td> <td>   -2.496</td> <td>   -2.446</td>\n",
       "</tr>\n",
       "<tr>\n",
       "  <th>wait_time</th>                <td>    0.7448</td> <td>    0.017</td> <td>   45.101</td> <td> 0.000</td> <td>    0.712</td> <td>    0.777</td>\n",
       "</tr>\n",
       "<tr>\n",
       "  <th>delay_vs_expected</th>        <td>    0.2124</td> <td>    0.018</td> <td>   11.606</td> <td> 0.000</td> <td>    0.177</td> <td>    0.248</td>\n",
       "</tr>\n",
       "<tr>\n",
       "  <th>price</th>                    <td>    0.0425</td> <td>    0.011</td> <td>    4.051</td> <td> 0.000</td> <td>    0.022</td> <td>    0.063</td>\n",
       "</tr>\n",
       "<tr>\n",
       "  <th>distance_seller_customer</th> <td>   -0.1949</td> <td>    0.013</td> <td>  -14.608</td> <td> 0.000</td> <td>   -0.221</td> <td>   -0.169</td>\n",
       "</tr>\n",
       "<tr>\n",
       "  <th>number_of_products</th>       <td>    0.2407</td> <td>    0.009</td> <td>   26.231</td> <td> 0.000</td> <td>    0.223</td> <td>    0.259</td>\n",
       "</tr>\n",
       "<tr>\n",
       "  <th>number_of_sellers</th>        <td>    0.1785</td> <td>    0.008</td> <td>   22.710</td> <td> 0.000</td> <td>    0.163</td> <td>    0.194</td>\n",
       "</tr>\n",
       "</table>"
      ],
      "text/plain": [
       "<class 'statsmodels.iolib.summary.Summary'>\n",
       "\"\"\"\n",
       "                           Logit Regression Results                           \n",
       "==============================================================================\n",
       "Dep. Variable:        dim_is_one_star   No. Observations:                95872\n",
       "Model:                          Logit   Df Residuals:                    95865\n",
       "Method:                           MLE   Df Model:                            6\n",
       "Date:                Mon, 11 Jul 2022   Pseudo R-squ.:                  0.1436\n",
       "Time:                        22:24:31   Log-Likelihood:                -26263.\n",
       "converged:                       True   LL-Null:                       -30669.\n",
       "Covariance Type:            nonrobust   LLR p-value:                     0.000\n",
       "============================================================================================\n",
       "                               coef    std err          z      P>|z|      [0.025      0.975]\n",
       "--------------------------------------------------------------------------------------------\n",
       "Intercept                   -2.4710      0.013   -190.640      0.000      -2.496      -2.446\n",
       "wait_time                    0.7448      0.017     45.101      0.000       0.712       0.777\n",
       "delay_vs_expected            0.2124      0.018     11.606      0.000       0.177       0.248\n",
       "price                        0.0425      0.011      4.051      0.000       0.022       0.063\n",
       "distance_seller_customer    -0.1949      0.013    -14.608      0.000      -0.221      -0.169\n",
       "number_of_products           0.2407      0.009     26.231      0.000       0.223       0.259\n",
       "number_of_sellers            0.1785      0.008     22.710      0.000       0.163       0.194\n",
       "============================================================================================\n",
       "\"\"\""
      ]
     },
     "execution_count": 6,
     "metadata": {},
     "output_type": "execute_result"
    }
   ],
   "source": [
    "logit_one = smf.logit(formula='''dim_is_one_star ~ wait_time + delay_vs_expected + price + \n",
    "distance_seller_customer + number_of_products + number_of_sellers''', data=orders_scaled).fit()\n",
    "\n",
    "logit_one.summary()"
   ]
  },
  {
   "cell_type": "markdown",
   "metadata": {},
   "source": [
    "`Logit 5️⃣`"
   ]
  },
  {
   "cell_type": "code",
   "execution_count": 7,
   "metadata": {
    "tags": [
     "challengify"
    ]
   },
   "outputs": [
    {
     "name": "stdout",
     "output_type": "stream",
     "text": [
      "Optimization terminated successfully.\n",
      "         Current function value: 0.637179\n",
      "         Iterations 7\n"
     ]
    },
    {
     "data": {
      "text/html": [
       "<table class=\"simpletable\">\n",
       "<caption>Logit Regression Results</caption>\n",
       "<tr>\n",
       "  <th>Dep. Variable:</th>   <td>dim_is_five_star</td> <th>  No. Observations:  </th>  <td> 95872</td> \n",
       "</tr>\n",
       "<tr>\n",
       "  <th>Model:</th>                 <td>Logit</td>      <th>  Df Residuals:      </th>  <td> 95865</td> \n",
       "</tr>\n",
       "<tr>\n",
       "  <th>Method:</th>                 <td>MLE</td>       <th>  Df Model:          </th>  <td>     6</td> \n",
       "</tr>\n",
       "<tr>\n",
       "  <th>Date:</th>            <td>Mon, 11 Jul 2022</td> <th>  Pseudo R-squ.:     </th>  <td>0.05754</td>\n",
       "</tr>\n",
       "<tr>\n",
       "  <th>Time:</th>                <td>22:24:32</td>     <th>  Log-Likelihood:    </th> <td> -61088.</td>\n",
       "</tr>\n",
       "<tr>\n",
       "  <th>converged:</th>             <td>True</td>       <th>  LL-Null:           </th> <td> -64817.</td>\n",
       "</tr>\n",
       "<tr>\n",
       "  <th>Covariance Type:</th>     <td>nonrobust</td>    <th>  LLR p-value:       </th>  <td> 0.000</td> \n",
       "</tr>\n",
       "</table>\n",
       "<table class=\"simpletable\">\n",
       "<tr>\n",
       "              <td></td>                <th>coef</th>     <th>std err</th>      <th>z</th>      <th>P>|z|</th>  <th>[0.025</th>    <th>0.975]</th>  \n",
       "</tr>\n",
       "<tr>\n",
       "  <th>Intercept</th>                <td>    0.3406</td> <td>    0.007</td> <td>   47.577</td> <td> 0.000</td> <td>    0.327</td> <td>    0.355</td>\n",
       "</tr>\n",
       "<tr>\n",
       "  <th>wait_time</th>                <td>   -0.5349</td> <td>    0.012</td> <td>  -46.497</td> <td> 0.000</td> <td>   -0.557</td> <td>   -0.512</td>\n",
       "</tr>\n",
       "<tr>\n",
       "  <th>delay_vs_expected</th>        <td>   -0.4114</td> <td>    0.024</td> <td>  -17.102</td> <td> 0.000</td> <td>   -0.459</td> <td>   -0.364</td>\n",
       "</tr>\n",
       "<tr>\n",
       "  <th>price</th>                    <td>    0.0225</td> <td>    0.007</td> <td>    3.189</td> <td> 0.001</td> <td>    0.009</td> <td>    0.036</td>\n",
       "</tr>\n",
       "<tr>\n",
       "  <th>distance_seller_customer</th> <td>    0.0926</td> <td>    0.008</td> <td>   11.661</td> <td> 0.000</td> <td>    0.077</td> <td>    0.108</td>\n",
       "</tr>\n",
       "<tr>\n",
       "  <th>number_of_products</th>       <td>   -0.1343</td> <td>    0.008</td> <td>  -17.727</td> <td> 0.000</td> <td>   -0.149</td> <td>   -0.119</td>\n",
       "</tr>\n",
       "<tr>\n",
       "  <th>number_of_sellers</th>        <td>   -0.1428</td> <td>    0.008</td> <td>  -18.232</td> <td> 0.000</td> <td>   -0.158</td> <td>   -0.127</td>\n",
       "</tr>\n",
       "</table>"
      ],
      "text/plain": [
       "<class 'statsmodels.iolib.summary.Summary'>\n",
       "\"\"\"\n",
       "                           Logit Regression Results                           \n",
       "==============================================================================\n",
       "Dep. Variable:       dim_is_five_star   No. Observations:                95872\n",
       "Model:                          Logit   Df Residuals:                    95865\n",
       "Method:                           MLE   Df Model:                            6\n",
       "Date:                Mon, 11 Jul 2022   Pseudo R-squ.:                 0.05754\n",
       "Time:                        22:24:32   Log-Likelihood:                -61088.\n",
       "converged:                       True   LL-Null:                       -64817.\n",
       "Covariance Type:            nonrobust   LLR p-value:                     0.000\n",
       "============================================================================================\n",
       "                               coef    std err          z      P>|z|      [0.025      0.975]\n",
       "--------------------------------------------------------------------------------------------\n",
       "Intercept                    0.3406      0.007     47.577      0.000       0.327       0.355\n",
       "wait_time                   -0.5349      0.012    -46.497      0.000      -0.557      -0.512\n",
       "delay_vs_expected           -0.4114      0.024    -17.102      0.000      -0.459      -0.364\n",
       "price                        0.0225      0.007      3.189      0.001       0.009       0.036\n",
       "distance_seller_customer     0.0926      0.008     11.661      0.000       0.077       0.108\n",
       "number_of_products          -0.1343      0.008    -17.727      0.000      -0.149      -0.119\n",
       "number_of_sellers           -0.1428      0.008    -18.232      0.000      -0.158      -0.127\n",
       "============================================================================================\n",
       "\"\"\""
      ]
     },
     "execution_count": 7,
     "metadata": {},
     "output_type": "execute_result"
    }
   ],
   "source": [
    "logit_five = smf.logit(formula='''dim_is_five_star ~ wait_time + delay_vs_expected + price + \n",
    "distance_seller_customer + number_of_products + number_of_sellers''', data=orders_scaled).fit()\n",
    "\n",
    "logit_five.summary()"
   ]
  },
  {
   "cell_type": "markdown",
   "metadata": {},
   "source": [
    "💡 the results of these two logistic regressions are analysed:\n",
    "\n",
    "- The partial coefficients are interpreted.\n",
    "- Their statistical significances with are checked `p-values`\n",
    "- Are there any differences between `logit_one` and `logit_five` in terms of coefficient importance?"
   ]
  },
  {
   "cell_type": "markdown",
   "metadata": {},
   "source": [
    "<details>\n",
    "    <summary>- <i> Details </i> -</summary>\n",
    "\n",
    "\n",
    "> _All other things being equal, the `delay factor` tends to increase the chances of getting stripped of the 5-star even more so than it affect the chances of 1-star reviews. Probably because 1-stars are really targeting bad products themselves, not bad deliveries_\n",
    "    \n",
    "❗️ However, to be totally rigorous, we have to be **more careful when comparing coefficients from two different models**, because **they might not be based on similar populations**!\n",
    "    We have 2 sub-populations here: (people who gave 1-stars; and people who gave 5-stars) and they may exhibit intrinsically different behavior patterns. It may well be that \"happy-people\" (who tends to give 5-stars easily) are less sensitive as \"grumpy-people\" (who shoot 1-stars like Lucky-Luke), when it comes to \"delay\", or \"price\"...\n",
    "\n",
    "</details>\n"
   ]
  },
  {
   "cell_type": "markdown",
   "metadata": {},
   "source": [
    "## Logistic vs. Linear"
   ]
  },
  {
   "cell_type": "markdown",
   "metadata": {},
   "source": [
    "👉 The regression coefficients obtained from the `Logistic Regression ` is compared with the regression coefficients obtained through a `Linear Regression` on `review_score`, using the same features. \n",
    "\n",
    "⚠️ Do both sets of coefficients  tell  \"the same story\"?"
   ]
  },
  {
   "cell_type": "code",
   "execution_count": 8,
   "metadata": {
    "tags": [
     "challengify"
    ]
   },
   "outputs": [
    {
     "data": {
      "text/html": [
       "<div>\n",
       "<style scoped>\n",
       "    .dataframe tbody tr th:only-of-type {\n",
       "        vertical-align: middle;\n",
       "    }\n",
       "\n",
       "    .dataframe tbody tr th {\n",
       "        vertical-align: top;\n",
       "    }\n",
       "\n",
       "    .dataframe thead th {\n",
       "        text-align: right;\n",
       "    }\n",
       "</style>\n",
       "<table border=\"1\" class=\"dataframe\">\n",
       "  <thead>\n",
       "    <tr style=\"text-align: right;\">\n",
       "      <th></th>\n",
       "      <th>review_score</th>\n",
       "      <th>wait_time</th>\n",
       "      <th>delay_vs_expected</th>\n",
       "      <th>price</th>\n",
       "      <th>distance_seller_customer</th>\n",
       "      <th>number_of_products</th>\n",
       "      <th>number_of_sellers</th>\n",
       "    </tr>\n",
       "  </thead>\n",
       "  <tbody>\n",
       "    <tr>\n",
       "      <th>0</th>\n",
       "      <td>4</td>\n",
       "      <td>-0.428002</td>\n",
       "      <td>-0.153335</td>\n",
       "      <td>-0.513802</td>\n",
       "      <td>-0.979475</td>\n",
       "      <td>-0.264595</td>\n",
       "      <td>-0.112544</td>\n",
       "    </tr>\n",
       "    <tr>\n",
       "      <th>1</th>\n",
       "      <td>4</td>\n",
       "      <td>0.100519</td>\n",
       "      <td>-0.153335</td>\n",
       "      <td>-0.086640</td>\n",
       "      <td>0.429743</td>\n",
       "      <td>-0.264595</td>\n",
       "      <td>-0.112544</td>\n",
       "    </tr>\n",
       "    <tr>\n",
       "      <th>2</th>\n",
       "      <td>5</td>\n",
       "      <td>-0.322297</td>\n",
       "      <td>-0.153335</td>\n",
       "      <td>0.111748</td>\n",
       "      <td>-0.145495</td>\n",
       "      <td>-0.264595</td>\n",
       "      <td>-0.112544</td>\n",
       "    </tr>\n",
       "    <tr>\n",
       "      <th>3</th>\n",
       "      <td>5</td>\n",
       "      <td>0.100519</td>\n",
       "      <td>-0.153335</td>\n",
       "      <td>-0.441525</td>\n",
       "      <td>2.054621</td>\n",
       "      <td>-0.264595</td>\n",
       "      <td>-0.112544</td>\n",
       "    </tr>\n",
       "    <tr>\n",
       "      <th>4</th>\n",
       "      <td>5</td>\n",
       "      <td>-1.062226</td>\n",
       "      <td>-0.153335</td>\n",
       "      <td>-0.562388</td>\n",
       "      <td>-0.959115</td>\n",
       "      <td>-0.264595</td>\n",
       "      <td>-0.112544</td>\n",
       "    </tr>\n",
       "  </tbody>\n",
       "</table>\n",
       "</div>"
      ],
      "text/plain": [
       "   review_score  wait_time  delay_vs_expected     price  \\\n",
       "0             4  -0.428002          -0.153335 -0.513802   \n",
       "1             4   0.100519          -0.153335 -0.086640   \n",
       "2             5  -0.322297          -0.153335  0.111748   \n",
       "3             5   0.100519          -0.153335 -0.441525   \n",
       "4             5  -1.062226          -0.153335 -0.562388   \n",
       "\n",
       "   distance_seller_customer  number_of_products  number_of_sellers  \n",
       "0                 -0.979475           -0.264595          -0.112544  \n",
       "1                  0.429743           -0.264595          -0.112544  \n",
       "2                 -0.145495           -0.264595          -0.112544  \n",
       "3                  2.054621           -0.264595          -0.112544  \n",
       "4                 -0.959115           -0.264595          -0.112544  "
      ]
     },
     "execution_count": 8,
     "metadata": {},
     "output_type": "execute_result"
    }
   ],
   "source": [
    "features = [\"review_score\", \"wait_time\",\"delay_vs_expected\", \"price\", \"distance_seller_customer\", \n",
    "       \"number_of_products\", \"number_of_sellers\"]\n",
    "\n",
    "orders_scaled_features = orders.copy()\n",
    "orders_scaled_features\n",
    "orders_scaled_features = orders_scaled_features[features]\n",
    "\n",
    "for feature in orders_scaled_features.columns[1:]:\n",
    "    mu = orders_scaled_features[feature].mean()\n",
    "    sigma = orders_scaled_features[feature].std()\n",
    "    orders_scaled_features[feature] = orders_scaled_features[feature].apply(lambda x: (x-mu)/sigma)\n",
    "    \n",
    "orders_scaled_features.head()"
   ]
  },
  {
   "cell_type": "code",
   "execution_count": 9,
   "metadata": {},
   "outputs": [
    {
     "data": {
      "text/html": [
       "<table class=\"simpletable\">\n",
       "<caption>OLS Regression Results</caption>\n",
       "<tr>\n",
       "  <th>Dep. Variable:</th>      <td>review_score</td>   <th>  R-squared:         </th>  <td>   0.144</td>  \n",
       "</tr>\n",
       "<tr>\n",
       "  <th>Model:</th>                   <td>OLS</td>       <th>  Adj. R-squared:    </th>  <td>   0.144</td>  \n",
       "</tr>\n",
       "<tr>\n",
       "  <th>Method:</th>             <td>Least Squares</td>  <th>  F-statistic:       </th>  <td>   2698.</td>  \n",
       "</tr>\n",
       "<tr>\n",
       "  <th>Date:</th>             <td>Mon, 11 Jul 2022</td> <th>  Prob (F-statistic):</th>   <td>  0.00</td>   \n",
       "</tr>\n",
       "<tr>\n",
       "  <th>Time:</th>                 <td>22:24:32</td>     <th>  Log-Likelihood:    </th> <td>-1.5261e+05</td>\n",
       "</tr>\n",
       "<tr>\n",
       "  <th>No. Observations:</th>      <td> 95872</td>      <th>  AIC:               </th>  <td>3.052e+05</td> \n",
       "</tr>\n",
       "<tr>\n",
       "  <th>Df Residuals:</th>          <td> 95865</td>      <th>  BIC:               </th>  <td>3.053e+05</td> \n",
       "</tr>\n",
       "<tr>\n",
       "  <th>Df Model:</th>              <td>     6</td>      <th>                     </th>      <td> </td>     \n",
       "</tr>\n",
       "<tr>\n",
       "  <th>Covariance Type:</th>      <td>nonrobust</td>    <th>                     </th>      <td> </td>     \n",
       "</tr>\n",
       "</table>\n",
       "<table class=\"simpletable\">\n",
       "<tr>\n",
       "              <td></td>                <th>coef</th>     <th>std err</th>      <th>t</th>      <th>P>|t|</th>  <th>[0.025</th>    <th>0.975]</th>  \n",
       "</tr>\n",
       "<tr>\n",
       "  <th>Intercept</th>                <td>    4.1555</td> <td>    0.004</td> <td> 1082.409</td> <td> 0.000</td> <td>    4.148</td> <td>    4.163</td>\n",
       "</tr>\n",
       "<tr>\n",
       "  <th>wait_time</th>                <td>   -0.4534</td> <td>    0.006</td> <td>  -74.213</td> <td> 0.000</td> <td>   -0.465</td> <td>   -0.441</td>\n",
       "</tr>\n",
       "<tr>\n",
       "  <th>delay_vs_expected</th>        <td>   -0.0344</td> <td>    0.006</td> <td>   -6.117</td> <td> 0.000</td> <td>   -0.045</td> <td>   -0.023</td>\n",
       "</tr>\n",
       "<tr>\n",
       "  <th>price</th>                    <td>   -0.0014</td> <td>    0.004</td> <td>   -0.368</td> <td> 0.713</td> <td>   -0.009</td> <td>    0.006</td>\n",
       "</tr>\n",
       "<tr>\n",
       "  <th>distance_seller_customer</th> <td>    0.1021</td> <td>    0.004</td> <td>   23.129</td> <td> 0.000</td> <td>    0.093</td> <td>    0.111</td>\n",
       "</tr>\n",
       "<tr>\n",
       "  <th>number_of_products</th>       <td>   -0.1280</td> <td>    0.004</td> <td>  -31.546</td> <td> 0.000</td> <td>   -0.136</td> <td>   -0.120</td>\n",
       "</tr>\n",
       "<tr>\n",
       "  <th>number_of_sellers</th>        <td>   -0.1317</td> <td>    0.004</td> <td>  -32.800</td> <td> 0.000</td> <td>   -0.140</td> <td>   -0.124</td>\n",
       "</tr>\n",
       "</table>\n",
       "<table class=\"simpletable\">\n",
       "<tr>\n",
       "  <th>Omnibus:</th>       <td>18653.258</td> <th>  Durbin-Watson:     </th> <td>   2.009</td> \n",
       "</tr>\n",
       "<tr>\n",
       "  <th>Prob(Omnibus):</th>  <td> 0.000</td>   <th>  Jarque-Bera (JB):  </th> <td>36496.248</td>\n",
       "</tr>\n",
       "<tr>\n",
       "  <th>Skew:</th>           <td>-1.186</td>   <th>  Prob(JB):          </th> <td>    0.00</td> \n",
       "</tr>\n",
       "<tr>\n",
       "  <th>Kurtosis:</th>       <td> 4.874</td>   <th>  Cond. No.          </th> <td>    2.84</td> \n",
       "</tr>\n",
       "</table><br/><br/>Notes:<br/>[1] Standard Errors assume that the covariance matrix of the errors is correctly specified."
      ],
      "text/plain": [
       "<class 'statsmodels.iolib.summary.Summary'>\n",
       "\"\"\"\n",
       "                            OLS Regression Results                            \n",
       "==============================================================================\n",
       "Dep. Variable:           review_score   R-squared:                       0.144\n",
       "Model:                            OLS   Adj. R-squared:                  0.144\n",
       "Method:                 Least Squares   F-statistic:                     2698.\n",
       "Date:                Mon, 11 Jul 2022   Prob (F-statistic):               0.00\n",
       "Time:                        22:24:32   Log-Likelihood:            -1.5261e+05\n",
       "No. Observations:               95872   AIC:                         3.052e+05\n",
       "Df Residuals:                   95865   BIC:                         3.053e+05\n",
       "Df Model:                           6                                         \n",
       "Covariance Type:            nonrobust                                         \n",
       "============================================================================================\n",
       "                               coef    std err          t      P>|t|      [0.025      0.975]\n",
       "--------------------------------------------------------------------------------------------\n",
       "Intercept                    4.1555      0.004   1082.409      0.000       4.148       4.163\n",
       "wait_time                   -0.4534      0.006    -74.213      0.000      -0.465      -0.441\n",
       "delay_vs_expected           -0.0344      0.006     -6.117      0.000      -0.045      -0.023\n",
       "price                       -0.0014      0.004     -0.368      0.713      -0.009       0.006\n",
       "distance_seller_customer     0.1021      0.004     23.129      0.000       0.093       0.111\n",
       "number_of_products          -0.1280      0.004    -31.546      0.000      -0.136      -0.120\n",
       "number_of_sellers           -0.1317      0.004    -32.800      0.000      -0.140      -0.124\n",
       "==============================================================================\n",
       "Omnibus:                    18653.258   Durbin-Watson:                   2.009\n",
       "Prob(Omnibus):                  0.000   Jarque-Bera (JB):            36496.248\n",
       "Skew:                          -1.186   Prob(JB):                         0.00\n",
       "Kurtosis:                       4.874   Cond. No.                         2.84\n",
       "==============================================================================\n",
       "\n",
       "Notes:\n",
       "[1] Standard Errors assume that the covariance matrix of the errors is correctly specified.\n",
       "\"\"\""
      ]
     },
     "execution_count": 9,
     "metadata": {},
     "output_type": "execute_result"
    }
   ],
   "source": [
    "ols_model = smf.ols(formula = '''review_score ~ wait_time + delay_vs_expected + price + \n",
    "distance_seller_customer + number_of_products + number_of_sellers''', data = orders_scaled_features)\n",
    "\n",
    "ols_model = ols_model.fit()\n",
    "\n",
    "ols_model.summary()"
   ]
  },
  {
   "cell_type": "code",
   "execution_count": null,
   "metadata": {},
   "outputs": [],
   "source": []
  }
 ],
 "metadata": {
  "kernelspec": {
   "display_name": "Python 3 (ipykernel)",
   "language": "python",
   "name": "python3"
  },
  "language_info": {
   "codemirror_mode": {
    "name": "ipython",
    "version": 3
   },
   "file_extension": ".py",
   "mimetype": "text/x-python",
   "name": "python",
   "nbconvert_exporter": "python",
   "pygments_lexer": "ipython3",
   "version": "3.8.12"
  },
  "toc": {
   "base_numbering": 1,
   "nav_menu": {},
   "number_sections": true,
   "sideBar": true,
   "skip_h1_title": false,
   "title_cell": "Table of Contents",
   "title_sidebar": "Contents",
   "toc_cell": false,
   "toc_position": {},
   "toc_section_display": true,
   "toc_window_display": false
  }
 },
 "nbformat": 4,
 "nbformat_minor": 4
}
