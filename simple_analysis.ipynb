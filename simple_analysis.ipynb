{
 "cells": [
  {
   "cell_type": "markdown",
   "metadata": {},
   "source": [
    "# Simple orders analysis"
   ]
  },
  {
   "cell_type": "markdown",
   "metadata": {},
   "source": [
    "🚀 We are finally ready to start analysing our `orders` dataset!\n",
    "\n",
    "Our objective is to get an initial understanding of:\n",
    "- `orders` properties\n",
    "- their associated `review_scores`"
   ]
  },
  {
   "cell_type": "code",
   "execution_count": 1,
   "metadata": {},
   "outputs": [],
   "source": [
    "# Import Modules \n",
    "\n",
    "import pandas as pd\n",
    "import numpy as np \n",
    "import seaborn as sns\n",
    "import matplotlib.pyplot as plt"
   ]
  },
  {
   "cell_type": "code",
   "execution_count": 2,
   "metadata": {},
   "outputs": [],
   "source": [
    "%load_ext autoreload\n",
    "%autoreload 2"
   ]
  },
  {
   "cell_type": "code",
   "execution_count": 3,
   "metadata": {},
   "outputs": [],
   "source": [
    "# Import your newly coded _order_ training set\n",
    "from olist.order import Order\n",
    "\n",
    "# Change `with_distance_seller_customer` to False..if you have not completed the optional part of challenge 1 yet\n",
    "orders = Order().get_training_data(with_distance_seller_customer=False)"
   ]
  },
  {
   "cell_type": "code",
   "execution_count": 4,
   "metadata": {},
   "outputs": [],
   "source": [
    "# Check your shape below\n",
    "\n",
    "# Shape if you set with_distance_seller_customer=True\n",
    "if orders.shape[1] == 13: \n",
    "    assert(orders.shape == (95872, 13))\n",
    "\n",
    "# Shape if you set with_distance_seller_customer=False    \n",
    "else:  \n",
    "    assert(orders.shape == (96353, 12))"
   ]
  },
  {
   "cell_type": "markdown",
   "metadata": {
    "slideshow": {
     "slide_type": "slide"
    }
   },
   "source": [
    "## 1 - Inspect features"
   ]
  },
  {
   "cell_type": "markdown",
   "metadata": {},
   "source": [
    "👉 Print summary statistics of each column of the order dataset (then focus in particular on `wait_time`)"
   ]
  },
  {
   "cell_type": "code",
   "execution_count": 5,
   "metadata": {
    "tags": [
     "challengify"
    ]
   },
   "outputs": [
    {
     "data": {
      "text/html": [
       "<div>\n",
       "<style scoped>\n",
       "    .dataframe tbody tr th:only-of-type {\n",
       "        vertical-align: middle;\n",
       "    }\n",
       "\n",
       "    .dataframe tbody tr th {\n",
       "        vertical-align: top;\n",
       "    }\n",
       "\n",
       "    .dataframe thead th {\n",
       "        text-align: right;\n",
       "    }\n",
       "</style>\n",
       "<table border=\"1\" class=\"dataframe\">\n",
       "  <thead>\n",
       "    <tr style=\"text-align: right;\">\n",
       "      <th></th>\n",
       "      <th>wait_time</th>\n",
       "      <th>expected_wait_time</th>\n",
       "      <th>delay_vs_expected</th>\n",
       "      <th>dim_is_five_star</th>\n",
       "      <th>dim_is_one_star</th>\n",
       "      <th>review_score</th>\n",
       "      <th>number_of_products</th>\n",
       "      <th>number_of_sellers</th>\n",
       "      <th>price</th>\n",
       "      <th>freight_value</th>\n",
       "    </tr>\n",
       "  </thead>\n",
       "  <tbody>\n",
       "    <tr>\n",
       "      <th>count</th>\n",
       "      <td>96353.000000</td>\n",
       "      <td>96353.000000</td>\n",
       "      <td>96353.000000</td>\n",
       "      <td>96353.000000</td>\n",
       "      <td>96353.000000</td>\n",
       "      <td>96353.000000</td>\n",
       "      <td>96353.000000</td>\n",
       "      <td>96353.000000</td>\n",
       "      <td>96353.000000</td>\n",
       "      <td>96353.000000</td>\n",
       "    </tr>\n",
       "    <tr>\n",
       "      <th>mean</th>\n",
       "      <td>12.058472</td>\n",
       "      <td>23.378317</td>\n",
       "      <td>-11.916806</td>\n",
       "      <td>0.592187</td>\n",
       "      <td>0.097610</td>\n",
       "      <td>4.155688</td>\n",
       "      <td>1.141687</td>\n",
       "      <td>1.013918</td>\n",
       "      <td>136.654623</td>\n",
       "      <td>22.757810</td>\n",
       "    </tr>\n",
       "    <tr>\n",
       "      <th>std</th>\n",
       "      <td>9.462698</td>\n",
       "      <td>8.756581</td>\n",
       "      <td>10.112261</td>\n",
       "      <td>0.491431</td>\n",
       "      <td>0.296788</td>\n",
       "      <td>1.284979</td>\n",
       "      <td>0.535362</td>\n",
       "      <td>0.123616</td>\n",
       "      <td>207.444085</td>\n",
       "      <td>21.496018</td>\n",
       "    </tr>\n",
       "    <tr>\n",
       "      <th>min</th>\n",
       "      <td>0.000000</td>\n",
       "      <td>2.000000</td>\n",
       "      <td>-147.000000</td>\n",
       "      <td>0.000000</td>\n",
       "      <td>0.000000</td>\n",
       "      <td>1.000000</td>\n",
       "      <td>1.000000</td>\n",
       "      <td>1.000000</td>\n",
       "      <td>0.850000</td>\n",
       "      <td>0.000000</td>\n",
       "    </tr>\n",
       "    <tr>\n",
       "      <th>25%</th>\n",
       "      <td>6.000000</td>\n",
       "      <td>18.000000</td>\n",
       "      <td>-17.000000</td>\n",
       "      <td>0.000000</td>\n",
       "      <td>0.000000</td>\n",
       "      <td>4.000000</td>\n",
       "      <td>1.000000</td>\n",
       "      <td>1.000000</td>\n",
       "      <td>45.900000</td>\n",
       "      <td>13.840000</td>\n",
       "    </tr>\n",
       "    <tr>\n",
       "      <th>50%</th>\n",
       "      <td>10.000000</td>\n",
       "      <td>23.000000</td>\n",
       "      <td>-12.000000</td>\n",
       "      <td>1.000000</td>\n",
       "      <td>0.000000</td>\n",
       "      <td>5.000000</td>\n",
       "      <td>1.000000</td>\n",
       "      <td>1.000000</td>\n",
       "      <td>86.000000</td>\n",
       "      <td>17.160000</td>\n",
       "    </tr>\n",
       "    <tr>\n",
       "      <th>75%</th>\n",
       "      <td>15.000000</td>\n",
       "      <td>28.000000</td>\n",
       "      <td>-7.000000</td>\n",
       "      <td>1.000000</td>\n",
       "      <td>0.000000</td>\n",
       "      <td>5.000000</td>\n",
       "      <td>1.000000</td>\n",
       "      <td>1.000000</td>\n",
       "      <td>149.900000</td>\n",
       "      <td>23.990000</td>\n",
       "    </tr>\n",
       "    <tr>\n",
       "      <th>max</th>\n",
       "      <td>208.000000</td>\n",
       "      <td>155.000000</td>\n",
       "      <td>188.000000</td>\n",
       "      <td>1.000000</td>\n",
       "      <td>1.000000</td>\n",
       "      <td>5.000000</td>\n",
       "      <td>21.000000</td>\n",
       "      <td>5.000000</td>\n",
       "      <td>13440.000000</td>\n",
       "      <td>1794.960000</td>\n",
       "    </tr>\n",
       "  </tbody>\n",
       "</table>\n",
       "</div>"
      ],
      "text/plain": [
       "          wait_time  expected_wait_time  delay_vs_expected  dim_is_five_star  \\\n",
       "count  96353.000000        96353.000000       96353.000000      96353.000000   \n",
       "mean      12.058472           23.378317         -11.916806          0.592187   \n",
       "std        9.462698            8.756581          10.112261          0.491431   \n",
       "min        0.000000            2.000000        -147.000000          0.000000   \n",
       "25%        6.000000           18.000000         -17.000000          0.000000   \n",
       "50%       10.000000           23.000000         -12.000000          1.000000   \n",
       "75%       15.000000           28.000000          -7.000000          1.000000   \n",
       "max      208.000000          155.000000         188.000000          1.000000   \n",
       "\n",
       "       dim_is_one_star  review_score  number_of_products  number_of_sellers  \\\n",
       "count     96353.000000  96353.000000        96353.000000       96353.000000   \n",
       "mean          0.097610      4.155688            1.141687           1.013918   \n",
       "std           0.296788      1.284979            0.535362           0.123616   \n",
       "min           0.000000      1.000000            1.000000           1.000000   \n",
       "25%           0.000000      4.000000            1.000000           1.000000   \n",
       "50%           0.000000      5.000000            1.000000           1.000000   \n",
       "75%           0.000000      5.000000            1.000000           1.000000   \n",
       "max           1.000000      5.000000           21.000000           5.000000   \n",
       "\n",
       "              price  freight_value  \n",
       "count  96353.000000   96353.000000  \n",
       "mean     136.654623      22.757810  \n",
       "std      207.444085      21.496018  \n",
       "min        0.850000       0.000000  \n",
       "25%       45.900000      13.840000  \n",
       "50%       86.000000      17.160000  \n",
       "75%      149.900000      23.990000  \n",
       "max    13440.000000    1794.960000  "
      ]
     },
     "execution_count": 5,
     "metadata": {},
     "output_type": "execute_result"
    }
   ],
   "source": [
    "orders.describe()"
   ]
  },
  {
   "cell_type": "code",
   "execution_count": 6,
   "metadata": {},
   "outputs": [
    {
     "data": {
      "text/html": [
       "<div>\n",
       "<style scoped>\n",
       "    .dataframe tbody tr th:only-of-type {\n",
       "        vertical-align: middle;\n",
       "    }\n",
       "\n",
       "    .dataframe tbody tr th {\n",
       "        vertical-align: top;\n",
       "    }\n",
       "\n",
       "    .dataframe thead th {\n",
       "        text-align: right;\n",
       "    }\n",
       "</style>\n",
       "<table border=\"1\" class=\"dataframe\">\n",
       "  <thead>\n",
       "    <tr style=\"text-align: right;\">\n",
       "      <th></th>\n",
       "      <th>wait_time</th>\n",
       "    </tr>\n",
       "  </thead>\n",
       "  <tbody>\n",
       "    <tr>\n",
       "      <th>count</th>\n",
       "      <td>96353.000000</td>\n",
       "    </tr>\n",
       "    <tr>\n",
       "      <th>mean</th>\n",
       "      <td>12.058472</td>\n",
       "    </tr>\n",
       "    <tr>\n",
       "      <th>std</th>\n",
       "      <td>9.462698</td>\n",
       "    </tr>\n",
       "    <tr>\n",
       "      <th>min</th>\n",
       "      <td>0.000000</td>\n",
       "    </tr>\n",
       "    <tr>\n",
       "      <th>25%</th>\n",
       "      <td>6.000000</td>\n",
       "    </tr>\n",
       "    <tr>\n",
       "      <th>50%</th>\n",
       "      <td>10.000000</td>\n",
       "    </tr>\n",
       "    <tr>\n",
       "      <th>75%</th>\n",
       "      <td>15.000000</td>\n",
       "    </tr>\n",
       "    <tr>\n",
       "      <th>max</th>\n",
       "      <td>208.000000</td>\n",
       "    </tr>\n",
       "  </tbody>\n",
       "</table>\n",
       "</div>"
      ],
      "text/plain": [
       "          wait_time\n",
       "count  96353.000000\n",
       "mean      12.058472\n",
       "std        9.462698\n",
       "min        0.000000\n",
       "25%        6.000000\n",
       "50%       10.000000\n",
       "75%       15.000000\n",
       "max      208.000000"
      ]
     },
     "execution_count": 6,
     "metadata": {},
     "output_type": "execute_result"
    }
   ],
   "source": [
    "orders[[\"wait_time\"]].describe()"
   ]
  },
  {
   "cell_type": "code",
   "execution_count": 7,
   "metadata": {},
   "outputs": [
    {
     "data": {
      "text/html": [
       "<div>\n",
       "<style scoped>\n",
       "    .dataframe tbody tr th:only-of-type {\n",
       "        vertical-align: middle;\n",
       "    }\n",
       "\n",
       "    .dataframe tbody tr th {\n",
       "        vertical-align: top;\n",
       "    }\n",
       "\n",
       "    .dataframe thead th {\n",
       "        text-align: right;\n",
       "    }\n",
       "</style>\n",
       "<table border=\"1\" class=\"dataframe\">\n",
       "  <thead>\n",
       "    <tr style=\"text-align: right;\">\n",
       "      <th></th>\n",
       "      <th>order_id</th>\n",
       "      <th>wait_time</th>\n",
       "      <th>expected_wait_time</th>\n",
       "      <th>delay_vs_expected</th>\n",
       "      <th>order_status</th>\n",
       "      <th>dim_is_five_star</th>\n",
       "      <th>dim_is_one_star</th>\n",
       "      <th>review_score</th>\n",
       "      <th>number_of_products</th>\n",
       "      <th>number_of_sellers</th>\n",
       "      <th>price</th>\n",
       "      <th>freight_value</th>\n",
       "    </tr>\n",
       "  </thead>\n",
       "  <tbody>\n",
       "    <tr>\n",
       "      <th>0</th>\n",
       "      <td>e481f51cbdc54678b7cc49136f2d6af7</td>\n",
       "      <td>8.0</td>\n",
       "      <td>15.0</td>\n",
       "      <td>-8.0</td>\n",
       "      <td>delivered</td>\n",
       "      <td>0</td>\n",
       "      <td>0</td>\n",
       "      <td>4</td>\n",
       "      <td>1</td>\n",
       "      <td>1</td>\n",
       "      <td>29.99</td>\n",
       "      <td>8.72</td>\n",
       "    </tr>\n",
       "    <tr>\n",
       "      <th>1</th>\n",
       "      <td>53cdb2fc8bc7dce0b6741e2150273451</td>\n",
       "      <td>13.0</td>\n",
       "      <td>19.0</td>\n",
       "      <td>-6.0</td>\n",
       "      <td>delivered</td>\n",
       "      <td>0</td>\n",
       "      <td>0</td>\n",
       "      <td>4</td>\n",
       "      <td>1</td>\n",
       "      <td>1</td>\n",
       "      <td>118.70</td>\n",
       "      <td>22.76</td>\n",
       "    </tr>\n",
       "    <tr>\n",
       "      <th>2</th>\n",
       "      <td>47770eb9100c2d0c44946d9cf07ec65d</td>\n",
       "      <td>9.0</td>\n",
       "      <td>26.0</td>\n",
       "      <td>-18.0</td>\n",
       "      <td>delivered</td>\n",
       "      <td>1</td>\n",
       "      <td>0</td>\n",
       "      <td>5</td>\n",
       "      <td>1</td>\n",
       "      <td>1</td>\n",
       "      <td>159.90</td>\n",
       "      <td>19.22</td>\n",
       "    </tr>\n",
       "    <tr>\n",
       "      <th>3</th>\n",
       "      <td>949d5b44dbf5de918fe9c16f97b45f8a</td>\n",
       "      <td>13.0</td>\n",
       "      <td>26.0</td>\n",
       "      <td>-13.0</td>\n",
       "      <td>delivered</td>\n",
       "      <td>1</td>\n",
       "      <td>0</td>\n",
       "      <td>5</td>\n",
       "      <td>1</td>\n",
       "      <td>1</td>\n",
       "      <td>45.00</td>\n",
       "      <td>27.20</td>\n",
       "    </tr>\n",
       "    <tr>\n",
       "      <th>4</th>\n",
       "      <td>ad21c59c0840e6cb83a9ceb5573f8159</td>\n",
       "      <td>2.0</td>\n",
       "      <td>12.0</td>\n",
       "      <td>-10.0</td>\n",
       "      <td>delivered</td>\n",
       "      <td>1</td>\n",
       "      <td>0</td>\n",
       "      <td>5</td>\n",
       "      <td>1</td>\n",
       "      <td>1</td>\n",
       "      <td>19.90</td>\n",
       "      <td>8.72</td>\n",
       "    </tr>\n",
       "    <tr>\n",
       "      <th>...</th>\n",
       "      <td>...</td>\n",
       "      <td>...</td>\n",
       "      <td>...</td>\n",
       "      <td>...</td>\n",
       "      <td>...</td>\n",
       "      <td>...</td>\n",
       "      <td>...</td>\n",
       "      <td>...</td>\n",
       "      <td>...</td>\n",
       "      <td>...</td>\n",
       "      <td>...</td>\n",
       "      <td>...</td>\n",
       "    </tr>\n",
       "    <tr>\n",
       "      <th>96356</th>\n",
       "      <td>9c5dedf39a927c1b2549525ed64a053c</td>\n",
       "      <td>8.0</td>\n",
       "      <td>18.0</td>\n",
       "      <td>-11.0</td>\n",
       "      <td>delivered</td>\n",
       "      <td>1</td>\n",
       "      <td>0</td>\n",
       "      <td>5</td>\n",
       "      <td>1</td>\n",
       "      <td>1</td>\n",
       "      <td>72.00</td>\n",
       "      <td>13.08</td>\n",
       "    </tr>\n",
       "    <tr>\n",
       "      <th>96357</th>\n",
       "      <td>63943bddc261676b46f01ca7ac2f7bd8</td>\n",
       "      <td>22.0</td>\n",
       "      <td>23.0</td>\n",
       "      <td>-2.0</td>\n",
       "      <td>delivered</td>\n",
       "      <td>0</td>\n",
       "      <td>0</td>\n",
       "      <td>4</td>\n",
       "      <td>1</td>\n",
       "      <td>1</td>\n",
       "      <td>174.90</td>\n",
       "      <td>20.10</td>\n",
       "    </tr>\n",
       "    <tr>\n",
       "      <th>96358</th>\n",
       "      <td>83c1379a015df1e13d02aae0204711ab</td>\n",
       "      <td>24.0</td>\n",
       "      <td>30.0</td>\n",
       "      <td>-6.0</td>\n",
       "      <td>delivered</td>\n",
       "      <td>1</td>\n",
       "      <td>0</td>\n",
       "      <td>5</td>\n",
       "      <td>1</td>\n",
       "      <td>1</td>\n",
       "      <td>205.99</td>\n",
       "      <td>65.02</td>\n",
       "    </tr>\n",
       "    <tr>\n",
       "      <th>96359</th>\n",
       "      <td>11c177c8e97725db2631073c19f07b62</td>\n",
       "      <td>17.0</td>\n",
       "      <td>37.0</td>\n",
       "      <td>-21.0</td>\n",
       "      <td>delivered</td>\n",
       "      <td>0</td>\n",
       "      <td>0</td>\n",
       "      <td>2</td>\n",
       "      <td>2</td>\n",
       "      <td>1</td>\n",
       "      <td>359.98</td>\n",
       "      <td>81.18</td>\n",
       "    </tr>\n",
       "    <tr>\n",
       "      <th>96360</th>\n",
       "      <td>66dea50a8b16d9b4dee7af250b4be1a5</td>\n",
       "      <td>7.0</td>\n",
       "      <td>25.0</td>\n",
       "      <td>-18.0</td>\n",
       "      <td>delivered</td>\n",
       "      <td>1</td>\n",
       "      <td>0</td>\n",
       "      <td>5</td>\n",
       "      <td>1</td>\n",
       "      <td>1</td>\n",
       "      <td>68.50</td>\n",
       "      <td>18.36</td>\n",
       "    </tr>\n",
       "  </tbody>\n",
       "</table>\n",
       "<p>96353 rows × 12 columns</p>\n",
       "</div>"
      ],
      "text/plain": [
       "                               order_id  wait_time  expected_wait_time  \\\n",
       "0      e481f51cbdc54678b7cc49136f2d6af7        8.0                15.0   \n",
       "1      53cdb2fc8bc7dce0b6741e2150273451       13.0                19.0   \n",
       "2      47770eb9100c2d0c44946d9cf07ec65d        9.0                26.0   \n",
       "3      949d5b44dbf5de918fe9c16f97b45f8a       13.0                26.0   \n",
       "4      ad21c59c0840e6cb83a9ceb5573f8159        2.0                12.0   \n",
       "...                                 ...        ...                 ...   \n",
       "96356  9c5dedf39a927c1b2549525ed64a053c        8.0                18.0   \n",
       "96357  63943bddc261676b46f01ca7ac2f7bd8       22.0                23.0   \n",
       "96358  83c1379a015df1e13d02aae0204711ab       24.0                30.0   \n",
       "96359  11c177c8e97725db2631073c19f07b62       17.0                37.0   \n",
       "96360  66dea50a8b16d9b4dee7af250b4be1a5        7.0                25.0   \n",
       "\n",
       "       delay_vs_expected order_status  dim_is_five_star  dim_is_one_star  \\\n",
       "0                   -8.0    delivered                 0                0   \n",
       "1                   -6.0    delivered                 0                0   \n",
       "2                  -18.0    delivered                 1                0   \n",
       "3                  -13.0    delivered                 1                0   \n",
       "4                  -10.0    delivered                 1                0   \n",
       "...                  ...          ...               ...              ...   \n",
       "96356              -11.0    delivered                 1                0   \n",
       "96357               -2.0    delivered                 0                0   \n",
       "96358               -6.0    delivered                 1                0   \n",
       "96359              -21.0    delivered                 0                0   \n",
       "96360              -18.0    delivered                 1                0   \n",
       "\n",
       "       review_score  number_of_products  number_of_sellers   price  \\\n",
       "0                 4                   1                  1   29.99   \n",
       "1                 4                   1                  1  118.70   \n",
       "2                 5                   1                  1  159.90   \n",
       "3                 5                   1                  1   45.00   \n",
       "4                 5                   1                  1   19.90   \n",
       "...             ...                 ...                ...     ...   \n",
       "96356             5                   1                  1   72.00   \n",
       "96357             4                   1                  1  174.90   \n",
       "96358             5                   1                  1  205.99   \n",
       "96359             2                   2                  1  359.98   \n",
       "96360             5                   1                  1   68.50   \n",
       "\n",
       "       freight_value  \n",
       "0               8.72  \n",
       "1              22.76  \n",
       "2              19.22  \n",
       "3              27.20  \n",
       "4               8.72  \n",
       "...              ...  \n",
       "96356          13.08  \n",
       "96357          20.10  \n",
       "96358          65.02  \n",
       "96359          81.18  \n",
       "96360          18.36  \n",
       "\n",
       "[96353 rows x 12 columns]"
      ]
     },
     "execution_count": 7,
     "metadata": {},
     "output_type": "execute_result"
    }
   ],
   "source": [
    "orders"
   ]
  },
  {
   "cell_type": "markdown",
   "metadata": {},
   "source": [
    "📈 Plot histograms to get a sense of the distribution of each numerical feature."
   ]
  },
  {
   "cell_type": "code",
   "execution_count": 11,
   "metadata": {
    "tags": [
     "challengify"
    ]
   },
   "outputs": [
    {
     "data": {
      "image/png": "[encoded data removed]",
      "text/plain": [
       "<Figure size 1080x1080 with 8 Axes>"
      ]
     },
     "metadata": {
      "needs_background": "light"
     },
     "output_type": "display_data"
    }
   ],
   "source": [
    "plt.figure(figsize = (15, 15))\n",
    "plt.subplot(3,3,1)\n",
    "a = sns.histplot(orders[\"dim_is_five_star\"], bins = 2)\n",
    "plt.subplot(3,3,2)\n",
    "b = sns.histplot(orders[\"dim_is_one_star\"], bins = 2)\n",
    "plt.subplot(3,3,3)\n",
    "c = sns.histplot(orders[\"review_score\"], bins = 5)\n",
    "plt.subplot(3,3,4)\n",
    "d = sns.histplot(orders[\"number_of_products\"])\n",
    "# d.set_yscale(\"log\")\n",
    "plt.subplot(3,3,5)\n",
    "e = sns.histplot(orders[\"number_of_sellers\"], bins = 5)\n",
    "# e.set_yscale(\"log\")\n",
    "plt.subplot(3,3,6)\n",
    "f = sns.histplot(orders[\"price\"])\n",
    "# f.set_xscale(\"log\")\n",
    "plt.subplot(3,3,7)\n",
    "g = sns.histplot(orders[\"freight_value\"])\n",
    "# g.set_xscale(\"log\")\n",
    "plt.subplot(3,3,8)\n",
    "h = sns.histplot(orders[\"wait_time\"])\n",
    "# g.set_xscale(\"log\")"
   ]
  },
  {
   "cell_type": "code",
   "execution_count": 12,
   "metadata": {},
   "outputs": [
    {
     "data": {
      "text/plain": [
       "1794.96"
      ]
     },
     "execution_count": 12,
     "metadata": {},
     "output_type": "execute_result"
    }
   ],
   "source": [
    "orders[\"freight_value\"].max()"
   ]
  },
  {
   "cell_type": "markdown",
   "metadata": {},
   "source": [
    "👀 In particular, create a `sns.FacetGrid()` of histograms for each `review_score` vs. `wait_time`"
   ]
  },
  {
   "cell_type": "code",
   "execution_count": 13,
   "metadata": {
    "tags": [
     "challengify"
    ]
   },
   "outputs": [
    {
     "data": {
      "text/plain": [
       "<seaborn.axisgrid.FacetGrid at 0x7f08ace99670>"
      ]
     },
     "execution_count": 13,
     "metadata": {},
     "output_type": "execute_result"
    },
    {
     "data": {
      "image/png": "[encoded data removed]",
      "text/plain": [
       "<Figure size 1080x216 with 5 Axes>"
      ]
     },
     "metadata": {
      "needs_background": "light"
     },
     "output_type": "display_data"
    }
   ],
   "source": [
    "g = sns.FacetGrid(orders, col=\"review_score\")\n",
    "g.map_dataframe(sns.histplot, x=\"wait_time\")"
   ]
  },
  {
   "cell_type": "markdown",
   "metadata": {},
   "source": [
    "❓ What do you notice for the variables `price` and `freight_value` ? \n",
    "\n",
    "❓ Have a look at the  `distance_seller_customer` feature if you have created it in `order.py`"
   ]
  },
  {
   "cell_type": "code",
   "execution_count": 14,
   "metadata": {
    "tags": [
     "challengify"
    ]
   },
   "outputs": [
    {
     "data": {
      "text/plain": [
       "<AxesSubplot:xlabel='price', ylabel='freight_value'>"
      ]
     },
     "execution_count": 14,
     "metadata": {},
     "output_type": "execute_result"
    },
    {
     "data": {
      "image/png": "[encoded data removed]",
      "text/plain": [
       "<Figure size 432x288 with 1 Axes>"
      ]
     },
     "metadata": {
      "needs_background": "light"
     },
     "output_type": "display_data"
    }
   ],
   "source": [
    "sns.regplot(x = \"price\", y = \"freight_value\", data = orders)"
   ]
  },
  {
   "cell_type": "markdown",
   "metadata": {},
   "source": [
    "❓Inspect the various correlations between features: which feature seems to the most correlated with `review_score`?\n",
    "\n",
    "<details>\n",
    "    <summary>▸ Hint</summary>\n",
    "\n",
    "* Use `DataFrame.corr()` combined with `sns.heatmap()` and `cmap='coolwarm'`\n",
    "* Have a look at the absolute values of the correlation coefficients of `review_score` vs. each feature,\n",
    "    * the higher the coefficient, the more one given feature is correlated (positively or negatively) with the `review_score`\n",
    "\n",
    "</details>"
   ]
  },
  {
   "cell_type": "code",
   "execution_count": 15,
   "metadata": {},
   "outputs": [
    {
     "data": {
      "text/html": [
       "<div>\n",
       "<style scoped>\n",
       "    .dataframe tbody tr th:only-of-type {\n",
       "        vertical-align: middle;\n",
       "    }\n",
       "\n",
       "    .dataframe tbody tr th {\n",
       "        vertical-align: top;\n",
       "    }\n",
       "\n",
       "    .dataframe thead th {\n",
       "        text-align: right;\n",
       "    }\n",
       "</style>\n",
       "<table border=\"1\" class=\"dataframe\">\n",
       "  <thead>\n",
       "    <tr style=\"text-align: right;\">\n",
       "      <th></th>\n",
       "      <th>order_id</th>\n",
       "      <th>wait_time</th>\n",
       "      <th>expected_wait_time</th>\n",
       "      <th>delay_vs_expected</th>\n",
       "      <th>order_status</th>\n",
       "      <th>dim_is_five_star</th>\n",
       "      <th>dim_is_one_star</th>\n",
       "      <th>review_score</th>\n",
       "      <th>number_of_products</th>\n",
       "      <th>number_of_sellers</th>\n",
       "      <th>price</th>\n",
       "      <th>freight_value</th>\n",
       "    </tr>\n",
       "  </thead>\n",
       "  <tbody>\n",
       "    <tr>\n",
       "      <th>0</th>\n",
       "      <td>e481f51cbdc54678b7cc49136f2d6af7</td>\n",
       "      <td>8.0</td>\n",
       "      <td>15.0</td>\n",
       "      <td>-8.0</td>\n",
       "      <td>delivered</td>\n",
       "      <td>0</td>\n",
       "      <td>0</td>\n",
       "      <td>4</td>\n",
       "      <td>1</td>\n",
       "      <td>1</td>\n",
       "      <td>29.99</td>\n",
       "      <td>8.72</td>\n",
       "    </tr>\n",
       "    <tr>\n",
       "      <th>1</th>\n",
       "      <td>53cdb2fc8bc7dce0b6741e2150273451</td>\n",
       "      <td>13.0</td>\n",
       "      <td>19.0</td>\n",
       "      <td>-6.0</td>\n",
       "      <td>delivered</td>\n",
       "      <td>0</td>\n",
       "      <td>0</td>\n",
       "      <td>4</td>\n",
       "      <td>1</td>\n",
       "      <td>1</td>\n",
       "      <td>118.70</td>\n",
       "      <td>22.76</td>\n",
       "    </tr>\n",
       "    <tr>\n",
       "      <th>2</th>\n",
       "      <td>47770eb9100c2d0c44946d9cf07ec65d</td>\n",
       "      <td>9.0</td>\n",
       "      <td>26.0</td>\n",
       "      <td>-18.0</td>\n",
       "      <td>delivered</td>\n",
       "      <td>1</td>\n",
       "      <td>0</td>\n",
       "      <td>5</td>\n",
       "      <td>1</td>\n",
       "      <td>1</td>\n",
       "      <td>159.90</td>\n",
       "      <td>19.22</td>\n",
       "    </tr>\n",
       "    <tr>\n",
       "      <th>3</th>\n",
       "      <td>949d5b44dbf5de918fe9c16f97b45f8a</td>\n",
       "      <td>13.0</td>\n",
       "      <td>26.0</td>\n",
       "      <td>-13.0</td>\n",
       "      <td>delivered</td>\n",
       "      <td>1</td>\n",
       "      <td>0</td>\n",
       "      <td>5</td>\n",
       "      <td>1</td>\n",
       "      <td>1</td>\n",
       "      <td>45.00</td>\n",
       "      <td>27.20</td>\n",
       "    </tr>\n",
       "    <tr>\n",
       "      <th>4</th>\n",
       "      <td>ad21c59c0840e6cb83a9ceb5573f8159</td>\n",
       "      <td>2.0</td>\n",
       "      <td>12.0</td>\n",
       "      <td>-10.0</td>\n",
       "      <td>delivered</td>\n",
       "      <td>1</td>\n",
       "      <td>0</td>\n",
       "      <td>5</td>\n",
       "      <td>1</td>\n",
       "      <td>1</td>\n",
       "      <td>19.90</td>\n",
       "      <td>8.72</td>\n",
       "    </tr>\n",
       "    <tr>\n",
       "      <th>...</th>\n",
       "      <td>...</td>\n",
       "      <td>...</td>\n",
       "      <td>...</td>\n",
       "      <td>...</td>\n",
       "      <td>...</td>\n",
       "      <td>...</td>\n",
       "      <td>...</td>\n",
       "      <td>...</td>\n",
       "      <td>...</td>\n",
       "      <td>...</td>\n",
       "      <td>...</td>\n",
       "      <td>...</td>\n",
       "    </tr>\n",
       "    <tr>\n",
       "      <th>96356</th>\n",
       "      <td>9c5dedf39a927c1b2549525ed64a053c</td>\n",
       "      <td>8.0</td>\n",
       "      <td>18.0</td>\n",
       "      <td>-11.0</td>\n",
       "      <td>delivered</td>\n",
       "      <td>1</td>\n",
       "      <td>0</td>\n",
       "      <td>5</td>\n",
       "      <td>1</td>\n",
       "      <td>1</td>\n",
       "      <td>72.00</td>\n",
       "      <td>13.08</td>\n",
       "    </tr>\n",
       "    <tr>\n",
       "      <th>96357</th>\n",
       "      <td>63943bddc261676b46f01ca7ac2f7bd8</td>\n",
       "      <td>22.0</td>\n",
       "      <td>23.0</td>\n",
       "      <td>-2.0</td>\n",
       "      <td>delivered</td>\n",
       "      <td>0</td>\n",
       "      <td>0</td>\n",
       "      <td>4</td>\n",
       "      <td>1</td>\n",
       "      <td>1</td>\n",
       "      <td>174.90</td>\n",
       "      <td>20.10</td>\n",
       "    </tr>\n",
       "    <tr>\n",
       "      <th>96358</th>\n",
       "      <td>83c1379a015df1e13d02aae0204711ab</td>\n",
       "      <td>24.0</td>\n",
       "      <td>30.0</td>\n",
       "      <td>-6.0</td>\n",
       "      <td>delivered</td>\n",
       "      <td>1</td>\n",
       "      <td>0</td>\n",
       "      <td>5</td>\n",
       "      <td>1</td>\n",
       "      <td>1</td>\n",
       "      <td>205.99</td>\n",
       "      <td>65.02</td>\n",
       "    </tr>\n",
       "    <tr>\n",
       "      <th>96359</th>\n",
       "      <td>11c177c8e97725db2631073c19f07b62</td>\n",
       "      <td>17.0</td>\n",
       "      <td>37.0</td>\n",
       "      <td>-21.0</td>\n",
       "      <td>delivered</td>\n",
       "      <td>0</td>\n",
       "      <td>0</td>\n",
       "      <td>2</td>\n",
       "      <td>2</td>\n",
       "      <td>1</td>\n",
       "      <td>359.98</td>\n",
       "      <td>81.18</td>\n",
       "    </tr>\n",
       "    <tr>\n",
       "      <th>96360</th>\n",
       "      <td>66dea50a8b16d9b4dee7af250b4be1a5</td>\n",
       "      <td>7.0</td>\n",
       "      <td>25.0</td>\n",
       "      <td>-18.0</td>\n",
       "      <td>delivered</td>\n",
       "      <td>1</td>\n",
       "      <td>0</td>\n",
       "      <td>5</td>\n",
       "      <td>1</td>\n",
       "      <td>1</td>\n",
       "      <td>68.50</td>\n",
       "      <td>18.36</td>\n",
       "    </tr>\n",
       "  </tbody>\n",
       "</table>\n",
       "<p>96353 rows × 12 columns</p>\n",
       "</div>"
      ],
      "text/plain": [
       "                               order_id  wait_time  expected_wait_time  \\\n",
       "0      e481f51cbdc54678b7cc49136f2d6af7        8.0                15.0   \n",
       "1      53cdb2fc8bc7dce0b6741e2150273451       13.0                19.0   \n",
       "2      47770eb9100c2d0c44946d9cf07ec65d        9.0                26.0   \n",
       "3      949d5b44dbf5de918fe9c16f97b45f8a       13.0                26.0   \n",
       "4      ad21c59c0840e6cb83a9ceb5573f8159        2.0                12.0   \n",
       "...                                 ...        ...                 ...   \n",
       "96356  9c5dedf39a927c1b2549525ed64a053c        8.0                18.0   \n",
       "96357  63943bddc261676b46f01ca7ac2f7bd8       22.0                23.0   \n",
       "96358  83c1379a015df1e13d02aae0204711ab       24.0                30.0   \n",
       "96359  11c177c8e97725db2631073c19f07b62       17.0                37.0   \n",
       "96360  66dea50a8b16d9b4dee7af250b4be1a5        7.0                25.0   \n",
       "\n",
       "       delay_vs_expected order_status  dim_is_five_star  dim_is_one_star  \\\n",
       "0                   -8.0    delivered                 0                0   \n",
       "1                   -6.0    delivered                 0                0   \n",
       "2                  -18.0    delivered                 1                0   \n",
       "3                  -13.0    delivered                 1                0   \n",
       "4                  -10.0    delivered                 1                0   \n",
       "...                  ...          ...               ...              ...   \n",
       "96356              -11.0    delivered                 1                0   \n",
       "96357               -2.0    delivered                 0                0   \n",
       "96358               -6.0    delivered                 1                0   \n",
       "96359              -21.0    delivered                 0                0   \n",
       "96360              -18.0    delivered                 1                0   \n",
       "\n",
       "       review_score  number_of_products  number_of_sellers   price  \\\n",
       "0                 4                   1                  1   29.99   \n",
       "1                 4                   1                  1  118.70   \n",
       "2                 5                   1                  1  159.90   \n",
       "3                 5                   1                  1   45.00   \n",
       "4                 5                   1                  1   19.90   \n",
       "...             ...                 ...                ...     ...   \n",
       "96356             5                   1                  1   72.00   \n",
       "96357             4                   1                  1  174.90   \n",
       "96358             5                   1                  1  205.99   \n",
       "96359             2                   2                  1  359.98   \n",
       "96360             5                   1                  1   68.50   \n",
       "\n",
       "       freight_value  \n",
       "0               8.72  \n",
       "1              22.76  \n",
       "2              19.22  \n",
       "3              27.20  \n",
       "4               8.72  \n",
       "...              ...  \n",
       "96356          13.08  \n",
       "96357          20.10  \n",
       "96358          65.02  \n",
       "96359          81.18  \n",
       "96360          18.36  \n",
       "\n",
       "[96353 rows x 12 columns]"
      ]
     },
     "execution_count": 15,
     "metadata": {},
     "output_type": "execute_result"
    }
   ],
   "source": [
    "orders"
   ]
  },
  {
   "cell_type": "code",
   "execution_count": 16,
   "metadata": {
    "tags": [
     "challengify"
    ]
   },
   "outputs": [
    {
     "data": {
      "text/html": [
       "<div>\n",
       "<style scoped>\n",
       "    .dataframe tbody tr th:only-of-type {\n",
       "        vertical-align: middle;\n",
       "    }\n",
       "\n",
       "    .dataframe tbody tr th {\n",
       "        vertical-align: top;\n",
       "    }\n",
       "\n",
       "    .dataframe thead th {\n",
       "        text-align: right;\n",
       "    }\n",
       "</style>\n",
       "<table border=\"1\" class=\"dataframe\">\n",
       "  <thead>\n",
       "    <tr style=\"text-align: right;\">\n",
       "      <th></th>\n",
       "      <th>wait_time</th>\n",
       "      <th>expected_wait_time</th>\n",
       "      <th>delay_vs_expected</th>\n",
       "      <th>dim_is_five_star</th>\n",
       "      <th>dim_is_one_star</th>\n",
       "      <th>review_score</th>\n",
       "      <th>number_of_products</th>\n",
       "      <th>number_of_sellers</th>\n",
       "      <th>price</th>\n",
       "      <th>freight_value</th>\n",
       "    </tr>\n",
       "  </thead>\n",
       "  <tbody>\n",
       "    <tr>\n",
       "      <th>wait_time</th>\n",
       "      <td>1.000000</td>\n",
       "      <td>0.384691</td>\n",
       "      <td>0.601746</td>\n",
       "      <td>-0.233594</td>\n",
       "      <td>0.305562</td>\n",
       "      <td>-0.333616</td>\n",
       "      <td>-0.019932</td>\n",
       "      <td>-0.040906</td>\n",
       "      <td>0.055057</td>\n",
       "      <td>0.167160</td>\n",
       "    </tr>\n",
       "    <tr>\n",
       "      <th>expected_wait_time</th>\n",
       "      <td>0.384691</td>\n",
       "      <td>1.000000</td>\n",
       "      <td>-0.504380</td>\n",
       "      <td>-0.050270</td>\n",
       "      <td>0.034616</td>\n",
       "      <td>-0.052304</td>\n",
       "      <td>0.015701</td>\n",
       "      <td>0.024935</td>\n",
       "      <td>0.076872</td>\n",
       "      <td>0.239141</td>\n",
       "    </tr>\n",
       "    <tr>\n",
       "      <th>delay_vs_expected</th>\n",
       "      <td>0.601746</td>\n",
       "      <td>-0.504380</td>\n",
       "      <td>1.000000</td>\n",
       "      <td>-0.175269</td>\n",
       "      <td>0.255923</td>\n",
       "      <td>-0.267027</td>\n",
       "      <td>-0.032218</td>\n",
       "      <td>-0.059850</td>\n",
       "      <td>-0.014651</td>\n",
       "      <td>-0.050456</td>\n",
       "    </tr>\n",
       "    <tr>\n",
       "      <th>dim_is_five_star</th>\n",
       "      <td>-0.233594</td>\n",
       "      <td>-0.050270</td>\n",
       "      <td>-0.175269</td>\n",
       "      <td>1.000000</td>\n",
       "      <td>-0.396322</td>\n",
       "      <td>0.791787</td>\n",
       "      <td>-0.072527</td>\n",
       "      <td>-0.070409</td>\n",
       "      <td>-0.012929</td>\n",
       "      <td>-0.058843</td>\n",
       "    </tr>\n",
       "    <tr>\n",
       "      <th>dim_is_one_star</th>\n",
       "      <td>0.305562</td>\n",
       "      <td>0.034616</td>\n",
       "      <td>0.255923</td>\n",
       "      <td>-0.396322</td>\n",
       "      <td>1.000000</td>\n",
       "      <td>-0.807700</td>\n",
       "      <td>0.119955</td>\n",
       "      <td>0.102436</td>\n",
       "      <td>0.044792</td>\n",
       "      <td>0.082611</td>\n",
       "    </tr>\n",
       "    <tr>\n",
       "      <th>review_score</th>\n",
       "      <td>-0.333616</td>\n",
       "      <td>-0.052304</td>\n",
       "      <td>-0.267027</td>\n",
       "      <td>0.791787</td>\n",
       "      <td>-0.807700</td>\n",
       "      <td>1.000000</td>\n",
       "      <td>-0.123492</td>\n",
       "      <td>-0.116942</td>\n",
       "      <td>-0.034742</td>\n",
       "      <td>-0.090013</td>\n",
       "    </tr>\n",
       "    <tr>\n",
       "      <th>number_of_products</th>\n",
       "      <td>-0.019932</td>\n",
       "      <td>0.015701</td>\n",
       "      <td>-0.032218</td>\n",
       "      <td>-0.072527</td>\n",
       "      <td>0.119955</td>\n",
       "      <td>-0.123492</td>\n",
       "      <td>1.000000</td>\n",
       "      <td>0.288560</td>\n",
       "      <td>0.153561</td>\n",
       "      <td>0.438307</td>\n",
       "    </tr>\n",
       "    <tr>\n",
       "      <th>number_of_sellers</th>\n",
       "      <td>-0.040906</td>\n",
       "      <td>0.024935</td>\n",
       "      <td>-0.059850</td>\n",
       "      <td>-0.070409</td>\n",
       "      <td>0.102436</td>\n",
       "      <td>-0.116942</td>\n",
       "      <td>0.288560</td>\n",
       "      <td>1.000000</td>\n",
       "      <td>0.043845</td>\n",
       "      <td>0.133658</td>\n",
       "    </tr>\n",
       "    <tr>\n",
       "      <th>price</th>\n",
       "      <td>0.055057</td>\n",
       "      <td>0.076872</td>\n",
       "      <td>-0.014651</td>\n",
       "      <td>-0.012929</td>\n",
       "      <td>0.044792</td>\n",
       "      <td>-0.034742</td>\n",
       "      <td>0.153561</td>\n",
       "      <td>0.043845</td>\n",
       "      <td>1.000000</td>\n",
       "      <td>0.410038</td>\n",
       "    </tr>\n",
       "    <tr>\n",
       "      <th>freight_value</th>\n",
       "      <td>0.167160</td>\n",
       "      <td>0.239141</td>\n",
       "      <td>-0.050456</td>\n",
       "      <td>-0.058843</td>\n",
       "      <td>0.082611</td>\n",
       "      <td>-0.090013</td>\n",
       "      <td>0.438307</td>\n",
       "      <td>0.133658</td>\n",
       "      <td>0.410038</td>\n",
       "      <td>1.000000</td>\n",
       "    </tr>\n",
       "  </tbody>\n",
       "</table>\n",
       "</div>"
      ],
      "text/plain": [
       "                    wait_time  expected_wait_time  delay_vs_expected  \\\n",
       "wait_time            1.000000            0.384691           0.601746   \n",
       "expected_wait_time   0.384691            1.000000          -0.504380   \n",
       "delay_vs_expected    0.601746           -0.504380           1.000000   \n",
       "dim_is_five_star    -0.233594           -0.050270          -0.175269   \n",
       "dim_is_one_star      0.305562            0.034616           0.255923   \n",
       "review_score        -0.333616           -0.052304          -0.267027   \n",
       "number_of_products  -0.019932            0.015701          -0.032218   \n",
       "number_of_sellers   -0.040906            0.024935          -0.059850   \n",
       "price                0.055057            0.076872          -0.014651   \n",
       "freight_value        0.167160            0.239141          -0.050456   \n",
       "\n",
       "                    dim_is_five_star  dim_is_one_star  review_score  \\\n",
       "wait_time                  -0.233594         0.305562     -0.333616   \n",
       "expected_wait_time         -0.050270         0.034616     -0.052304   \n",
       "delay_vs_expected          -0.175269         0.255923     -0.267027   \n",
       "dim_is_five_star            1.000000        -0.396322      0.791787   \n",
       "dim_is_one_star            -0.396322         1.000000     -0.807700   \n",
       "review_score                0.791787        -0.807700      1.000000   \n",
       "number_of_products         -0.072527         0.119955     -0.123492   \n",
       "number_of_sellers          -0.070409         0.102436     -0.116942   \n",
       "price                      -0.012929         0.044792     -0.034742   \n",
       "freight_value              -0.058843         0.082611     -0.090013   \n",
       "\n",
       "                    number_of_products  number_of_sellers     price  \\\n",
       "wait_time                    -0.019932          -0.040906  0.055057   \n",
       "expected_wait_time            0.015701           0.024935  0.076872   \n",
       "delay_vs_expected            -0.032218          -0.059850 -0.014651   \n",
       "dim_is_five_star             -0.072527          -0.070409 -0.012929   \n",
       "dim_is_one_star               0.119955           0.102436  0.044792   \n",
       "review_score                 -0.123492          -0.116942 -0.034742   \n",
       "number_of_products            1.000000           0.288560  0.153561   \n",
       "number_of_sellers             0.288560           1.000000  0.043845   \n",
       "price                         0.153561           0.043845  1.000000   \n",
       "freight_value                 0.438307           0.133658  0.410038   \n",
       "\n",
       "                    freight_value  \n",
       "wait_time                0.167160  \n",
       "expected_wait_time       0.239141  \n",
       "delay_vs_expected       -0.050456  \n",
       "dim_is_five_star        -0.058843  \n",
       "dim_is_one_star          0.082611  \n",
       "review_score            -0.090013  \n",
       "number_of_products       0.438307  \n",
       "number_of_sellers        0.133658  \n",
       "price                    0.410038  \n",
       "freight_value            1.000000  "
      ]
     },
     "execution_count": 16,
     "metadata": {},
     "output_type": "execute_result"
    }
   ],
   "source": [
    "orders.corr()"
   ]
  },
  {
   "cell_type": "markdown",
   "metadata": {},
   "source": [
    "* 😏 _Captain Obvious :_\n",
    "    * `review_score` is 100% correlated to itself \n",
    "    * and strongly correlated to `dim_is_one_star` and `dim_is_five_star`...\n",
    "* ⚠️ The two next highest correlation coefficients with respect to the `review_score` are :\n",
    "    * `wait_time` : - 34 %\n",
    "    * `delay_vs_expected` : 27 %"
   ]
  },
  {
   "cell_type": "markdown",
   "metadata": {},
   "source": [
    "## 2 - Simple regression of `review_score` against delivery duration"
   ]
  },
  {
   "cell_type": "markdown",
   "metadata": {},
   "source": [
    "👉 So, it seems that `review_score` is mostly correlated with `wait_time` (= - 34%) and `delay_vs_expected` (27%).\n",
    "\n",
    "🎨 Let's investigate these correlations  with `seaborn`"
   ]
  },
  {
   "cell_type": "markdown",
   "metadata": {},
   "source": [
    "### 2.1 Plots\n",
    "❓ In one figure, create 2 subplots, that regress `review_score` on `wait_time` and `delay_vs_expected` respectively.\n",
    "\n",
    "<u>Tips</u>:\n",
    "\n",
    "- Reduce your dataframe to a random sub-`sample of 10,000 rows` for speed purposes (a good practice in data exploration)\n",
    "- Use `DataFrame.sample()` with a fixed `random_state` to avoid changing the sample at each execution if needed\n",
    "- Use `sns.regplot()` to plot the `regression lines`\n",
    "- Add some `y_jitter` parameters to better visualize the scatterplot density\n",
    "- Limit `xlim` and `ylim` to hide outliers"
   ]
  },
  {
   "cell_type": "code",
   "execution_count": 17,
   "metadata": {
    "tags": [
     "challengify"
    ]
   },
   "outputs": [],
   "source": [
    "sample = orders.sample(10000, random_state = 100)"
   ]
  },
  {
   "cell_type": "code",
   "execution_count": 18,
   "metadata": {},
   "outputs": [
    {
     "data": {
      "text/plain": [
       "[(0.0, 6.0)]"
      ]
     },
     "execution_count": 18,
     "metadata": {},
     "output_type": "execute_result"
    },
    {
     "data": {
      "image/png": "[encoded data removed]",
      "text/plain": [
       "<Figure size 720x720 with 2 Axes>"
      ]
     },
     "metadata": {
      "needs_background": "light"
     },
     "output_type": "display_data"
    }
   ],
   "source": [
    "plt.figure(figsize = (10, 10))\n",
    "plt.subplot(2,2,1)\n",
    "a = sns.regplot(x = \"wait_time\", y = \"review_score\", data = sample, y_jitter = 0.03)\n",
    "a.set(xlim = (0,100))\n",
    "a.set(ylim = (0, 6))\n",
    "plt.subplot(2,2,2)\n",
    "b = sns.regplot(x = \"delay_vs_expected\", y = \"review_score\", data = sample, y_jitter = 0.03)\n",
    "b.set(xlim = (-50, 100))\n",
    "b.set(ylim = (0, 6))"
   ]
  },
  {
   "cell_type": "markdown",
   "metadata": {},
   "source": [
    "ℹ️ What did `regplot` do ? \n",
    "\n",
    "👉 It tried to perform a `Linear Regression` of the `review_score` vs. `wait_time` and `delay_vs_exp` <br/> *(Cf. Day 03 - Linear Regression tomorrow)*\n",
    "\n",
    "🧐 It doesn't look so interpretable, does it ?\n",
    "\n",
    "👉 You are right: we have only 5  different review scores which can be interpreted as a categorical variable with five different possible values (for example: \"very bad\", \"bad\", \"average\", \"good\" and \"very good\") that we are trying to regress against two continuous values that are `wait_time` and `delay_vs_exp`.\n",
    "\n",
    "👀 However, based on the regression lines, we can see a very intuitive pattern: the longer the waiting time and/or the delay, the lower the review score - Well, not surprising. But how fast does the review score decrease ?\n"
   ]
  },
  {
   "cell_type": "markdown",
   "metadata": {},
   "source": [
    "### 2.2 Interpretation"
   ]
  },
  {
   "cell_type": "markdown",
   "metadata": {},
   "source": [
    "❓Try to visually \"compute\" the `slope` of each curve. \n",
    "\n",
    "✍️ Write down, in plain English, how you would interpret these coefficients if you were to explain it to a non-data-educated audience."
   ]
  },
  {
   "cell_type": "markdown",
   "metadata": {
    "tags": [
     "challengify"
    ]
   },
   "source": [
    "> (my answer): a higher coefficient/steeper slope means when the x change, y change faster/bigger magnitude"
   ]
  },
  {
   "cell_type": "markdown",
   "metadata": {},
   "source": [
    "<details>\n",
    "    <summary>▸ Answer</summary>\n",
    "\n",
    "\n",
    "- `Slope wait_time ≈ -0.05` : \"For each additional day waiting for an order to be delivered, the review score on average is reduced by 0.05\"\n",
    "- `Slope delay ≈ -0.1` : \"For each additional day waiting for an order to be delivered _after the ETA_, the review score on average is reduced by 0.1\"\n",
    "\n",
    "❓ Are you surprised that the delay seems more impactful than the waiting time ? \n",
    "    \n",
    "👉If yes, think about it twice: you may be impatient to receive your order and would like a small wait time, but you would be even more disappointed to receive your package after the expected delivery date !\n",
    "        \n",
    "</details>"
   ]
  },
  {
   "cell_type": "markdown",
   "metadata": {},
   "source": [
    "### 2.3 Inferential analysis\n",
    "\n",
    "Even if we had used all 100,000 orders for these regplots, these orders represent 16 months of data after all...\n",
    "\n",
    "⚠️⚠️⚠️ **How certain** are we that these coefficients are **statistically significant**? ⚠️⚠️⚠️\n",
    "\n",
    "⚡️ <u> Questions about the statistical significance of these coefficients: </u>\n",
    "\n",
    "* Are these coefficients able to generalize well to future orders (all else being equal) ? (*Ideal answer: Yes*) \n",
    "* Are we sure that these coefficients do not simply capture random fluctuations due to the limited observation period ? (*Ideal answer: No*) \n",
    "\n",
    "🧐 We need to estimate the **`confidence interval`** around the mean value for these two slopes  :\n",
    "$$slope_{wait} = -0.05 ± \\ ?? \\ \\text{[95% interval]} $$\n",
    "$$slope_{delay} = -0.1 ± \\ ?? \\ \\text{[95% interval]} $$\n",
    "\n",
    "⭐️ Fortunately, `Seaborn` already computes this 95% confidence interval for us with a shaded blue cone around the regression line!\n",
    "\n",
    "❓Use `Seaborn` `regplot` to visualize the two confidence intervals:\n",
    "- Change the `size of your sample dataset`: \n",
    "    - Notice how the slope may change as the sample size becomes smaller. \n",
    "    - What about the confidence interval?\n",
    "- Change the `size of the confidence interval` by playing with the regplot parameter called `ci` (95% by default)"
   ]
  },
  {
   "cell_type": "code",
   "execution_count": 19,
   "metadata": {
    "tags": [
     "challengify"
    ]
   },
   "outputs": [
    {
     "data": {
      "text/plain": [
       "[(0.0, 6.0)]"
      ]
     },
     "execution_count": 19,
     "metadata": {},
     "output_type": "execute_result"
    },
    {
     "data": {
      "image/png": "[encoded data removed]",
      "text/plain": [
       "<Figure size 1080x360 with 2 Axes>"
      ]
     },
     "metadata": {
      "needs_background": "light"
     },
     "output_type": "display_data"
    }
   ],
   "source": [
    "sample = orders.sample(10000, random_state = 100)\n",
    "plt.figure(figsize = (15, 5))\n",
    "plt.subplot(1,2,1)\n",
    "a = sns.regplot(x = \"wait_time\", y = \"review_score\", data = sample, y_jitter = 0.03, ci = 95)\n",
    "a.set(xlim = (0,100))\n",
    "a.set(ylim = (0, 6))\n",
    "plt.subplot(1,2,2)\n",
    "b = sns.regplot(x = \"delay_vs_expected\", y = \"review_score\", data = sample, y_jitter = 0.03, ci = 95)\n",
    "b.set(xlim = (-50, 100))\n",
    "b.set(ylim = (0, 6))"
   ]
  },
  {
   "cell_type": "markdown",
   "metadata": {},
   "source": [
    "🔎 Interpretation:\n",
    "\n",
    "* **Null Hypothesis** $H_0$ : \"this variable does not influence the review score\", a.k.a its coefficient is equal to zero\n",
    "\n",
    "When plotting all our datapoints:\n",
    "- The 95% confidence interval for the slope does not contain the value 0.\n",
    "    - 👉 We are `95% confident that slower deliveries are associated with weaker reviews`.\n",
    "- The **`p-value`** associated with the null hypothesis \"the delivery time is almost zero\" is lower than 5%\n",
    "    - 👉 We can safely reject this null hypothesis and consider the **`alternative hypothesis`** = `\"the delivery time has an impact on the review score\"` \n",
    "\n",
    "🔥 Our findings are said to be **statistically significant**. \n",
    "\n",
    "⚠️ However, **correlation does NOT imply causality**. \n",
    "\n",
    "- It can be inherently slower to deliver certain products (e.g.heavy products)\n",
    "    - These categories of products will often have a low review_score, not matter how long their delivery time is. \n",
    "\n",
    "👉 Identifying **confounding factor** is crucial and cannot be done with a simple univariate regression. \n",
    "\n",
    "🗓 Cf. `Lecture 3 - Linear Regression` : we will talk about **`multivariate linear regression`**. \n",
    "</details>\n",
    "\n"
   ]
  },
  {
   "cell_type": "markdown",
   "metadata": {},
   "source": [
    "---\n",
    "🏁 Congratulations! \n",
    "\n",
    "🙏 Don't forget to `commit` and `push` your notebook"
   ]
  },
  {
   "cell_type": "code",
   "execution_count": null,
   "metadata": {},
   "outputs": [],
   "source": []
  }
 ],
 "metadata": {
  "kernelspec": {
   "display_name": "Python 3 (ipykernel)",
   "language": "python",
   "name": "python3"
  },
  "language_info": {
   "codemirror_mode": {
    "name": "ipython",
    "version": 3
   },
   "file_extension": ".py",
   "mimetype": "text/x-python",
   "name": "python",
   "nbconvert_exporter": "python",
   "pygments_lexer": "ipython3",
   "version": "3.8.12"
  },
  "toc": {
   "base_numbering": 1,
   "nav_menu": {},
   "number_sections": true,
   "sideBar": true,
   "skip_h1_title": false,
   "title_cell": "Table of Contents",
   "title_sidebar": "Contents",
   "toc_cell": false,
   "toc_position": {},
   "toc_section_display": true,
   "toc_window_display": false
  }
 },
 "nbformat": 4,
 "nbformat_minor": 4
}
